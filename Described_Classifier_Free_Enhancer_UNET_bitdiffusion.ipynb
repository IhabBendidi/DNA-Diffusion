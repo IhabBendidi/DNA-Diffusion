{
  "cells": [
    {
      "cell_type": "markdown",
      "metadata": {
        "id": "view-in-github",
        "colab_type": "text"
      },
      "source": [
        "<a href=\"https://colab.research.google.com/github/pinellolab/DNA-Diffusion/blob/classifier-free-diff/Described_Classifier_Free_Enhancer_UNET_bitdiffusion.ipynb\" target=\"_parent\"><img src=\"https://colab.research.google.com/assets/colab-badge.svg\" alt=\"Open In Colab\"/></a>"
      ]
    },
    {
      "cell_type": "markdown",
      "metadata": {
        "id": "0BC4oXOB86fu"
      },
      "source": [
        "DNA difussion\n",
        "- 1x4x200 inputs\n",
        "\n",
        "-  Curated dataset of 160,000 sequences, 10k per DHS NMF component, selected in such a way that each sequence is highly concentrated in a single component:\n",
        "\n",
        "- UNET needs to be optimized to rectangular shape . It's currently accepting rectangular shapes (4,200) , but it can be probably improved for our model.(less memory and better performance). We need to check on the literature examples of SOTA sequence arquitectures. We may need a hybrid.\n",
        "- This nootebook doens't have conditional inputs implemented(cell type, signal strenght , motifs)  \n",
        "  - How to add this on the UNET? concact Embeddings on the UNET  blocks.\n",
        "  - https://github.com/TeaPearce/Conditional_Diffusion_MNIST/blob/main/script.py  \n",
        "- Change the bit diffusion sampling process  to expect conditional information \n",
        "  - Should be a simple task.(Adding the information on the model)\n",
        "-How stable diffusion allows different levels of conditional \"guidance\"(how much the generation should care abount the text?). Are they adding factor to regulate the mask intensity?    "
      ]
    },
    {
      "cell_type": "markdown",
      "source": [
        "# Install Packages"
      ],
      "metadata": {
        "id": "LyfCI-vCnBl0"
      }
    },
    {
      "cell_type": "code",
      "source": [
        "!pip install einops"
      ],
      "metadata": {
        "colab": {
          "base_uri": "https://localhost:8080/"
        },
        "id": "3UC9XNB52W-A",
        "outputId": "9672d747-2708-4334-80e8-f53b5a80304b"
      },
      "execution_count": null,
      "outputs": [
        {
          "output_type": "stream",
          "name": "stdout",
          "text": [
            "Looking in indexes: https://pypi.org/simple, https://us-python.pkg.dev/colab-wheels/public/simple/\n",
            "Collecting einops\n",
            "  Downloading einops-0.5.0-py3-none-any.whl (36 kB)\n",
            "Installing collected packages: einops\n",
            "Successfully installed einops-0.5.0\n"
          ]
        }
      ]
    },
    {
      "cell_type": "code",
      "source": [
        "!pip install -Uqq ipdb\n",
        "import ipdb\n"
      ],
      "metadata": {
        "colab": {
          "base_uri": "https://localhost:8080/"
        },
        "id": "bU71ESC13Ijz",
        "outputId": "779815c2-c248-4838-c025-a3de28aa3fb7"
      },
      "execution_count": null,
      "outputs": [
        {
          "output_type": "stream",
          "name": "stdout",
          "text": [
            "\u001b[K     |████████████████████████████████| 793 kB 5.0 MB/s \n",
            "\u001b[K     |████████████████████████████████| 1.6 MB 59.0 MB/s \n",
            "\u001b[?25h  Building wheel for ipdb (setup.py) ... \u001b[?25l\u001b[?25hdone\n",
            "\u001b[31mERROR: pip's dependency resolver does not currently take into account all the packages that are installed. This behaviour is the source of the following dependency conflicts.\n",
            "google-colab 1.0.0 requires ipython~=7.9.0, but you have ipython 7.34.0 which is incompatible.\u001b[0m\n"
          ]
        }
      ]
    },
    {
      "cell_type": "markdown",
      "metadata": {
        "id": "Zu8ACwyz6Qjv"
      },
      "source": [
        "# UTILS"
      ]
    },
    {
      "cell_type": "code",
      "source": [
        "import numpy as np\n",
        "\n",
        "\n",
        "def one_hot_encode(seq, alphabet, max_seq_len):\n",
        "    \"\"\"One-hot encode a sequence.\"\"\"\n",
        "    seq_len = len(seq)\n",
        "    seq_array = np.zeros((max_seq_len, len(alphabet)))\n",
        "    for i in range(seq_len):\n",
        "        seq_array[i, alphabet.index(seq[i])] = 1\n",
        "    return seq_array"
      ],
      "metadata": {
        "id": "a4FvZvBPpW7h"
      },
      "execution_count": null,
      "outputs": []
    },
    {
      "cell_type": "code",
      "source": [
        "def encode(seq, alphabet):\n",
        "    \"\"\"Encode a sequence.\"\"\"\n",
        "    seq_len = len(seq)\n",
        "    seq_array = np.zeros(len(alphabet))\n",
        "    for i in range(seq_len):\n",
        "        seq_array[alphabet.index(seq[i])] = 1\n",
        "    \n",
        "    return seq_array"
      ],
      "metadata": {
        "id": "xXa7tljzv1GE"
      },
      "execution_count": null,
      "outputs": []
    },
    {
      "cell_type": "code",
      "execution_count": null,
      "metadata": {
        "id": "0gz-Mduj5pNU"
      },
      "outputs": [],
      "source": [
        "from torch.utils.data import DataLoader, Dataset\n",
        "import pandas as pd\n",
        "import seaborn as sns\n",
        "import torchvision.transforms as T\n",
        "import numpy as np\n",
        "from tqdm import tqdm_notebook\n",
        "\n",
        "import math\n",
        "from pathlib import Path\n",
        "from random import random\n",
        "from functools import partial\n",
        "from multiprocessing import cpu_count\n",
        "\n",
        "import torch\n",
        "from torch import nn, einsum\n",
        "from torch.special import expm1\n",
        "import torch.nn.functional as F\n",
        "from torch.utils.data import Dataset, DataLoader\n",
        "from einops import rearrange, reduce, repeat\n",
        "from einops.layers.torch import Rearrange\n",
        "\n",
        "from torch.optim import Adam, SGD\n",
        "from torchvision import transforms as T, utils\n",
        "\n",
        "from PIL import Image\n",
        "from tqdm.auto import tqdm\n",
        "\n",
        "import torch\n",
        "from torch.optim import Adam\n",
        "from torch.cuda.amp import GradScaler, autocast\n",
        "\n",
        "\n",
        "import matplotlib.pyplot as plt\n",
        "\n",
        "import seaborn as sns\n",
        "\n",
        "import gc"
      ]
    },
    {
      "cell_type": "markdown",
      "source": [
        "# Downloading Dataset"
      ],
      "metadata": {
        "id": "r0cEqs7bnYDz"
      }
    },
    {
      "cell_type": "markdown",
      "source": [
        "\n"
      ],
      "metadata": {
        "id": "88WOq-ETusIA"
      }
    },
    {
      "cell_type": "code",
      "source": [
        "!curl -L -o train_all_classifier_WM20220916.csv.gz \"https://www.dropbox.com/s/db6up7c0d4jwdp4/train_all_classifier_WM20220916.csv.gz?dl=2\"\n",
        "!gunzip train_all_classifier_WM20220916.csv.gz"
      ],
      "metadata": {
        "colab": {
          "base_uri": "https://localhost:8080/"
        },
        "id": "DpJluPbznNtx",
        "outputId": "b197d249-d6c6-495a-8983-79ff6b9b6d21"
      },
      "execution_count": null,
      "outputs": [
        {
          "output_type": "stream",
          "name": "stdout",
          "text": [
            "  % Total    % Received % Xferd  Average Speed   Time    Time     Time  Current\n",
            "                                 Dload  Upload   Total   Spent    Left  Speed\n",
            "100   146    0   146    0     0    557      0 --:--:-- --:--:-- --:--:--   555\n",
            "100   340  100   340    0     0    729      0 --:--:-- --:--:-- --:--:--   729\n",
            "100   534    0   534    0     0    622      0 --:--:-- --:--:-- --:--:--   622\n",
            "100 21.3M  100 21.3M    0     0  12.7M      0  0:00:01  0:00:01 --:--:-- 50.1M\n",
            "gzip: train_all_classifier_WM20220916.csv already exists; do you wish to overwrite (y or n)? ^C\n"
          ]
        }
      ]
    },
    {
      "cell_type": "markdown",
      "source": [
        "# Loading Dataset and Processing\n"
      ],
      "metadata": {
        "id": "MMp9RCgp1_vL"
      }
    },
    {
      "cell_type": "code",
      "source": [],
      "metadata": {
        "id": "_HD0TatS19jA"
      },
      "execution_count": null,
      "outputs": []
    },
    {
      "cell_type": "code",
      "source": [
        "# from google.colab import drive\n",
        "# drive.mount('/content/drive')"
      ],
      "metadata": {
        "id": "tXGUpZGApkel"
      },
      "execution_count": null,
      "outputs": []
    },
    {
      "cell_type": "code",
      "source": [
        "df = pd.read_csv(\"/content/train_all_classifier_WM20220916.csv\", sep=\"\\t\")\n",
        "df.head()"
      ],
      "metadata": {
        "colab": {
          "base_uri": "https://localhost:8080/",
          "height": 236
        },
        "id": "PtcMzINhpzSX",
        "outputId": "de1209ca-af9f-4672-b3b8-f5c0e5edc7fb"
      },
      "execution_count": null,
      "outputs": [
        {
          "output_type": "execute_result",
          "data": {
            "text/plain": [
              "   Unnamed: 0 seqname      start        end  DHS_width     summit  \\\n",
              "0     1241720   chr16   68843660   68843880        220   68843790   \n",
              "1     2251755    chr3  143634500  143634720        220  143634610   \n",
              "2     3136863    chr7  156928220  156928441        221  156928330   \n",
              "3     2234828    chr3  130738277  130738580        303  130738460   \n",
              "4     3060272    chr7   95784860   95785160        300   95785010   \n",
              "\n",
              "   total_signal  numsamples  numpeaks        C1  ...       C10       C11  \\\n",
              "0    122.770678          61        61  0.101076  ...  0.005301  0.016703   \n",
              "1      0.780678           1         1  0.000000  ...  0.000000  0.000000   \n",
              "2    145.069295          32        32  0.000000  ...  0.046526  0.002177   \n",
              "3     13.140313          10        10  0.000531  ...  0.000000  0.000000   \n",
              "4     17.523798           7         7  0.000000  ...  0.011486  0.000000   \n",
              "\n",
              "        C12       C13       C14       C15  C16  \\\n",
              "0  0.000000  0.000000  0.000000  0.000000  0.0   \n",
              "1  0.000000  0.008636  0.000000  0.000000  0.0   \n",
              "2  0.008559  0.000000  0.106442  0.000000  0.0   \n",
              "3  0.000000  0.000370  0.000000  0.043161  0.0   \n",
              "4  0.000000  0.000000  0.036866  0.000000  0.0   \n",
              "\n",
              "                                        raw_sequence  component  proportion  \n",
              "0  GAGGCATTGAAGCTGCTGCTGAGCCCGGGAGGTGAGAGGACGCATC...          0    0.767372  \n",
              "1  CTCTCCAACTTTTTCCCTGAGTATTGCCAGCACACTTTTAATCTCC...         12    0.869445  \n",
              "2  CTTCCTGATAAGATCTCAGGAGCTGGGCAAGTGGCTCAAGTATGTG...         13    0.585111  \n",
              "3  TGAGGAACATAAGCACATAAAATATAATCTAGAAGTTGGTGCTGAG...         14    0.961271  \n",
              "4  CCAGGTTCTGCCATTCACTTGGGGCCAGCATAAACAAGGGGGCAGG...         13    0.762448  \n",
              "\n",
              "[5 rows x 28 columns]"
            ],
            "text/html": [
              "\n",
              "  <div id=\"df-a19e4671-9861-4347-ad55-13185bb55fa4\">\n",
              "    <div class=\"colab-df-container\">\n",
              "      <div>\n",
              "<style scoped>\n",
              "    .dataframe tbody tr th:only-of-type {\n",
              "        vertical-align: middle;\n",
              "    }\n",
              "\n",
              "    .dataframe tbody tr th {\n",
              "        vertical-align: top;\n",
              "    }\n",
              "\n",
              "    .dataframe thead th {\n",
              "        text-align: right;\n",
              "    }\n",
              "</style>\n",
              "<table border=\"1\" class=\"dataframe\">\n",
              "  <thead>\n",
              "    <tr style=\"text-align: right;\">\n",
              "      <th></th>\n",
              "      <th>Unnamed: 0</th>\n",
              "      <th>seqname</th>\n",
              "      <th>start</th>\n",
              "      <th>end</th>\n",
              "      <th>DHS_width</th>\n",
              "      <th>summit</th>\n",
              "      <th>total_signal</th>\n",
              "      <th>numsamples</th>\n",
              "      <th>numpeaks</th>\n",
              "      <th>C1</th>\n",
              "      <th>...</th>\n",
              "      <th>C10</th>\n",
              "      <th>C11</th>\n",
              "      <th>C12</th>\n",
              "      <th>C13</th>\n",
              "      <th>C14</th>\n",
              "      <th>C15</th>\n",
              "      <th>C16</th>\n",
              "      <th>raw_sequence</th>\n",
              "      <th>component</th>\n",
              "      <th>proportion</th>\n",
              "    </tr>\n",
              "  </thead>\n",
              "  <tbody>\n",
              "    <tr>\n",
              "      <th>0</th>\n",
              "      <td>1241720</td>\n",
              "      <td>chr16</td>\n",
              "      <td>68843660</td>\n",
              "      <td>68843880</td>\n",
              "      <td>220</td>\n",
              "      <td>68843790</td>\n",
              "      <td>122.770678</td>\n",
              "      <td>61</td>\n",
              "      <td>61</td>\n",
              "      <td>0.101076</td>\n",
              "      <td>...</td>\n",
              "      <td>0.005301</td>\n",
              "      <td>0.016703</td>\n",
              "      <td>0.000000</td>\n",
              "      <td>0.000000</td>\n",
              "      <td>0.000000</td>\n",
              "      <td>0.000000</td>\n",
              "      <td>0.0</td>\n",
              "      <td>GAGGCATTGAAGCTGCTGCTGAGCCCGGGAGGTGAGAGGACGCATC...</td>\n",
              "      <td>0</td>\n",
              "      <td>0.767372</td>\n",
              "    </tr>\n",
              "    <tr>\n",
              "      <th>1</th>\n",
              "      <td>2251755</td>\n",
              "      <td>chr3</td>\n",
              "      <td>143634500</td>\n",
              "      <td>143634720</td>\n",
              "      <td>220</td>\n",
              "      <td>143634610</td>\n",
              "      <td>0.780678</td>\n",
              "      <td>1</td>\n",
              "      <td>1</td>\n",
              "      <td>0.000000</td>\n",
              "      <td>...</td>\n",
              "      <td>0.000000</td>\n",
              "      <td>0.000000</td>\n",
              "      <td>0.000000</td>\n",
              "      <td>0.008636</td>\n",
              "      <td>0.000000</td>\n",
              "      <td>0.000000</td>\n",
              "      <td>0.0</td>\n",
              "      <td>CTCTCCAACTTTTTCCCTGAGTATTGCCAGCACACTTTTAATCTCC...</td>\n",
              "      <td>12</td>\n",
              "      <td>0.869445</td>\n",
              "    </tr>\n",
              "    <tr>\n",
              "      <th>2</th>\n",
              "      <td>3136863</td>\n",
              "      <td>chr7</td>\n",
              "      <td>156928220</td>\n",
              "      <td>156928441</td>\n",
              "      <td>221</td>\n",
              "      <td>156928330</td>\n",
              "      <td>145.069295</td>\n",
              "      <td>32</td>\n",
              "      <td>32</td>\n",
              "      <td>0.000000</td>\n",
              "      <td>...</td>\n",
              "      <td>0.046526</td>\n",
              "      <td>0.002177</td>\n",
              "      <td>0.008559</td>\n",
              "      <td>0.000000</td>\n",
              "      <td>0.106442</td>\n",
              "      <td>0.000000</td>\n",
              "      <td>0.0</td>\n",
              "      <td>CTTCCTGATAAGATCTCAGGAGCTGGGCAAGTGGCTCAAGTATGTG...</td>\n",
              "      <td>13</td>\n",
              "      <td>0.585111</td>\n",
              "    </tr>\n",
              "    <tr>\n",
              "      <th>3</th>\n",
              "      <td>2234828</td>\n",
              "      <td>chr3</td>\n",
              "      <td>130738277</td>\n",
              "      <td>130738580</td>\n",
              "      <td>303</td>\n",
              "      <td>130738460</td>\n",
              "      <td>13.140313</td>\n",
              "      <td>10</td>\n",
              "      <td>10</td>\n",
              "      <td>0.000531</td>\n",
              "      <td>...</td>\n",
              "      <td>0.000000</td>\n",
              "      <td>0.000000</td>\n",
              "      <td>0.000000</td>\n",
              "      <td>0.000370</td>\n",
              "      <td>0.000000</td>\n",
              "      <td>0.043161</td>\n",
              "      <td>0.0</td>\n",
              "      <td>TGAGGAACATAAGCACATAAAATATAATCTAGAAGTTGGTGCTGAG...</td>\n",
              "      <td>14</td>\n",
              "      <td>0.961271</td>\n",
              "    </tr>\n",
              "    <tr>\n",
              "      <th>4</th>\n",
              "      <td>3060272</td>\n",
              "      <td>chr7</td>\n",
              "      <td>95784860</td>\n",
              "      <td>95785160</td>\n",
              "      <td>300</td>\n",
              "      <td>95785010</td>\n",
              "      <td>17.523798</td>\n",
              "      <td>7</td>\n",
              "      <td>7</td>\n",
              "      <td>0.000000</td>\n",
              "      <td>...</td>\n",
              "      <td>0.011486</td>\n",
              "      <td>0.000000</td>\n",
              "      <td>0.000000</td>\n",
              "      <td>0.000000</td>\n",
              "      <td>0.036866</td>\n",
              "      <td>0.000000</td>\n",
              "      <td>0.0</td>\n",
              "      <td>CCAGGTTCTGCCATTCACTTGGGGCCAGCATAAACAAGGGGGCAGG...</td>\n",
              "      <td>13</td>\n",
              "      <td>0.762448</td>\n",
              "    </tr>\n",
              "  </tbody>\n",
              "</table>\n",
              "<p>5 rows × 28 columns</p>\n",
              "</div>\n",
              "      <button class=\"colab-df-convert\" onclick=\"convertToInteractive('df-a19e4671-9861-4347-ad55-13185bb55fa4')\"\n",
              "              title=\"Convert this dataframe to an interactive table.\"\n",
              "              style=\"display:none;\">\n",
              "        \n",
              "  <svg xmlns=\"http://www.w3.org/2000/svg\" height=\"24px\"viewBox=\"0 0 24 24\"\n",
              "       width=\"24px\">\n",
              "    <path d=\"M0 0h24v24H0V0z\" fill=\"none\"/>\n",
              "    <path d=\"M18.56 5.44l.94 2.06.94-2.06 2.06-.94-2.06-.94-.94-2.06-.94 2.06-2.06.94zm-11 1L8.5 8.5l.94-2.06 2.06-.94-2.06-.94L8.5 2.5l-.94 2.06-2.06.94zm10 10l.94 2.06.94-2.06 2.06-.94-2.06-.94-.94-2.06-.94 2.06-2.06.94z\"/><path d=\"M17.41 7.96l-1.37-1.37c-.4-.4-.92-.59-1.43-.59-.52 0-1.04.2-1.43.59L10.3 9.45l-7.72 7.72c-.78.78-.78 2.05 0 2.83L4 21.41c.39.39.9.59 1.41.59.51 0 1.02-.2 1.41-.59l7.78-7.78 2.81-2.81c.8-.78.8-2.07 0-2.86zM5.41 20L4 18.59l7.72-7.72 1.47 1.35L5.41 20z\"/>\n",
              "  </svg>\n",
              "      </button>\n",
              "      \n",
              "  <style>\n",
              "    .colab-df-container {\n",
              "      display:flex;\n",
              "      flex-wrap:wrap;\n",
              "      gap: 12px;\n",
              "    }\n",
              "\n",
              "    .colab-df-convert {\n",
              "      background-color: #E8F0FE;\n",
              "      border: none;\n",
              "      border-radius: 50%;\n",
              "      cursor: pointer;\n",
              "      display: none;\n",
              "      fill: #1967D2;\n",
              "      height: 32px;\n",
              "      padding: 0 0 0 0;\n",
              "      width: 32px;\n",
              "    }\n",
              "\n",
              "    .colab-df-convert:hover {\n",
              "      background-color: #E2EBFA;\n",
              "      box-shadow: 0px 1px 2px rgba(60, 64, 67, 0.3), 0px 1px 3px 1px rgba(60, 64, 67, 0.15);\n",
              "      fill: #174EA6;\n",
              "    }\n",
              "\n",
              "    [theme=dark] .colab-df-convert {\n",
              "      background-color: #3B4455;\n",
              "      fill: #D2E3FC;\n",
              "    }\n",
              "\n",
              "    [theme=dark] .colab-df-convert:hover {\n",
              "      background-color: #434B5C;\n",
              "      box-shadow: 0px 1px 3px 1px rgba(0, 0, 0, 0.15);\n",
              "      filter: drop-shadow(0px 1px 2px rgba(0, 0, 0, 0.3));\n",
              "      fill: #FFFFFF;\n",
              "    }\n",
              "  </style>\n",
              "\n",
              "      <script>\n",
              "        const buttonEl =\n",
              "          document.querySelector('#df-a19e4671-9861-4347-ad55-13185bb55fa4 button.colab-df-convert');\n",
              "        buttonEl.style.display =\n",
              "          google.colab.kernel.accessAllowed ? 'block' : 'none';\n",
              "\n",
              "        async function convertToInteractive(key) {\n",
              "          const element = document.querySelector('#df-a19e4671-9861-4347-ad55-13185bb55fa4');\n",
              "          const dataTable =\n",
              "            await google.colab.kernel.invokeFunction('convertToInteractive',\n",
              "                                                     [key], {});\n",
              "          if (!dataTable) return;\n",
              "\n",
              "          const docLinkHtml = 'Like what you see? Visit the ' +\n",
              "            '<a target=\"_blank\" href=https://colab.research.google.com/notebooks/data_table.ipynb>data table notebook</a>'\n",
              "            + ' to learn more about interactive tables.';\n",
              "          element.innerHTML = '';\n",
              "          dataTable['output_type'] = 'display_data';\n",
              "          await google.colab.output.renderOutput(dataTable, element);\n",
              "          const docLink = document.createElement('div');\n",
              "          docLink.innerHTML = docLinkHtml;\n",
              "          element.appendChild(docLink);\n",
              "        }\n",
              "      </script>\n",
              "    </div>\n",
              "  </div>\n",
              "  "
            ]
          },
          "metadata": {},
          "execution_count": 93
        }
      ]
    },
    {
      "cell_type": "markdown",
      "source": [
        "- Compoenent is the celltype flag (In this dataset we have only 16 cell types)\n",
        "- raw_sequence is the 200bp accessible sequence \n",
        "- seqname-start-end  Represents the peak coordinate\n",
        "- summit is the DNA-se peak center (peak of accecibility)"
      ],
      "metadata": {
        "id": "HgNy3cBJn2Y6"
      }
    },
    {
      "cell_type": "code",
      "source": [
        "# This will be used to create the motifs analysis later on\n",
        "# This will not be used in the model directly\n",
        "save_fasta= open('fastq_train_component.fasta', 'w')\n",
        "write_fasta_component = '\\n'.join(df[['Unnamed: 0', 'raw_sequence', 'component']].apply(lambda x : f'>{x[0]}_component_{x[2]}\\n{x[1]}', axis=1).values.tolist())\n",
        "save_fasta.write(write_fasta_component)\n",
        "save_fasta.close()"
      ],
      "metadata": {
        "id": "88DyBbex2D3S"
      },
      "execution_count": null,
      "outputs": []
    },
    {
      "cell_type": "code",
      "source": [
        "len(df)"
      ],
      "metadata": {
        "colab": {
          "base_uri": "https://localhost:8080/"
        },
        "id": "uU9nYTYlqQKK",
        "outputId": "3efb66d0-00c5-4832-fcda-7532235173af"
      },
      "execution_count": null,
      "outputs": [
        {
          "output_type": "execute_result",
          "data": {
            "text/plain": [
              "160000"
            ]
          },
          "metadata": {},
          "execution_count": 13
        }
      ]
    },
    {
      "cell_type": "code",
      "source": [
        "# 16 NMF cell types\n",
        "df.component.nunique()"
      ],
      "metadata": {
        "id": "59LMGVGoPCA7",
        "outputId": "d23cafe1-3367-4ce0-b78c-0e4cc7bdf210",
        "colab": {
          "base_uri": "https://localhost:8080/"
        }
      },
      "execution_count": null,
      "outputs": [
        {
          "output_type": "execute_result",
          "data": {
            "text/plain": [
              "16"
            ]
          },
          "metadata": {},
          "execution_count": 9
        }
      ]
    },
    {
      "cell_type": "code",
      "source": [
        "cell_types = sorted(list(df.component.unique()))"
      ],
      "metadata": {
        "id": "YYkMUHv2PLQX"
      },
      "execution_count": null,
      "outputs": []
    },
    {
      "cell_type": "code",
      "source": [
        "cell_types"
      ],
      "metadata": {
        "id": "zfgNLkDvPO80",
        "outputId": "a854d676-1cd2-46e7-9954-fb2d829994d6",
        "colab": {
          "base_uri": "https://localhost:8080/"
        }
      },
      "execution_count": null,
      "outputs": [
        {
          "output_type": "execute_result",
          "data": {
            "text/plain": [
              "[0, 1, 2, 3, 4, 5, 6, 7, 8, 9, 10, 11, 12, 13, 14, 15]"
            ]
          },
          "metadata": {},
          "execution_count": 15
        }
      ]
    },
    {
      "cell_type": "code",
      "source": [
        "# motifs = sorted(open(\"drive/MyDrive/unique_motifs.txt\").read().splitlines())\n",
        "# motifs[:5]"
      ],
      "metadata": {
        "id": "n63jLu5tqAMF"
      },
      "execution_count": null,
      "outputs": []
    },
    {
      "cell_type": "code",
      "source": [
        "dna_alphabet = ['A', 'C', 'T', 'G']\n",
        "x_train_seq = np.array([one_hot_encode(x, dna_alphabet, 200) for x in tqdm_notebook(df['raw_sequence']) if 'N' not in x ])\n",
        "x_train_seq = np.array([x.T.tolist()  for x in x_train_seq])"
      ],
      "metadata": {
        "colab": {
          "base_uri": "https://localhost:8080/",
          "height": 101,
          "referenced_widgets": [
            "7072a1d9e37741c785aead55a8622bb2",
            "9e1557d53d4f49a2bcd49b51bd3f95e5",
            "f5c5d359f34640d3a990254eac3730e9",
            "b99e9a3289b44600944ae41c1c882b37",
            "605e6df4f487428788e197a980a466b2",
            "fc504829763f4118be408a086afdb42d",
            "e77fc0f8908e491a816ffa5c48e05915",
            "ed99d3918c9b4cb7a8518b447648e13c",
            "5a24d634a67f4af6ad794da555d24d24",
            "20d13033e282494fa7e23b660f8acf8f",
            "ee1054e3bfad4f3ab1352d5a348d78df"
          ]
        },
        "id": "ogRjNf4BqV0n",
        "outputId": "66403094-9f86-4121-b2a4-5e4a0b3f7454"
      },
      "execution_count": null,
      "outputs": [
        {
          "output_type": "stream",
          "name": "stderr",
          "text": [
            "/usr/local/lib/python3.7/dist-packages/ipykernel_launcher.py:2: TqdmDeprecationWarning: This function will be removed in tqdm==5.0.0\n",
            "Please use `tqdm.notebook.tqdm` instead of `tqdm.tqdm_notebook`\n",
            "  \n"
          ]
        },
        {
          "output_type": "display_data",
          "data": {
            "text/plain": [
              "  0%|          | 0/160000 [00:00<?, ?it/s]"
            ],
            "application/vnd.jupyter.widget-view+json": {
              "version_major": 2,
              "version_minor": 0,
              "model_id": "7072a1d9e37741c785aead55a8622bb2"
            }
          },
          "metadata": {}
        }
      ]
    },
    {
      "cell_type": "code",
      "source": [
        "#x_train_motif = np.array([encode(sorted(eval(x)), motifs) for x in tqdm_notebook(df['motifs'])])"
      ],
      "metadata": {
        "id": "TLyzIfPRqntI"
      },
      "execution_count": null,
      "outputs": []
    },
    {
      "cell_type": "code",
      "source": [
        "x_train_cell_type = F.one_hot(torch.from_numpy(df[\"component\"].to_numpy()), len(cell_types))"
      ],
      "metadata": {
        "id": "GQ0cwUMAPUPn"
      },
      "execution_count": null,
      "outputs": []
    },
    {
      "cell_type": "code",
      "source": [
        "x_train_seq.shape, x_train_cell_type.shape"
      ],
      "metadata": {
        "colab": {
          "base_uri": "https://localhost:8080/"
        },
        "id": "2BseusTQqzCC",
        "outputId": "a961f60a-d2f9-42f8-e422-bc63adbf224d"
      },
      "execution_count": null,
      "outputs": [
        {
          "output_type": "execute_result",
          "data": {
            "text/plain": [
              "((160000, 4, 200), torch.Size([160000, 16]))"
            ]
          },
          "metadata": {},
          "execution_count": 23
        }
      ]
    },
    {
      "cell_type": "code",
      "execution_count": null,
      "metadata": {
        "id": "itDGcqyY9qZn"
      },
      "outputs": [],
      "source": [
        "nucleotides = ['A', 'C', 'T', 'G']\n",
        "\n",
        "\n",
        "def show_seq(dataloader_seq):\n",
        "    for i_image in dataloader_seq:\n",
        "      for image in i_image:\n",
        "        image = image.numpy().reshape(4,100)\n",
        "        print (image)\n",
        "        plt.rcParams[\"figure.figsize\"] = (20,1)\n",
        "        pd_seq = pd.DataFrame(image)\n",
        "        pd_seq.index = nucleotides\n",
        "        sns.heatmap(pd_seq, linewidth=1, cmap='bwr', center=0) \n",
        "        plt.show()\n",
        "\n",
        "class SequenceDataset(Dataset):\n",
        "    'Characterizes a dataset for PyTorch'\n",
        "    def __init__(self, seqs, c, transform=None):\n",
        "      'Initialization'\n",
        "      self.seqs = seqs\n",
        "      self.c = c\n",
        "      self.transform = transform\n",
        "\n",
        "    def __len__(self):\n",
        "      'Denotes the total number of samples'\n",
        "      return len(self.seqs)\n",
        "\n",
        "    def __getitem__(self, index):\n",
        "      'Generates one sample of data'\n",
        "      # Select sample\n",
        "      image = self.seqs[index]\n",
        "\n",
        "      x = self.transform(image)\n",
        "\n",
        "      y = self.c[index]\n",
        "      \n",
        "      return x, y\n",
        "  \n",
        "\n",
        " "
      ]
    },
    {
      "cell_type": "code",
      "execution_count": null,
      "metadata": {
        "id": "Swn0sSkeq4Uy"
      },
      "outputs": [],
      "source": [
        "tf = T.Compose([T.ToTensor()])\n",
        "batch_size = 64\n",
        "seq_dataset = SequenceDataset(seqs=x_train_seq, c=x_train_cell_type, transform=tf)\n",
        "train_dl = DataLoader(seq_dataset, batch_size, shuffle=True, num_workers=2, pin_memory=True)"
      ]
    },
    {
      "cell_type": "code",
      "source": [
        "for (x, y) in train_dl:\n",
        "  print(x.shape)\n",
        "  print(y.shape)\n",
        "  break"
      ],
      "metadata": {
        "colab": {
          "base_uri": "https://localhost:8080/"
        },
        "id": "2-Q87_38xPkl",
        "outputId": "ab1650c9-be68-4fcd-ad69-33591a3461f8"
      },
      "execution_count": null,
      "outputs": [
        {
          "output_type": "stream",
          "name": "stdout",
          "text": [
            "torch.Size([64, 1, 4, 200])\n",
            "torch.Size([64, 16])\n"
          ]
        }
      ]
    },
    {
      "cell_type": "markdown",
      "metadata": {
        "id": "-6k_GYcS79Bl"
      },
      "source": [
        "### Train data examples"
      ]
    },
    {
      "cell_type": "code",
      "execution_count": null,
      "metadata": {
        "colab": {
          "base_uri": "https://localhost:8080/",
          "height": 1000
        },
        "id": "v6xLi0imrQKK",
        "outputId": "af0090b2-fd85-45e8-c2ab-df49df2f0125"
      },
      "outputs": [
        {
          "output_type": "display_data",
          "data": {
            "text/plain": [
              "<Figure size 2160x144 with 2 Axes>"
            ],
            "image/png": "[encoded data removed]"
          },
          "metadata": {
            "needs_background": "light"
          }
        },
        {
          "output_type": "display_data",
          "data": {
            "text/plain": [
              "<Figure size 2160x144 with 2 Axes>"
            ],
            "image/png": "[encoded data removed]"
          },
          "metadata": {
            "needs_background": "light"
          }
        },
        {
          "output_type": "display_data",
          "data": {
            "text/plain": [
              "<Figure size 2160x144 with 2 Axes>"
            ],
            "image/png": "[encoded data removed]"
          },
          "metadata": {
            "needs_background": "light"
          }
        },
        {
          "output_type": "display_data",
          "data": {
            "text/plain": [
              "<Figure size 2160x144 with 2 Axes>"
            ],
            "image/png": "[encoded data removed]"
          },
          "metadata": {
            "needs_background": "light"
          }
        },
        {
          "output_type": "display_data",
          "data": {
            "text/plain": [
              "<Figure size 2160x144 with 2 Axes>"
            ],
            "image/png": "[encoded data removed]"
          },
          "metadata": {
            "needs_background": "light"
          }
        },
        {
          "output_type": "display_data",
          "data": {
            "text/plain": [
              "<Figure size 2160x144 with 2 Axes>"
            ],
            "image/png": "[encoded data removed]"
          },
          "metadata": {
            "needs_background": "light"
          }
        },
        {
          "output_type": "display_data",
          "data": {
            "text/plain": [
              "<Figure size 2160x144 with 2 Axes>"
            ],
            "image/png": "[encoded data removed]"
          },
          "metadata": {
            "needs_background": "light"
          }
        },
        {
          "output_type": "display_data",
          "data": {
            "text/plain": [
              "<Figure size 2160x144 with 2 Axes>"
            ],
            "image/png": "[encoded data removed]"
          },
          "metadata": {
            "needs_background": "light"
          }
        },
        {
          "output_type": "display_data",
          "data": {
            "text/plain": [
              "<Figure size 2160x144 with 2 Axes>"
            ],
            "image/png": "[encoded data removed]"
          },
          "metadata": {
            "needs_background": "light"
          }
        },
        {
          "output_type": "display_data",
          "data": {
            "text/plain": [
              "<Figure size 2160x144 with 2 Axes>"
            ],
            "image/png": "[encoded data removed]"
          },
          "metadata": {
            "needs_background": "light"
          }
        }
      ],
      "source": [
        "\n",
        "import matplotlib.pyplot as plt\n",
        "import seaborn as sns\n",
        "import pandas as pd\n",
        "\n",
        "for x in x_train_seq[:10]:\n",
        "  df = pd.DataFrame(x)\n",
        "  plt.rcParams[\"figure.figsize\"] = (30,2)\n",
        "  sns.heatmap(df, cmap='bwr', linewidths=1)\n",
        "  plt.show()"
      ]
    },
    {
      "cell_type": "markdown",
      "metadata": {
        "id": "ewkXohuQ6sv2"
      },
      "source": [
        "# Modified bit difussion code\n",
        "\n",
        "Model was generating squared noise and expecting squared images.  \n",
        "I adjusted it to expect the shape 4,200  "
      ]
    },
    {
      "cell_type": "code",
      "source": [
        "class EmbedFC(nn.Module):\n",
        "    def __init__(self, input_dim, emb_dim):\n",
        "        super(EmbedFC, self).__init__()\n",
        "        '''\n",
        "        generic one layer FC NN for embedding things  \n",
        "        '''\n",
        "        self.input_dim = input_dim\n",
        "        layers = [\n",
        "            nn.Linear(input_dim, emb_dim),\n",
        "            nn.GELU(),\n",
        "            nn.Linear(emb_dim, emb_dim),\n",
        "        ]\n",
        "        self.model = nn.Sequential(*layers)\n",
        "\n",
        "    def forward(self, x):\n",
        "        return self.model(x)"
      ],
      "metadata": {
        "id": "ilISkplD1vsQ"
      },
      "execution_count": null,
      "outputs": []
    },
    {
      "cell_type": "code",
      "source": [],
      "metadata": {
        "id": "u1SyKlq5uixL"
      },
      "execution_count": null,
      "outputs": []
    },
    {
      "cell_type": "markdown",
      "source": [
        "## CORE MODEL tasks\n",
        "\n",
        "\n",
        "---\n",
        "\n",
        "\n",
        "\n",
        "  - Is the bitnet really being helpful?  \n",
        "  We already have the sequences converted to discrete space by using a hot encoding. But it seems that bitdiffusion is discretizing it again. Does it makes sense?\n",
        "  - Should bitdiffusion be used only for continuous --> discrete cases?\n",
        "  - Should we use 1 as the BITs representation? (We already tried it and Using BITS = 1 the models can't learn well ( BITS=1 loss =0.3 X BITS=8 loss= 0.014) \n",
        "  - How about having the diffusion add noise in the (-1,1) hot encoded sequence? We have tested it and were able to learn and overfit a small dataset (using a simple CNN2D). How does this simple model works if we use this UNET?\n",
        "  \n",
        "\n",
        "  \n",
        "##Model exploration Taks\n",
        "---\n",
        "###Can we use stable diffusion instead bit difussion ?\n",
        "\n",
        " -Consider DNA embedding models to transition to use stable diffusion   \n",
        " -Training a VQ-VAE for DNA-sequences for stable diffusion  \n",
        "    **Sammer can provide us his initial VQ-VAE**  \n",
        "\n",
        " -Working with multiple conditioning variables cell type + motifs presence (absence)  \n",
        " -Explore in-painting and outpainting of DNA sequences  \n",
        " \n",
        " **This noteebok can be used as the base for exploratory models**"
      ],
      "metadata": {
        "id": "MbM_ceM2wiez"
      }
    },
    {
      "cell_type": "code",
      "source": [],
      "metadata": {
        "id": "wKDYJir94uub"
      },
      "execution_count": null,
      "outputs": []
    },
    {
      "cell_type": "code",
      "source": [],
      "metadata": {
        "id": "PXmSm7dM411S"
      },
      "execution_count": null,
      "outputs": []
    },
    {
      "cell_type": "code",
      "execution_count": null,
      "metadata": {
        "id": "6xnqnmaTEIv-"
      },
      "outputs": [],
      "source": [
        "BITS = 8  \n",
        "\n",
        "\n",
        "def exists(x):\n",
        "    return x is not None\n",
        "\n",
        "def default(val, d):\n",
        "    if exists(val):\n",
        "        return val\n",
        "    return d() if callable(d) else d\n",
        "\n",
        "def cycle(dl):\n",
        "    while True:\n",
        "        for data in dl:\n",
        "            yield data\n",
        "\n",
        "def has_int_squareroot(num):\n",
        "    return (math.sqrt(num) ** 2) == num\n",
        "\n",
        "def num_to_groups(num, divisor):\n",
        "    groups = num // divisor\n",
        "    remainder = num % divisor\n",
        "    arr = [divisor] * groups\n",
        "    if remainder > 0:\n",
        "        arr.append(remainder)\n",
        "    return arr\n",
        "\n",
        "def convert_image_to(img_type, image):\n",
        "    if image.mode != img_type:\n",
        "        return image.convert(img_type)\n",
        "    return image\n",
        "\n",
        "def l2norm(t):\n",
        "    return F.normalize(t, dim = -1)\n",
        "\n",
        "# small helper modules\n",
        "\n",
        "\n",
        "def default(val, d):\n",
        "    if exists(val):\n",
        "        return val\n",
        "    return d() if callable(d) else d\n",
        "\n",
        "\n",
        "\n",
        "class Residual(nn.Module):\n",
        "    def __init__(self, fn):\n",
        "        super().__init__()\n",
        "        self.fn = fn\n",
        "\n",
        "    def forward(self, x, *args, **kwargs):\n",
        "        return self.fn(x, *args, **kwargs) + x\n",
        "\n",
        "def Upsample(dim, dim_out = None):\n",
        "    return nn.Sequential(\n",
        "        nn.Upsample(scale_factor = 2, mode = 'nearest'),\n",
        "        nn.Conv2d(dim, default(dim_out, dim), 3, padding = 1)\n",
        "    )\n",
        "\n",
        "def Downsample(dim, dim_out = None):\n",
        "    return nn.Conv2d(dim, default(dim_out, dim), 4, 2, 1)\n",
        "\n",
        "class LayerNorm(nn.Module):\n",
        "    def __init__(self, dim):\n",
        "        super().__init__()\n",
        "        self.g = nn.Parameter(torch.ones(1, dim, 1, 1))\n",
        "\n",
        "    def forward(self, x):\n",
        "        eps = 1e-5 if x.dtype == torch.float32 else 1e-3\n",
        "        var = torch.var(x, dim = 1, unbiased = False, keepdim = True)\n",
        "        mean = torch.mean(x, dim = 1, keepdim = True)\n",
        "        return (x - mean) * (var + eps).rsqrt() * self.g\n",
        "\n",
        "class PreNorm(nn.Module):\n",
        "    def __init__(self, dim, fn):\n",
        "        super().__init__()\n",
        "        self.fn = fn\n",
        "        self.norm = LayerNorm(dim)\n",
        "\n",
        "    def forward(self, x):\n",
        "        x = self.norm(x)\n",
        "        return self.fn(x)\n",
        "\n",
        "# positional embeds\n",
        "\n",
        "class LearnedSinusoidalPosEmb(nn.Module):\n",
        "    \"\"\" following @crowsonkb 's lead with learned sinusoidal pos emb \"\"\"\n",
        "    \"\"\" https://github.com/crowsonkb/v-diffusion-jax/blob/master/diffusion/models/danbooru_128.py#L8 \"\"\"\n",
        "\n",
        "    def __init__(self, dim):\n",
        "        super().__init__()\n",
        "        assert (dim % 2) == 0\n",
        "        half_dim = dim // 2\n",
        "        self.weights = nn.Parameter(torch.randn(half_dim))\n",
        "\n",
        "    def forward(self, x):\n",
        "        x = rearrange(x, 'b -> b 1')\n",
        "        freqs = x * rearrange(self.weights, 'd -> 1 d') * 2 * math.pi\n",
        "        fouriered = torch.cat((freqs.sin(), freqs.cos()), dim = -1)\n",
        "        fouriered = torch.cat((x, fouriered), dim = -1)\n",
        "        return fouriered\n",
        "\n",
        "# building block modules\n",
        "\n",
        "class Block(nn.Module):\n",
        "    def __init__(self, dim, dim_out, groups = 8):\n",
        "        super().__init__()\n",
        "        self.proj = nn.Conv2d(dim, dim_out, 3, padding = 1)\n",
        "        self.norm = nn.GroupNorm(groups, dim_out)\n",
        "        self.act = nn.SiLU()\n",
        "\n",
        "    def forward(self, x, scale_shift = None):\n",
        "        x = self.proj(x)\n",
        "        x = self.norm(x)\n",
        "\n",
        "        if exists(scale_shift):\n",
        "            scale, shift = scale_shift\n",
        "            x = x * (scale + 1) + shift\n",
        "\n",
        "        x = self.act(x)\n",
        "        return x\n",
        "\n",
        "class ResnetBlock(nn.Module):\n",
        "    def __init__(self, dim, dim_out, *, time_emb_dim = None, groups = 8):\n",
        "        super().__init__()\n",
        "        self.mlp = EmbedFC(time_emb_dim, dim_out * 2)\n",
        "\n",
        "        self.block1 = Block(dim, dim_out, groups = groups)\n",
        "        self.block2 = Block(dim_out, dim_out, groups = groups)\n",
        "        self.res_conv = nn.Conv2d(dim, dim_out, 1) if dim != dim_out else nn.Identity()\n",
        "\n",
        "    def forward(self, x, time_emb = None):\n",
        "\n",
        "        scale_shift = None\n",
        "        if exists(self.mlp) and exists(time_emb):\n",
        "            time_emb = self.mlp(time_emb)\n",
        "            time_emb = rearrange(time_emb, 'b c -> b c 1 1')\n",
        "            scale_shift = time_emb.chunk(2, dim = 1)\n",
        "\n",
        "        h = self.block1(x, scale_shift = scale_shift)\n",
        "\n",
        "        h = self.block2(h)\n",
        "\n",
        "        return h + self.res_conv(x)\n",
        "\n",
        "class ResnetBlockClassConditioned(ResnetBlock):\n",
        "    def __init__(self, dim, dim_out, *, num_classes, class_embed_dim, time_emb_dim = None, groups = 8):\n",
        "        super().__init__(dim=dim+class_embed_dim, dim_out=dim_out, time_emb_dim=time_emb_dim, groups=groups)\n",
        "        self.class_mlp = EmbedFC(num_classes, class_embed_dim)\n",
        "      \n",
        "\n",
        "  \n",
        "    def forward(self, x, time_emb=None, c=None, mask=None):\n",
        "        emb_c = self.class_mlp(c)\n",
        "        emb_c = emb_c.view(*emb_c.shape, 1, 1)\n",
        "        emb_c = emb_c.expand(-1, -1, x.shape[-2], x.shape[-1])\n",
        "\n",
        "        if mask:\n",
        "          # mask classes so we can jointly train condtioned and unconditioned\n",
        "          # masking with 1e-9 like we do in Transformers\n",
        "          emb_c = emb_c.masked_fill(mask, 1e-9)\n",
        "\n",
        "        x = torch.cat([x, emb_c], axis=1)\n",
        "\n",
        "        return super().forward(x, time_emb)\n",
        "\n",
        "class LinearAttention(nn.Module):\n",
        "    def __init__(self, dim, heads = 4, dim_head = 32):\n",
        "        super().__init__()\n",
        "        self.scale = dim_head ** -0.5\n",
        "        self.heads = heads\n",
        "        hidden_dim = dim_head * heads\n",
        "        self.to_qkv = nn.Conv2d(dim, hidden_dim * 3, 1, bias = False)\n",
        "\n",
        "        self.to_out = nn.Sequential(\n",
        "            nn.Conv2d(hidden_dim, dim, 1),\n",
        "            LayerNorm(dim)\n",
        "        )\n",
        "\n",
        "    def forward(self, x):\n",
        "        b, c, h, w = x.shape\n",
        "        qkv = self.to_qkv(x).chunk(3, dim = 1)\n",
        "        q, k, v = map(lambda t: rearrange(t, 'b (h c) x y -> b h c (x y)', h = self.heads), qkv)\n",
        "\n",
        "        q = q.softmax(dim = -2)\n",
        "        k = k.softmax(dim = -1)\n",
        "\n",
        "        q = q * self.scale\n",
        "        v = v / (h * w)\n",
        "\n",
        "        context = torch.einsum('b h d n, b h e n -> b h d e', k, v)\n",
        "\n",
        "        out = torch.einsum('b h d e, b h d n -> b h e n', context, q)\n",
        "        out = rearrange(out, 'b h c (x y) -> b (h c) x y', h = self.heads, x = h, y = w)\n",
        "        return self.to_out(out)\n",
        "\n",
        "class Attention(nn.Module):\n",
        "    def __init__(self, dim, heads = 4, dim_head = 32, scale = 10):\n",
        "        super().__init__()\n",
        "        self.scale = scale\n",
        "        self.heads = heads\n",
        "        hidden_dim = dim_head * heads\n",
        "        self.to_qkv = nn.Conv2d(dim, hidden_dim * 3, 1, bias = False)\n",
        "        self.to_out = nn.Conv2d(hidden_dim, dim, 1)\n",
        "\n",
        "    def forward(self, x):\n",
        "        b, c, h, w = x.shape\n",
        "        qkv = self.to_qkv(x).chunk(3, dim = 1)\n",
        "        q, k, v = map(lambda t: rearrange(t, 'b (h c) x y -> b h c (x y)', h = self.heads), qkv)\n",
        "\n",
        "        q, k = map(l2norm, (q, k))\n",
        "\n",
        "        sim = einsum('b h d i, b h d j -> b h i j', q, k) * self.scale\n",
        "        attn = sim.softmax(dim = -1)\n",
        "        out = einsum('b h i j, b h d j -> b h i d', attn, v)\n",
        "        out = rearrange(out, 'b h (x y) d -> b (h d) x y', x = h, y = w)\n",
        "        return self.to_out(out)\n",
        "\n",
        "# model\n",
        "\n",
        "def decimal_to_bits(x, bits = BITS):\n",
        "    \"\"\" expects image tensor ranging from 0 to 1, outputs bit tensor ranging from -1 to 1 \"\"\"\n",
        "    device = x.device\n",
        "\n",
        "    x = (x * 1).int().clamp(0, 1)  #x = (x * 255).int().clamp(0, 255)\n",
        "\n",
        "    mask = 2 ** torch.arange(bits - 1, -1, -1, device = device)\n",
        "    mask = rearrange(mask, 'd -> d 1 1')\n",
        "    x = rearrange(x, 'b c h w -> b c 1 h w')\n",
        "\n",
        "    bits = ((x & mask) != 0).float()\n",
        "    bits = rearrange(bits, 'b c d h w -> b (c d) h w')\n",
        "    bits = bits * 2 - 1\n",
        "    return bits\n",
        "\n",
        "def bits_to_decimal(x, bits = BITS):\n",
        "    \"\"\" expects bits from -1 to 1, outputs image tensor from 0 to 1 \"\"\"\n",
        "    device = x.device\n",
        "\n",
        "    x = (x > 0).int()\n",
        "    mask = 2 ** torch.arange(bits - 1, -1, -1, device = device, dtype = torch.int32)\n",
        "\n",
        "    mask = rearrange(mask, 'd -> d 1 1')\n",
        "    #x = rearrange(x, 'b (c d) h w -> b c d h w', d = 8)\n",
        "    x = rearrange(x, 'b (c d) h w -> b c d h w', d = BITS) #lucas\n",
        "\n",
        "    dec = reduce(x * mask, 'b c d h w -> b c h w', 'sum')\n",
        "    return (dec / 1).clamp(0., 1.)   # changed(dec / 255).clamp(0., 1.)\n",
        "\n",
        "# bit diffusion class\n",
        "\n",
        "def log(t, eps = 1e-20):\n",
        "    return torch.log(t.clamp(min = eps))\n",
        "\n",
        "def right_pad_dims_to(x, t):\n",
        "    padding_dims = x.ndim - t.ndim\n",
        "    if padding_dims <= 0:\n",
        "        return t\n",
        "    return t.view(*t.shape, *((1,) * padding_dims))\n",
        "\n",
        "def beta_linear_log_snr(t):\n",
        "    return -torch.log(expm1(1e-4 + 10 * (t ** 2)))\n",
        "\n",
        "def alpha_cosine_log_snr(t, s: float = 0.0002, ds = .00025):\n",
        "    return -log((torch.cos((t + s) / (1 + s) * math.pi * 0.5) ** -2) - 1, eps = 1e-5) # not sure if this accounts for beta being clipped to 0.999 in discrete version\n",
        "\n",
        "\n",
        "def log_snr_to_alpha_sigma(log_snr):\n",
        "    return torch.sqrt(torch.sigmoid(log_snr)), torch.sqrt(torch.sigmoid(-log_snr))\n",
        "\n",
        "\n",
        "def alpha_cosine_log_snr(t, ns=0.0002, ds=0.00025):\n",
        "  # A scheduling function based on cosine function.\n",
        "  return torch.cos(((t + ns) / (1 + ds)) * torch.pi / 2)**2\n",
        "\n",
        "\n"
      ]
    },
    {
      "cell_type": "markdown",
      "metadata": {
        "id": "JLhUnya955vM"
      },
      "source": [
        "#UNET (current input is [4,200])\n",
        "\n",
        "\n",
        "---\n",
        "\n",
        "\n",
        "## UNET tasks\n",
        "\n",
        "\n",
        "---\n",
        "\n",
        "\n",
        "\n",
        " - Refactoring the UNET bit diffusion code:  \n",
        " The UNET is not optimized to deal with 1,4,200  images. How can we make sure that we can optimize the kernels and U architecture? In the current moment, the internal kernels are U layers squared. Is it optimal?\n",
        "    \n",
        " - Optimize the UNET architecture:  \n",
        " Is this architecture enough? Can we overfit a small dataset on this current architecture? Should we add more resnet_blocks? \n",
        "\n",
        "  -- We need to check on the literature examples of SOTA sequence arquitectures. We may need a hybrid.  (check this repo : https://github.com/kundajelab/bpnet\n",
        "  )\n",
        "\n"
      ]
    },
    {
      "cell_type": "code",
      "execution_count": null,
      "metadata": {
        "id": "nAnJbKpOqvsZ"
      },
      "outputs": [],
      "source": [
        "# each layer has a time embedding AND class conditioned embedding\n",
        "\n",
        "class Unet(nn.Module):\n",
        "    def __init__(\n",
        "        self,\n",
        "        dim,\n",
        "        init_dim = None,\n",
        "        dim_mults=(1, 2, 4, 8),\n",
        "        channels = 3,\n",
        "        bits = BITS,\n",
        "        resnet_block_groups = 8,\n",
        "        learned_sinusoidal_dim = 16,\n",
        "        num_classes=10,\n",
        "        class_embed_dim=3,\n",
        "    ):\n",
        "        super().__init__()\n",
        "\n",
        "        # determine dimensions\n",
        "\n",
        "        channels *= bits #lucas\n",
        "        self.channels = channels *2\n",
        "\n",
        "        input_channels = channels * 2\n",
        "        #input_channels =16\n",
        "\n",
        "        \n",
        "        init_dim = default(init_dim, dim)\n",
        "        #self.init_conv = nn.Conv2d(input_channels, init_dim, 7, padding = 3) # original TODO for zach: is there a difference?\n",
        "        self.init_conv = nn.Conv2d(input_channels, init_dim, (7,7), padding = 3)\n",
        "\n",
        "        dims = [init_dim, *map(lambda m: dim * m, dim_mults)]\n",
        "\n",
        "\n",
        "        in_out = list(zip(dims[:-1], dims[1:]))\n",
        "        block_klass = partial(ResnetBlockClassConditioned, groups=resnet_block_groups,\n",
        "                              num_classes=num_classes, class_embed_dim=class_embed_dim)\n",
        "\n",
        "        # time embeddings\n",
        "\n",
        "        time_dim = dim * 4\n",
        "\n",
        "        sinu_pos_emb = LearnedSinusoidalPosEmb(learned_sinusoidal_dim)\n",
        "        fourier_dim = learned_sinusoidal_dim + 1\n",
        "\n",
        "        self.time_mlp = nn.Sequential(\n",
        "            sinu_pos_emb,\n",
        "            nn.Linear(fourier_dim, time_dim),\n",
        "            nn.GELU(),\n",
        "            nn.Linear(time_dim, time_dim)\n",
        "        )\n",
        "        # layers\n",
        "\n",
        "        self.downs = nn.ModuleList([])\n",
        "        self.ups = nn.ModuleList([])\n",
        "        num_resolutions = len(in_out)\n",
        "        for ind, (dim_in, dim_out) in enumerate(in_out):\n",
        "            is_last = ind >= (num_resolutions - 1)\n",
        "            self.downs.append(nn.ModuleList([\n",
        "                block_klass(dim_in, dim_in, time_emb_dim = time_dim),\n",
        "                block_klass(dim_in, dim_in, time_emb_dim = time_dim),\n",
        "                Residual(PreNorm(dim_in, LinearAttention(dim_in))),\n",
        "                Downsample(dim_in, dim_out) if not is_last else nn.Conv2d(dim_in, dim_out, 3, padding = 1)\n",
        "            ]))\n",
        "\n",
        "        mid_dim = dims[-1]\n",
        "        self.mid_block1 = block_klass(mid_dim, mid_dim, time_emb_dim = time_dim)\n",
        "        self.mid_attn = Residual(PreNorm(mid_dim, Attention(mid_dim)))\n",
        "        self.mid_block2 = block_klass(mid_dim, mid_dim, time_emb_dim = time_dim)\n",
        "\n",
        "        for ind, (dim_in, dim_out) in enumerate(reversed(in_out)):\n",
        "            is_last = ind == (len(in_out) - 1)\n",
        "\n",
        "            self.ups.append(nn.ModuleList([\n",
        "                block_klass(dim_out + dim_in, dim_out, time_emb_dim = time_dim),\n",
        "                block_klass(dim_out + dim_in, dim_out, time_emb_dim = time_dim),\n",
        "                Residual(PreNorm(dim_out, LinearAttention(dim_out))),\n",
        "                Upsample(dim_out, dim_in) if not is_last else  nn.Conv2d(dim_out, dim_in, 3, padding = 1)\n",
        "            ]))\n",
        "\n",
        "        self.final_res_block = block_klass(dim * 2, dim, time_emb_dim = time_dim)\n",
        "\n",
        "        #self.final_conv = nn.Conv2d(dim, 1, 1) #lucas\n",
        "        self.final_conv = nn.Conv2d(dim,8, 1)\n",
        "\n",
        "\n",
        "    def forward(self, x, time, c, x_self_cond = None):\n",
        "        #print(x.shape)\n",
        "        #c = torch.zeros_like(c) # removing the conditioning LUCAS\n",
        "\n",
        "        x_self_cond = default(x_self_cond, lambda: torch.zeros_like(x))\n",
        "        \n",
        "        x = torch.cat((x_self_cond, x), dim=1)\n",
        "        x = self.init_conv(x)\n",
        "        r = x.clone()\n",
        "\n",
        "        t = self.time_mlp(time)\n",
        "        \n",
        "        # todo class mask\n",
        "\n",
        "        h = []\n",
        "        for i, (block1, block2, attn, downsample) in enumerate(self.downs):\n",
        "            x = block1(x, t, c)\n",
        "            h.append(x)\n",
        "\n",
        "            x = block2(x, t, c)\n",
        "\n",
        "            x = attn(x)\n",
        "            h.append(x)\n",
        "            x = downsample(x)\n",
        "\n",
        "        x = self.mid_block1(x, t, c)\n",
        "        x = self.mid_attn(x)\n",
        "        x = self.mid_block2(x, t, c)\n",
        "\n",
        "        for block1, block2, attn, upsample in self.ups:\n",
        "            x = torch.cat((x, h.pop()), dim = 1)\n",
        "            x = block1(x, t, c)\n",
        "\n",
        "            x = torch.cat((x, h.pop()), dim = 1)\n",
        "            x = block2(x, t, c)\n",
        "            x = attn(x)\n",
        "\n",
        "            x = upsample(x)\n",
        "\n",
        "        x = torch.cat((x, r), dim = 1)\n",
        "\n",
        "        x = self.final_res_block(x, t, c)\n",
        "        \n",
        "        x = self.final_conv(x)\n",
        "        #print(x.shape, 'final')\n",
        "        return x"
      ]
    },
    {
      "cell_type": "code",
      "source": [
        "class BitDiffusion(nn.Module):\n",
        "    def __init__(\n",
        "        self,\n",
        "        model,\n",
        "        *,\n",
        "        image_size,\n",
        "        timesteps = 1000,\n",
        "        use_ddim = False,\n",
        "        noise_schedule = 'cosine',\n",
        "        time_difference = 0.,\n",
        "        bit_scale = 1.\n",
        "    ):\n",
        "        super().__init__()\n",
        "        self.model = model\n",
        "        self.channels = self.model.channels\n",
        "\n",
        "        self.image_size = image_size\n",
        "\n",
        "        if noise_schedule == \"linear\":\n",
        "            self.log_snr = beta_linear_log_snr\n",
        "        elif noise_schedule == \"cosine\":\n",
        "            self.log_snr = alpha_cosine_log_snr\n",
        "        else:\n",
        "            raise ValueError(f'invalid noise schedule {noise_schedule}')\n",
        "\n",
        "        self.bit_scale = bit_scale\n",
        "\n",
        "        self.timesteps = timesteps\n",
        "        self.use_ddim = use_ddim\n",
        "\n",
        "        # proposed in the paper, summed to time_next\n",
        "        # as a way to fix a deficiency in self-conditioning and lower FID when the number of sampling timesteps is < 400\n",
        "\n",
        "        self.time_difference = time_difference\n",
        "\n",
        "    @property\n",
        "    def device(self):\n",
        "        return next(self.model.parameters()).device\n",
        "\n",
        "    def get_sampling_timesteps(self, batch, *, device):\n",
        "        times = torch.linspace(1., 0., self.timesteps + 1, device = device)\n",
        "        times = repeat(times, 't -> b t', b = batch)\n",
        "        times = torch.stack((times[:, :-1], times[:, 1:]), dim = 0)\n",
        "        times = times.unbind(dim = -1)\n",
        "        return times\n",
        "\n",
        "    @torch.no_grad()\n",
        "    def ddpm_sample(self, shape, time_difference=None, classes=None):\n",
        "        batch, device = shape[0], self.device\n",
        "\n",
        "        time_difference = default(time_difference, self.time_difference)\n",
        "\n",
        "        time_pairs = self.get_sampling_timesteps(batch, device = device)\n",
        "\n",
        "        img = torch.randn(shape, device=device)\n",
        "\n",
        "        x_start = None\n",
        "\n",
        "        for time, time_next in tqdm(time_pairs, desc = 'sampling loop time step', total = self.timesteps):\n",
        "\n",
        "            # add the time delay\n",
        "\n",
        "            time_next = (time_next - self.time_difference).clamp(min = 0.)\n",
        "\n",
        "            noise_cond = self.log_snr(time)\n",
        "\n",
        "            # get predicted x0\n",
        "\n",
        "            x_start = self.model(img, noise_cond, classes, x_start)\n",
        "\n",
        "            # clip x0\n",
        "\n",
        "            x_start.clamp_(-self.bit_scale, self.bit_scale)\n",
        "\n",
        "            # get log(snr)\n",
        "\n",
        "            log_snr = self.log_snr(time)\n",
        "            log_snr_next = self.log_snr(time_next)\n",
        "            log_snr, log_snr_next = map(partial(right_pad_dims_to, img), (log_snr, log_snr_next))\n",
        "\n",
        "            # get alpha sigma of time and next time\n",
        "\n",
        "            alpha, sigma = log_snr_to_alpha_sigma(log_snr)\n",
        "            alpha_next, sigma_next = log_snr_to_alpha_sigma(log_snr_next)\n",
        "\n",
        "            # derive posterior mean and variance\n",
        "\n",
        "            c = -expm1(log_snr - log_snr_next)\n",
        "\n",
        "            mean = alpha_next * (img * (1 - c) / alpha + c * x_start)\n",
        "            variance = (sigma_next ** 2) * c\n",
        "            log_variance = log(variance)\n",
        "\n",
        "            # get noise\n",
        "\n",
        "            noise = torch.where(\n",
        "                rearrange(time_next > 0, 'b -> b 1 1 1'),\n",
        "                torch.randn_like(img),\n",
        "                torch.zeros_like(img)\n",
        "            )\n",
        "\n",
        "            img = mean + (0.5 * log_variance).exp() * noise\n",
        "\n",
        "        return bits_to_decimal(img)\n",
        "\n",
        "    @torch.no_grad()\n",
        "    def ddim_sample(self, shape, classes, time_difference = None):\n",
        "        batch, device = shape[0], self.device\n",
        "\n",
        "        time_difference = default(time_difference, self.time_difference)\n",
        "\n",
        "        time_pairs = self.get_sampling_timesteps(batch, device = device)\n",
        "        img = torch.randn(shape, device = device)\n",
        "\n",
        "        x_start = None\n",
        "\n",
        "        for times, times_next in tqdm(time_pairs, desc = 'sampling loop time step'):\n",
        "\n",
        "            # get times and noise levels\n",
        "\n",
        "            log_snr = self.log_snr(times)\n",
        "            log_snr_next = self.log_snr(times_next)\n",
        "\n",
        "            padded_log_snr, padded_log_snr_next = map(partial(right_pad_dims_to, img), (log_snr, log_snr_next))\n",
        "\n",
        "            alpha, sigma = log_snr_to_alpha_sigma(padded_log_snr)\n",
        "            alpha_next, sigma_next = log_snr_to_alpha_sigma(padded_log_snr_next)\n",
        "\n",
        "            # add the time delay\n",
        "\n",
        "            times_next = (times_next - time_difference).clamp(min = 0.)\n",
        "\n",
        "            # predict x0\n",
        "\n",
        "            x_start = self.model(img, log_snr, classes, x_start)\n",
        "\n",
        "            # clip x0\n",
        "\n",
        "            x_start.clamp_(-self.bit_scale, self.bit_scale)\n",
        "\n",
        "            # get predicted noise\n",
        "\n",
        "            pred_noise = (img - alpha * x_start) / sigma.clamp(min = 1e-8)\n",
        "\n",
        "            # calculate x next\n",
        "\n",
        "            img = x_start * alpha_next + pred_noise * sigma_next\n",
        "\n",
        "        return bits_to_decimal(img)\n",
        "  \n",
        "    # TODO: Need to add class conditioned weight\n",
        "    @torch.no_grad()\n",
        "    def sample(self, batch_size=16, classes=None):\n",
        "        image_size, channels = self.image_size, self.channels\n",
        "        sample_fn = self.ddpm_sample if not self.use_ddim else self.ddim_sample\n",
        "        return sample_fn((batch_size, 8, 4, image_size), classes=classes) # Lucas\n",
        " \n",
        "    def forward(self, img, class_enc, *args, **kwargs):\n",
        "        batch, c, h, w, device, img_size, = *img.shape, img.device, self.image_size\n",
        "       \n",
        "        times = torch.zeros((batch,), device = device).float().uniform_(0, 0.999)\n",
        "\n",
        "        # convert image to bit representation\n",
        "        \n",
        "        img = decimal_to_bits(img) * self.bit_scale\n",
        "      \n",
        "        noise = torch.randn_like(img)\n",
        "\n",
        "        noise_level = self.log_snr(times)\n",
        "        padded_noise_level = right_pad_dims_to(img, noise_level)\n",
        "        alpha, sigma =  log_snr_to_alpha_sigma(padded_noise_level)\n",
        "\n",
        "        noised_img = alpha * img + sigma * noise\n",
        "        \n",
        "        # if doing self-conditioning, 50% of the time, predict x_start from current set of times\n",
        "        # and condition with unet with that\n",
        "        # this technique will slow down training by 25%, but seems to lower FID significantly\n",
        "\n",
        "        self_cond = None\n",
        "        # #TODO: Does it make sense to self condition with a class?\n",
        "        # if random() < 0.5:\n",
        "        #     with torch.no_grad():\n",
        "        #         self_cond = self.model(noised_img, noise_level, class_enc).detach_()\n",
        "\n",
        "\n",
        "        pred = self.model(noised_img, noise_level, class_enc, self_cond) # BACK TO NOISE_LEVEL\n",
        "\n",
        "        #return F.mse_loss(pred, img) # LUCAS\n",
        "        return F.smooth_l1_loss(pred, img) # LUCAS ADDED"
      ],
      "metadata": {
        "id": "lF6-tGWE4Ui1"
      },
      "execution_count": null,
      "outputs": []
    },
    {
      "cell_type": "markdown",
      "metadata": {
        "id": "wMrZE6Sq7p-h"
      },
      "source": [
        "# Model creation and optimizer"
      ]
    },
    {
      "cell_type": "code",
      "source": [
        "torch.cuda.empty_cache()\n",
        "gc.collect()"
      ],
      "metadata": {
        "colab": {
          "base_uri": "https://localhost:8080/",
          "height": 34
        },
        "id": "41AygQnZIBOJ",
        "outputId": "50fe0cc8-fe3b-4a1c-e03d-198fabe444a1"
      },
      "execution_count": null,
      "outputs": [
        {
          "output_type": "execute_result",
          "data": {
            "text/plain": [
              "5291"
            ]
          },
          "metadata": {},
          "execution_count": 79
        }
      ]
    },
    {
      "cell_type": "code",
      "execution_count": null,
      "metadata": {
        "id": "2slLSArr7ACe"
      },
      "outputs": [],
      "source": [
        "model = Unet(\n",
        "    dim = 200,\n",
        "    channels = 1,\n",
        "    dim_mults = (1,2,4),\n",
        "  resnet_block_groups = 5,\n",
        "  num_classes=len(cell_types),\n",
        "  class_embed_dim=200\n",
        ").cuda()\n",
        "\n",
        "bit_diffusion = BitDiffusion(\n",
        "    model,\n",
        "    image_size = 200,\n",
        "    timesteps = 100,\n",
        "    #noise_schedule='linear'\n",
        ").cuda()\n",
        "\n",
        "\n",
        "\n",
        "adam_betas = (0.9, 0.99)\n",
        "optimizer = Adam(model.parameters(), lr=1e-4, betas = adam_betas)  \n"
      ]
    },
    {
      "cell_type": "code",
      "source": [
        "# sampled = torch.from_numpy(np.random.randint(0, len(cell_types), size=(4)))\n",
        "# random_classes = torch.zeros((4, len(cell_types)))\n",
        "# random_classes = random_classes.scatter_(1, sampled.unsqueeze(dim=1), 1).float().cuda()\n",
        "\n",
        "# sampled_images = bit_diffusion.sample(batch_size=4, classes=random_classes)\n",
        "# sampled_images"
      ],
      "metadata": {
        "id": "N1vY8AFkwa_J"
      },
      "execution_count": null,
      "outputs": []
    },
    {
      "cell_type": "code",
      "source": [
        "\n",
        "x, y = next(iter(train_dl))"
      ],
      "metadata": {
        "id": "nJA0PJ7lBjLH"
      },
      "execution_count": null,
      "outputs": []
    },
    {
      "cell_type": "code",
      "source": [
        "# with torch.no_grad():\n",
        "#   print(bit_diffusion(x.cuda(), y.float().cuda()))"
      ],
      "metadata": {
        "id": "FiYplys7BEhT"
      },
      "execution_count": null,
      "outputs": []
    },
    {
      "cell_type": "markdown",
      "metadata": {
        "id": "GFlCjE4N7vIo"
      },
      "source": [
        "#Training\n"
      ]
    },
    {
      "cell_type": "markdown",
      "source": [
        "# --tasks--\n",
        "  - Organize the training \n",
        "  - Design a mechanism to save the best models   \n",
        "  - Visualize some samples after N epochs (save it and )\n",
        "  - How to load old models\n",
        "  - Test scalibility on large datasets \n",
        "  - Adapt the current model to run on multiple GPU/cluster  \n",
        "      can we use accelerate? it looks like a easy solution"
      ],
      "metadata": {
        "id": "tbDFAJMN3Knp"
      }
    },
    {
      "cell_type": "code",
      "execution_count": null,
      "metadata": {
        "id": "jPxo5NOY3Em6"
      },
      "outputs": [],
      "source": [
        "\n",
        "# Training is stable when I accumulate gradients \n",
        "# The memory requirement is huge the batch can't be too big\n",
        "\n",
        "torch.cuda.empty_cache()\n",
        "gc.collect()\n",
        "\n",
        "\n",
        "SHOW_PROGRESS_INTERVAL = 100\n",
        "NUM_EPOCHS = 1000\n",
        "outer = tqdm(total=NUM_EPOCHS, desc='Epochs', position=1)\n",
        "inner = tqdm(total=len(train_dl), desc='Loss', position=0)\n",
        "for t in range(1000):\n",
        "  total_loss = 0\n",
        "  for step, batch in tqdm(enumerate(train_dl), desc=f\"epoch {t}\", total=len(train_dl)):\n",
        "    optimizer.zero_grad()\n",
        "    images, classes = batch\n",
        "    images = images.cuda()\n",
        "    classes = classes.float().cuda()\n",
        "\n",
        "    loss = bit_diffusion(images, classes)\n",
        "    total_loss += loss.cpu().item()\n",
        "    loss.backward()\n",
        "    # after a lot of training\n",
        "    inner.set_description_str(f\"Loss: {total_loss/(step+1)}\")\n",
        "    optimizer.step()\n",
        "    optimizer.zero_grad()\n",
        "\n",
        "    # if (step % SHOW_PROGRESS_INTERVAL ) == 0 and step != 0:\n",
        "    #   sample_bs = 4 \n",
        "    #   sampled = torch.from_numpy(np.random.randint(0, len(cell_types), size=(sample_bs)))\n",
        "    #   random_classes = torch.zeros((sample_bs, len(cell_types)))\n",
        "    #   random_classes = random_classes.scatter_(1, sampled.unsqueeze(dim=1), 1).float().cuda()\n",
        "\n",
        "    #   sampled_images = bit_diffusion.sample(batch_size=sample_bs, classes=random_classes)\n",
        "    #   random_classes = random_classes.cpu()\n",
        "    #   sampled_images = sampled_images.cpu()\n",
        "    #   for x, c in zip(sampled_images, random_classes):\n",
        "    #     df = pd.DataFrame(x.squeeze().numpy())\n",
        "    #     plt.rcParams[\"figure.figsize\"] = (30,2)\n",
        "    #     plt.title(f\"Class: {c.nonzero()}\")\n",
        "    #     sns.heatmap(df, cmap='bwr', linewidths=1)\n",
        "    #     plt.show() "
      ]
    },
    {
      "cell_type": "markdown",
      "metadata": {
        "id": "kVBPzDXA8tEW"
      },
      "source": [
        "#Sampling from the learned model"
      ]
    },
    {
      "cell_type": "code",
      "execution_count": null,
      "metadata": {
        "id": "ctmFRRHXxrtA",
        "colab": {
          "base_uri": "https://localhost:8080/",
          "height": 709,
          "referenced_widgets": [
            "bf8b4c0f12ad4efba6a6f5678c9a2e9c",
            "e2ab3b12e65141ab80c53957b5844198",
            "146657ac0f764872829803c67836398c",
            "62caee0507c74a0eb83b0cd937e908b8",
            "94ee1ef8825341efa74b5a80347e685f",
            "054e18e00a664281b3c323d2d0c7d757",
            "73ed0544a8be4eeca7230f09d193c05a",
            "3fe22201858c46d1be6e04a0ba5bacfd",
            "dfea8fdd959b4c8eb9b719e7f266f778",
            "2ed0050c22814ca8b0094b0dcfc51aa4",
            "fc80c6b44d3e46aea9dd0e860f8f9cd1"
          ]
        },
        "outputId": "d8c0bd2a-fef9-4c45-b732-73c8ee343cf1"
      },
      "outputs": [
        {
          "output_type": "display_data",
          "data": {
            "text/plain": [
              "sampling loop time step:   0%|          | 0/100 [00:00<?, ?it/s]"
            ],
            "application/vnd.jupyter.widget-view+json": {
              "version_major": 2,
              "version_minor": 0,
              "model_id": "bf8b4c0f12ad4efba6a6f5678c9a2e9c"
            }
          },
          "metadata": {}
        },
        {
          "output_type": "display_data",
          "data": {
            "text/plain": [
              "<Figure size 2160x144 with 2 Axes>"
            ],
            "image/png": "[encoded data removed]"
          },
          "metadata": {
            "needs_background": "light"
          }
        },
        {
          "output_type": "display_data",
          "data": {
            "text/plain": [
              "<Figure size 2160x144 with 2 Axes>"
            ],
            "image/png": "[encoded data removed]"
          },
          "metadata": {
            "needs_background": "light"
          }
        },
        {
          "output_type": "display_data",
          "data": {
            "text/plain": [
              "<Figure size 2160x144 with 2 Axes>"
            ],
            "image/png": "[encoded data removed]"
          },
          "metadata": {
            "needs_background": "light"
          }
        },
        {
          "output_type": "display_data",
          "data": {
            "text/plain": [
              "<Figure size 2160x144 with 2 Axes>"
            ],
            "image/png": "[encoded data removed]"
          },
          "metadata": {
            "needs_background": "light"
          }
        }
      ],
      "source": [
        "sample_bs = 4 \n",
        "sampled = torch.from_numpy(np.random.randint(0, len(cell_types), size=(sample_bs)))\n",
        "random_classes = torch.zeros((sample_bs, len(cell_types)))\n",
        "random_classes = random_classes.scatter_(1, sampled.unsqueeze(dim=1), 1).float().cuda()\n",
        "sampled_images = bit_diffusion.sample(batch_size=sample_bs, classes=random_classes)\n",
        "random_classes = random_classes.cpu()\n",
        "sampled_images = sampled_images.cpu()\n",
        "for x, c in zip(sampled_images, random_classes):\n",
        "  df = pd.DataFrame(x.squeeze().numpy())\n",
        "  plt.rcParams[\"figure.figsize\"] = (30,2)\n",
        "  plt.title(f\"Class: {c.nonzero()}\")\n",
        "  sns.heatmap(df, cmap='bwr', linewidths=1)\n",
        "  plt.show() "
      ]
    },
    {
      "cell_type": "code",
      "execution_count": null,
      "metadata": {
        "id": "38H3TwYC8zxE"
      },
      "outputs": [],
      "source": []
    },
    {
      "cell_type": "markdown",
      "metadata": {
        "id": "gGX5K56F83lT"
      },
      "source": [
        "# Generating some images to secondary evaluations"
      ]
    },
    {
      "cell_type": "markdown",
      "source": [
        "\n",
        "# Metrics Tasks\n",
        "\n",
        "\n",
        "---\n",
        "\n",
        "\n",
        " - Define internal metrics to evaluate the quality of the produced sequences \n",
        " -Implement a motif composition distance   \n",
        "  DNA motifs represent common regulation signatures. We need to make sure the synthetic sequences are rich in these motifs. We can use gimme motifs to scan 500 different motifs on our sequences. We can compare these motifs enrichments in the real sequences and the synthetic ones (We can make this same comparison by cell type)  \n",
        " \n",
        " -Implement FDI and IS \n",
        "\n",
        "\n",
        "\n",
        "---\n",
        "\n",
        "How to extract meaningfull representation from our model?\n",
        "---\n",
        " -Learning with the model (Explaining predictions, motifs extractions and visualization) \n",
        "\n"
      ],
      "metadata": {
        "id": "n1UwqPR4zWX0"
      }
    },
    {
      "cell_type": "markdown",
      "source": [
        "# Sampling new sequences from the model\n",
        "Make sure install \n",
        "!genomepy install hg38 --annotation"
      ],
      "metadata": {
        "id": "yUXGSAOB0y7U"
      }
    },
    {
      "cell_type": "code",
      "execution_count": null,
      "metadata": {
        "id": "GH4S6oWbqx8E"
      },
      "outputs": [],
      "source": [
        "# This script will sample 100 different sequeces and generate the motif composition from them.\n",
        "\n",
        "\n",
        "\n",
        "final_sequences=[]\n",
        "for n_a in tqdm_notebook(range(25)): # generating 100 sequences\n",
        "  sampled_images = bit_diffusion.sample(batch_size = 4)\n",
        "  sampled_images = sampled_images.cpu()\n",
        "  for n_b, x in enumerate(sampled_images):\n",
        "    seq_final = f'>seq_test_{n_a}_{n_b}\\n' +''.join([nucleotides[s] for s in np.argmax(x.reshape(4,200), axis=0)]) \n",
        "    final_sequences.append(seq_final)\n",
        "\n",
        "\n",
        "\n",
        "\n"
      ]
    },
    {
      "cell_type": "markdown",
      "source": [
        "# Generating Motifs plot\n",
        "\n",
        "To generate the synthetic sequences motifs install   \n",
        "  \n",
        "```! pip install gimmemotifs   # install tool  ```  \n",
        "\n",
        "```!genomepy install hg38 --annotation  #install genome  ```\n",
        "\n",
        " obs:This can take more than 10 minutes \n"
      ],
      "metadata": {
        "id": "6_XWVPom06pJ"
      }
    },
    {
      "cell_type": "code",
      "source": [
        "# Creating the database more frequent motifs\n",
        "import matplotlib.pyplot as plt\n",
        "\n",
        "\n",
        "#using the file generated previously \n",
        "!gimme scan fastq_train_component.fasta -p  JASPAR2020_vertebrates -g hg38 > train_results_motifs.bed\n",
        "\n",
        "\n",
        "\n",
        "\n",
        "df_results_seq_guime = pd.read_csv('train_results_motifs.bed', sep='\\t', skiprows=5, header=None)\n",
        "df_results_seq_guime['motifs'] = df_results_seq_guime[8].apply(lambda x: x.split( 'motif_name \"'    )[1].split('\"')[0]   )\n",
        "df_results_seq_guime_count = df_results_seq_guime.groupby('motifs').count()\n",
        "\n",
        "\n",
        "plt.rcParams[\"figure.figsize\"] = (30,2)\n",
        "\n",
        "df_results_seq_guime_count.sort_values(0, ascending=False).head(50)[0].plot.bar()\n",
        "plt.title('Top 50 MOTIFS on component 0 ')\n",
        "plt.show()"
      ],
      "metadata": {
        "id": "SITkuvsd1xux"
      },
      "execution_count": null,
      "outputs": []
    },
    {
      "cell_type": "code",
      "execution_count": null,
      "metadata": {
        "colab": {
          "base_uri": "https://localhost:8080/"
        },
        "id": "-8u7lplox1QL",
        "outputId": "0d01d893-40d5-4177-f795-0944836d6118"
      },
      "outputs": [
        {
          "name": "stdout",
          "output_type": "stream",
          "text": [
            "scanning: 100% 172/172 [00:03<00:00, 50.72 sequences/s]\n"
          ]
        }
      ],
      "source": [
        "#Creating the synthetic sequence more frequent motifs\n",
        "save_motifs_syn = open('synthetic_motifs.fasta', 'w')\n",
        "\n",
        "save_motifs_syn.write('\\n'.join(final_sequences))\n",
        "save_motifs_syn.close()\n",
        "!gimme scan synthetic_motifs.fasta -p  JASPAR2020_vertebrates -g hg38 > syn_results_motifs.bed\n",
        "df_results_syn = pd.read_csv('syn_results_motifs.bed', sep='\\t', skiprows=5, header=None)\n",
        "df_results_syn['motifs'] = df_results_syn[8].apply(lambda x: x.split( 'motif_name \"'    )[1].split('\"')[0]   )\n",
        "df_motifs_count_syn = df_results_syn.groupby('motifs').count()\n",
        "plt.rcParams[\"figure.figsize\"] = (30,2)\n",
        "df_motifs_count_syn.sort_values(0, ascending=False).head(50)[0].plot.bar()"
      ]
    },
    {
      "cell_type": "code",
      "execution_count": null,
      "metadata": {
        "id": "ttYLivMtyAJu"
      },
      "outputs": [],
      "source": []
    }
  ],
  "metadata": {
    "accelerator": "GPU",
    "colab": {
      "collapsed_sections": [
        "LyfCI-vCnBl0",
        "Zu8ACwyz6Qjv",
        "r0cEqs7bnYDz",
        "MMp9RCgp1_vL",
        "ewkXohuQ6sv2",
        "MbM_ceM2wiez",
        "JLhUnya955vM",
        "wMrZE6Sq7p-h",
        "tbDFAJMN3Knp",
        "kVBPzDXA8tEW",
        "yUXGSAOB0y7U",
        "6_XWVPom06pJ"
      ],
      "machine_shape": "hm",
      "provenance": [],
      "include_colab_link": true
    },
    "gpuClass": "standard",
    "kernelspec": {
      "display_name": "Python 3",
      "name": "python3"
    },
    "language_info": {
      "name": "python"
    },
    "widgets": {
      "application/vnd.jupyter.widget-state+json": {
        "7072a1d9e37741c785aead55a8622bb2": {
          "model_module": "@jupyter-widgets/controls",
          "model_name": "HBoxModel",
          "model_module_version": "1.5.0",
          "state": {
            "_dom_classes": [],
            "_model_module": "@jupyter-widgets/controls",
            "_model_module_version": "1.5.0",
            "_model_name": "HBoxModel",
            "_view_count": null,
            "_view_module": "@jupyter-widgets/controls",
            "_view_module_version": "1.5.0",
            "_view_name": "HBoxView",
            "box_style": "",
            "children": [
              "IPY_MODEL_9e1557d53d4f49a2bcd49b51bd3f95e5",
              "IPY_MODEL_f5c5d359f34640d3a990254eac3730e9",
              "IPY_MODEL_b99e9a3289b44600944ae41c1c882b37"
            ],
            "layout": "IPY_MODEL_605e6df4f487428788e197a980a466b2"
          }
        },
        "9e1557d53d4f49a2bcd49b51bd3f95e5": {
          "model_module": "@jupyter-widgets/controls",
          "model_name": "HTMLModel",
          "model_module_version": "1.5.0",
          "state": {
            "_dom_classes": [],
            "_model_module": "@jupyter-widgets/controls",
            "_model_module_version": "1.5.0",
            "_model_name": "HTMLModel",
            "_view_count": null,
            "_view_module": "@jupyter-widgets/controls",
            "_view_module_version": "1.5.0",
            "_view_name": "HTMLView",
            "description": "",
            "description_tooltip": null,
            "layout": "IPY_MODEL_fc504829763f4118be408a086afdb42d",
            "placeholder": "​",
            "style": "IPY_MODEL_e77fc0f8908e491a816ffa5c48e05915",
            "value": "100%"
          }
        },
        "f5c5d359f34640d3a990254eac3730e9": {
          "model_module": "@jupyter-widgets/controls",
          "model_name": "FloatProgressModel",
          "model_module_version": "1.5.0",
          "state": {
            "_dom_classes": [],
            "_model_module": "@jupyter-widgets/controls",
            "_model_module_version": "1.5.0",
            "_model_name": "FloatProgressModel",
            "_view_count": null,
            "_view_module": "@jupyter-widgets/controls",
            "_view_module_version": "1.5.0",
            "_view_name": "ProgressView",
            "bar_style": "success",
            "description": "",
            "description_tooltip": null,
            "layout": "IPY_MODEL_ed99d3918c9b4cb7a8518b447648e13c",
            "max": 160000,
            "min": 0,
            "orientation": "horizontal",
            "style": "IPY_MODEL_5a24d634a67f4af6ad794da555d24d24",
            "value": 160000
          }
        },
        "b99e9a3289b44600944ae41c1c882b37": {
          "model_module": "@jupyter-widgets/controls",
          "model_name": "HTMLModel",
          "model_module_version": "1.5.0",
          "state": {
            "_dom_classes": [],
            "_model_module": "@jupyter-widgets/controls",
            "_model_module_version": "1.5.0",
            "_model_name": "HTMLModel",
            "_view_count": null,
            "_view_module": "@jupyter-widgets/controls",
            "_view_module_version": "1.5.0",
            "_view_name": "HTMLView",
            "description": "",
            "description_tooltip": null,
            "layout": "IPY_MODEL_20d13033e282494fa7e23b660f8acf8f",
            "placeholder": "​",
            "style": "IPY_MODEL_ee1054e3bfad4f3ab1352d5a348d78df",
            "value": " 160000/160000 [00:09&lt;00:00, 16261.69it/s]"
          }
        },
        "605e6df4f487428788e197a980a466b2": {
          "model_module": "@jupyter-widgets/base",
          "model_name": "LayoutModel",
          "model_module_version": "1.2.0",
          "state": {
            "_model_module": "@jupyter-widgets/base",
            "_model_module_version": "1.2.0",
            "_model_name": "LayoutModel",
            "_view_count": null,
            "_view_module": "@jupyter-widgets/base",
            "_view_module_version": "1.2.0",
            "_view_name": "LayoutView",
            "align_content": null,
            "align_items": null,
            "align_self": null,
            "border": null,
            "bottom": null,
            "display": null,
            "flex": null,
            "flex_flow": null,
            "grid_area": null,
            "grid_auto_columns": null,
            "grid_auto_flow": null,
            "grid_auto_rows": null,
            "grid_column": null,
            "grid_gap": null,
            "grid_row": null,
            "grid_template_areas": null,
            "grid_template_columns": null,
            "grid_template_rows": null,
            "height": null,
            "justify_content": null,
            "justify_items": null,
            "left": null,
            "margin": null,
            "max_height": null,
            "max_width": null,
            "min_height": null,
            "min_width": null,
            "object_fit": null,
            "object_position": null,
            "order": null,
            "overflow": null,
            "overflow_x": null,
            "overflow_y": null,
            "padding": null,
            "right": null,
            "top": null,
            "visibility": null,
            "width": null
          }
        },
        "fc504829763f4118be408a086afdb42d": {
          "model_module": "@jupyter-widgets/base",
          "model_name": "LayoutModel",
          "model_module_version": "1.2.0",
          "state": {
            "_model_module": "@jupyter-widgets/base",
            "_model_module_version": "1.2.0",
            "_model_name": "LayoutModel",
            "_view_count": null,
            "_view_module": "@jupyter-widgets/base",
            "_view_module_version": "1.2.0",
            "_view_name": "LayoutView",
            "align_content": null,
            "align_items": null,
            "align_self": null,
            "border": null,
            "bottom": null,
            "display": null,
            "flex": null,
            "flex_flow": null,
            "grid_area": null,
            "grid_auto_columns": null,
            "grid_auto_flow": null,
            "grid_auto_rows": null,
            "grid_column": null,
            "grid_gap": null,
            "grid_row": null,
            "grid_template_areas": null,
            "grid_template_columns": null,
            "grid_template_rows": null,
            "height": null,
            "justify_content": null,
            "justify_items": null,
            "left": null,
            "margin": null,
            "max_height": null,
            "max_width": null,
            "min_height": null,
            "min_width": null,
            "object_fit": null,
            "object_position": null,
            "order": null,
            "overflow": null,
            "overflow_x": null,
            "overflow_y": null,
            "padding": null,
            "right": null,
            "top": null,
            "visibility": null,
            "width": null
          }
        },
        "e77fc0f8908e491a816ffa5c48e05915": {
          "model_module": "@jupyter-widgets/controls",
          "model_name": "DescriptionStyleModel",
          "model_module_version": "1.5.0",
          "state": {
            "_model_module": "@jupyter-widgets/controls",
            "_model_module_version": "1.5.0",
            "_model_name": "DescriptionStyleModel",
            "_view_count": null,
            "_view_module": "@jupyter-widgets/base",
            "_view_module_version": "1.2.0",
            "_view_name": "StyleView",
            "description_width": ""
          }
        },
        "ed99d3918c9b4cb7a8518b447648e13c": {
          "model_module": "@jupyter-widgets/base",
          "model_name": "LayoutModel",
          "model_module_version": "1.2.0",
          "state": {
            "_model_module": "@jupyter-widgets/base",
            "_model_module_version": "1.2.0",
            "_model_name": "LayoutModel",
            "_view_count": null,
            "_view_module": "@jupyter-widgets/base",
            "_view_module_version": "1.2.0",
            "_view_name": "LayoutView",
            "align_content": null,
            "align_items": null,
            "align_self": null,
            "border": null,
            "bottom": null,
            "display": null,
            "flex": null,
            "flex_flow": null,
            "grid_area": null,
            "grid_auto_columns": null,
            "grid_auto_flow": null,
            "grid_auto_rows": null,
            "grid_column": null,
            "grid_gap": null,
            "grid_row": null,
            "grid_template_areas": null,
            "grid_template_columns": null,
            "grid_template_rows": null,
            "height": null,
            "justify_content": null,
            "justify_items": null,
            "left": null,
            "margin": null,
            "max_height": null,
            "max_width": null,
            "min_height": null,
            "min_width": null,
            "object_fit": null,
            "object_position": null,
            "order": null,
            "overflow": null,
            "overflow_x": null,
            "overflow_y": null,
            "padding": null,
            "right": null,
            "top": null,
            "visibility": null,
            "width": null
          }
        },
        "5a24d634a67f4af6ad794da555d24d24": {
          "model_module": "@jupyter-widgets/controls",
          "model_name": "ProgressStyleModel",
          "model_module_version": "1.5.0",
          "state": {
            "_model_module": "@jupyter-widgets/controls",
            "_model_module_version": "1.5.0",
            "_model_name": "ProgressStyleModel",
            "_view_count": null,
            "_view_module": "@jupyter-widgets/base",
            "_view_module_version": "1.2.0",
            "_view_name": "StyleView",
            "bar_color": null,
            "description_width": ""
          }
        },
        "20d13033e282494fa7e23b660f8acf8f": {
          "model_module": "@jupyter-widgets/base",
          "model_name": "LayoutModel",
          "model_module_version": "1.2.0",
          "state": {
            "_model_module": "@jupyter-widgets/base",
            "_model_module_version": "1.2.0",
            "_model_name": "LayoutModel",
            "_view_count": null,
            "_view_module": "@jupyter-widgets/base",
            "_view_module_version": "1.2.0",
            "_view_name": "LayoutView",
            "align_content": null,
            "align_items": null,
            "align_self": null,
            "border": null,
            "bottom": null,
            "display": null,
            "flex": null,
            "flex_flow": null,
            "grid_area": null,
            "grid_auto_columns": null,
            "grid_auto_flow": null,
            "grid_auto_rows": null,
            "grid_column": null,
            "grid_gap": null,
            "grid_row": null,
            "grid_template_areas": null,
            "grid_template_columns": null,
            "grid_template_rows": null,
            "height": null,
            "justify_content": null,
            "justify_items": null,
            "left": null,
            "margin": null,
            "max_height": null,
            "max_width": null,
            "min_height": null,
            "min_width": null,
            "object_fit": null,
            "object_position": null,
            "order": null,
            "overflow": null,
            "overflow_x": null,
            "overflow_y": null,
            "padding": null,
            "right": null,
            "top": null,
            "visibility": null,
            "width": null
          }
        },
        "ee1054e3bfad4f3ab1352d5a348d78df": {
          "model_module": "@jupyter-widgets/controls",
          "model_name": "DescriptionStyleModel",
          "model_module_version": "1.5.0",
          "state": {
            "_model_module": "@jupyter-widgets/controls",
            "_model_module_version": "1.5.0",
            "_model_name": "DescriptionStyleModel",
            "_view_count": null,
            "_view_module": "@jupyter-widgets/base",
            "_view_module_version": "1.2.0",
            "_view_name": "StyleView",
            "description_width": ""
          }
        },
        "bf8b4c0f12ad4efba6a6f5678c9a2e9c": {
          "model_module": "@jupyter-widgets/controls",
          "model_name": "HBoxModel",
          "model_module_version": "1.5.0",
          "state": {
            "_dom_classes": [],
            "_model_module": "@jupyter-widgets/controls",
            "_model_module_version": "1.5.0",
            "_model_name": "HBoxModel",
            "_view_count": null,
            "_view_module": "@jupyter-widgets/controls",
            "_view_module_version": "1.5.0",
            "_view_name": "HBoxView",
            "box_style": "",
            "children": [
              "IPY_MODEL_e2ab3b12e65141ab80c53957b5844198",
              "IPY_MODEL_146657ac0f764872829803c67836398c",
              "IPY_MODEL_62caee0507c74a0eb83b0cd937e908b8"
            ],
            "layout": "IPY_MODEL_94ee1ef8825341efa74b5a80347e685f"
          }
        },
        "e2ab3b12e65141ab80c53957b5844198": {
          "model_module": "@jupyter-widgets/controls",
          "model_name": "HTMLModel",
          "model_module_version": "1.5.0",
          "state": {
            "_dom_classes": [],
            "_model_module": "@jupyter-widgets/controls",
            "_model_module_version": "1.5.0",
            "_model_name": "HTMLModel",
            "_view_count": null,
            "_view_module": "@jupyter-widgets/controls",
            "_view_module_version": "1.5.0",
            "_view_name": "HTMLView",
            "description": "",
            "description_tooltip": null,
            "layout": "IPY_MODEL_054e18e00a664281b3c323d2d0c7d757",
            "placeholder": "​",
            "style": "IPY_MODEL_73ed0544a8be4eeca7230f09d193c05a",
            "value": "sampling loop time step: 100%"
          }
        },
        "146657ac0f764872829803c67836398c": {
          "model_module": "@jupyter-widgets/controls",
          "model_name": "FloatProgressModel",
          "model_module_version": "1.5.0",
          "state": {
            "_dom_classes": [],
            "_model_module": "@jupyter-widgets/controls",
            "_model_module_version": "1.5.0",
            "_model_name": "FloatProgressModel",
            "_view_count": null,
            "_view_module": "@jupyter-widgets/controls",
            "_view_module_version": "1.5.0",
            "_view_name": "ProgressView",
            "bar_style": "success",
            "description": "",
            "description_tooltip": null,
            "layout": "IPY_MODEL_3fe22201858c46d1be6e04a0ba5bacfd",
            "max": 100,
            "min": 0,
            "orientation": "horizontal",
            "style": "IPY_MODEL_dfea8fdd959b4c8eb9b719e7f266f778",
            "value": 100
          }
        },
        "62caee0507c74a0eb83b0cd937e908b8": {
          "model_module": "@jupyter-widgets/controls",
          "model_name": "HTMLModel",
          "model_module_version": "1.5.0",
          "state": {
            "_dom_classes": [],
            "_model_module": "@jupyter-widgets/controls",
            "_model_module_version": "1.5.0",
            "_model_name": "HTMLModel",
            "_view_count": null,
            "_view_module": "@jupyter-widgets/controls",
            "_view_module_version": "1.5.0",
            "_view_name": "HTMLView",
            "description": "",
            "description_tooltip": null,
            "layout": "IPY_MODEL_2ed0050c22814ca8b0094b0dcfc51aa4",
            "placeholder": "​",
            "style": "IPY_MODEL_fc80c6b44d3e46aea9dd0e860f8f9cd1",
            "value": " 100/100 [00:08&lt;00:00, 11.90it/s]"
          }
        },
        "94ee1ef8825341efa74b5a80347e685f": {
          "model_module": "@jupyter-widgets/base",
          "model_name": "LayoutModel",
          "model_module_version": "1.2.0",
          "state": {
            "_model_module": "@jupyter-widgets/base",
            "_model_module_version": "1.2.0",
            "_model_name": "LayoutModel",
            "_view_count": null,
            "_view_module": "@jupyter-widgets/base",
            "_view_module_version": "1.2.0",
            "_view_name": "LayoutView",
            "align_content": null,
            "align_items": null,
            "align_self": null,
            "border": null,
            "bottom": null,
            "display": null,
            "flex": null,
            "flex_flow": null,
            "grid_area": null,
            "grid_auto_columns": null,
            "grid_auto_flow": null,
            "grid_auto_rows": null,
            "grid_column": null,
            "grid_gap": null,
            "grid_row": null,
            "grid_template_areas": null,
            "grid_template_columns": null,
            "grid_template_rows": null,
            "height": null,
            "justify_content": null,
            "justify_items": null,
            "left": null,
            "margin": null,
            "max_height": null,
            "max_width": null,
            "min_height": null,
            "min_width": null,
            "object_fit": null,
            "object_position": null,
            "order": null,
            "overflow": null,
            "overflow_x": null,
            "overflow_y": null,
            "padding": null,
            "right": null,
            "top": null,
            "visibility": null,
            "width": null
          }
        },
        "054e18e00a664281b3c323d2d0c7d757": {
          "model_module": "@jupyter-widgets/base",
          "model_name": "LayoutModel",
          "model_module_version": "1.2.0",
          "state": {
            "_model_module": "@jupyter-widgets/base",
            "_model_module_version": "1.2.0",
            "_model_name": "LayoutModel",
            "_view_count": null,
            "_view_module": "@jupyter-widgets/base",
            "_view_module_version": "1.2.0",
            "_view_name": "LayoutView",
            "align_content": null,
            "align_items": null,
            "align_self": null,
            "border": null,
            "bottom": null,
            "display": null,
            "flex": null,
            "flex_flow": null,
            "grid_area": null,
            "grid_auto_columns": null,
            "grid_auto_flow": null,
            "grid_auto_rows": null,
            "grid_column": null,
            "grid_gap": null,
            "grid_row": null,
            "grid_template_areas": null,
            "grid_template_columns": null,
            "grid_template_rows": null,
            "height": null,
            "justify_content": null,
            "justify_items": null,
            "left": null,
            "margin": null,
            "max_height": null,
            "max_width": null,
            "min_height": null,
            "min_width": null,
            "object_fit": null,
            "object_position": null,
            "order": null,
            "overflow": null,
            "overflow_x": null,
            "overflow_y": null,
            "padding": null,
            "right": null,
            "top": null,
            "visibility": null,
            "width": null
          }
        },
        "73ed0544a8be4eeca7230f09d193c05a": {
          "model_module": "@jupyter-widgets/controls",
          "model_name": "DescriptionStyleModel",
          "model_module_version": "1.5.0",
          "state": {
            "_model_module": "@jupyter-widgets/controls",
            "_model_module_version": "1.5.0",
            "_model_name": "DescriptionStyleModel",
            "_view_count": null,
            "_view_module": "@jupyter-widgets/base",
            "_view_module_version": "1.2.0",
            "_view_name": "StyleView",
            "description_width": ""
          }
        },
        "3fe22201858c46d1be6e04a0ba5bacfd": {
          "model_module": "@jupyter-widgets/base",
          "model_name": "LayoutModel",
          "model_module_version": "1.2.0",
          "state": {
            "_model_module": "@jupyter-widgets/base",
            "_model_module_version": "1.2.0",
            "_model_name": "LayoutModel",
            "_view_count": null,
            "_view_module": "@jupyter-widgets/base",
            "_view_module_version": "1.2.0",
            "_view_name": "LayoutView",
            "align_content": null,
            "align_items": null,
            "align_self": null,
            "border": null,
            "bottom": null,
            "display": null,
            "flex": null,
            "flex_flow": null,
            "grid_area": null,
            "grid_auto_columns": null,
            "grid_auto_flow": null,
            "grid_auto_rows": null,
            "grid_column": null,
            "grid_gap": null,
            "grid_row": null,
            "grid_template_areas": null,
            "grid_template_columns": null,
            "grid_template_rows": null,
            "height": null,
            "justify_content": null,
            "justify_items": null,
            "left": null,
            "margin": null,
            "max_height": null,
            "max_width": null,
            "min_height": null,
            "min_width": null,
            "object_fit": null,
            "object_position": null,
            "order": null,
            "overflow": null,
            "overflow_x": null,
            "overflow_y": null,
            "padding": null,
            "right": null,
            "top": null,
            "visibility": null,
            "width": null
          }
        },
        "dfea8fdd959b4c8eb9b719e7f266f778": {
          "model_module": "@jupyter-widgets/controls",
          "model_name": "ProgressStyleModel",
          "model_module_version": "1.5.0",
          "state": {
            "_model_module": "@jupyter-widgets/controls",
            "_model_module_version": "1.5.0",
            "_model_name": "ProgressStyleModel",
            "_view_count": null,
            "_view_module": "@jupyter-widgets/base",
            "_view_module_version": "1.2.0",
            "_view_name": "StyleView",
            "bar_color": null,
            "description_width": ""
          }
        },
        "2ed0050c22814ca8b0094b0dcfc51aa4": {
          "model_module": "@jupyter-widgets/base",
          "model_name": "LayoutModel",
          "model_module_version": "1.2.0",
          "state": {
            "_model_module": "@jupyter-widgets/base",
            "_model_module_version": "1.2.0",
            "_model_name": "LayoutModel",
            "_view_count": null,
            "_view_module": "@jupyter-widgets/base",
            "_view_module_version": "1.2.0",
            "_view_name": "LayoutView",
            "align_content": null,
            "align_items": null,
            "align_self": null,
            "border": null,
            "bottom": null,
            "display": null,
            "flex": null,
            "flex_flow": null,
            "grid_area": null,
            "grid_auto_columns": null,
            "grid_auto_flow": null,
            "grid_auto_rows": null,
            "grid_column": null,
            "grid_gap": null,
            "grid_row": null,
            "grid_template_areas": null,
            "grid_template_columns": null,
            "grid_template_rows": null,
            "height": null,
            "justify_content": null,
            "justify_items": null,
            "left": null,
            "margin": null,
            "max_height": null,
            "max_width": null,
            "min_height": null,
            "min_width": null,
            "object_fit": null,
            "object_position": null,
            "order": null,
            "overflow": null,
            "overflow_x": null,
            "overflow_y": null,
            "padding": null,
            "right": null,
            "top": null,
            "visibility": null,
            "width": null
          }
        },
        "fc80c6b44d3e46aea9dd0e860f8f9cd1": {
          "model_module": "@jupyter-widgets/controls",
          "model_name": "DescriptionStyleModel",
          "model_module_version": "1.5.0",
          "state": {
            "_model_module": "@jupyter-widgets/controls",
            "_model_module_version": "1.5.0",
            "_model_name": "DescriptionStyleModel",
            "_view_count": null,
            "_view_module": "@jupyter-widgets/base",
            "_view_module_version": "1.2.0",
            "_view_name": "StyleView",
            "description_width": ""
          }
        }
      }
    }
  },
  "nbformat": 4,
  "nbformat_minor": 0
}