{
  "cells": [
    {
      "cell_type": "markdown",
      "metadata": {
        "id": "view-in-github",
        "colab_type": "text"
      },
      "source": [
        "<a href=\"https://colab.research.google.com/github/pinellolab/DNA-Diffusion/blob/classifier-free-diff/notebooks/Classifier_Free_Enhancer_UNET_bitdiffusion.ipynb\" target=\"_parent\"><img src=\"https://colab.research.google.com/assets/colab-badge.svg\" alt=\"Open In Colab\"/></a>"
      ]
    },
    {
      "cell_type": "markdown",
      "metadata": {
        "id": "0BC4oXOB86fu"
      },
      "source": [
        "DNA difussion\n",
        "- 4,200 inputs\n",
        "- ~~Current dataset are less than 1k enhancers from the cell k562~~\n",
        "-  Curated dataset of 160,000 sequences, 10k per DHS NMF component, selected in such a way that each sequence is highly concentrated in a single component:\n",
        "\n",
        "- UNET needs to be optimized to rectangular shape . It's currently accepting rectangular shapes (4,200) , but it can be probably improved for our model.(less memory and better performance). We need to check on the literature examples of SOTA sequence arquitectures. We may need a hybrid.\n",
        "- This nootebook doens't have conditional inputs implemented(cell type, signal strenght , motifs)  \n",
        "  - How to add this on the UNET? concact Embeddings on the UNET  blocks.\n",
        "  - https://github.com/TeaPearce/Conditional_Diffusion_MNIST/blob/main/script.py  \n",
        "- Change the bit diffusion sampling process  to expect conditional information \n",
        "  - Should be a simple task.(Adding the information on the model)\n",
        "-How stable diffusion allows different levels of conditional \"guidance\"(how much the generation should care abount the text?). Are they adding factor to regulate the mask intensity?    "
      ]
    },
    {
      "cell_type": "code",
      "source": [
        "!pip install einops"
      ],
      "metadata": {
        "colab": {
          "base_uri": "https://localhost:8080/"
        },
        "id": "3UC9XNB52W-A",
        "outputId": "8bdd45df-8454-47af-dd5b-ffb0d913ebf6"
      },
      "execution_count": 1,
      "outputs": [
        {
          "output_type": "stream",
          "name": "stdout",
          "text": [
            "Looking in indexes: https://pypi.org/simple, https://us-python.pkg.dev/colab-wheels/public/simple/\n",
            "Collecting einops\n",
            "  Downloading einops-0.4.1-py3-none-any.whl (28 kB)\n",
            "Installing collected packages: einops\n",
            "Successfully installed einops-0.4.1\n"
          ]
        }
      ]
    },
    {
      "cell_type": "code",
      "source": [
        "!pip install -Uqq ipdb\n",
        "import ipdb\n"
      ],
      "metadata": {
        "id": "bU71ESC13Ijz",
        "outputId": "b4d6a111-e5be-4486-9260-cfdacbba6181",
        "colab": {
          "base_uri": "https://localhost:8080/"
        }
      },
      "execution_count": 2,
      "outputs": [
        {
          "output_type": "stream",
          "name": "stdout",
          "text": [
            "\u001b[K     |████████████████████████████████| 793 kB 7.6 MB/s \n",
            "\u001b[K     |████████████████████████████████| 1.6 MB 54.3 MB/s \n",
            "\u001b[?25h  Building wheel for ipdb (setup.py) ... \u001b[?25l\u001b[?25hdone\n",
            "\u001b[31mERROR: pip's dependency resolver does not currently take into account all the packages that are installed. This behaviour is the source of the following dependency conflicts.\n",
            "google-colab 1.0.0 requires ipython~=7.9.0, but you have ipython 7.34.0 which is incompatible.\u001b[0m\n"
          ]
        }
      ]
    },
    {
      "cell_type": "markdown",
      "metadata": {
        "id": "Zu8ACwyz6Qjv"
      },
      "source": [
        "# UTILS"
      ]
    },
    {
      "cell_type": "code",
      "source": [
        "import numpy as np\n",
        "\n",
        "\n",
        "def one_hot_encode(seq, alphabet, max_seq_len):\n",
        "    \"\"\"One-hot encode a sequence.\"\"\"\n",
        "    seq_len = len(seq)\n",
        "    seq_array = np.zeros((max_seq_len, len(alphabet)))\n",
        "    for i in range(seq_len):\n",
        "        seq_array[i, alphabet.index(seq[i])] = 1\n",
        "    return seq_array"
      ],
      "metadata": {
        "id": "a4FvZvBPpW7h"
      },
      "execution_count": 3,
      "outputs": []
    },
    {
      "cell_type": "code",
      "source": [
        "def encode(seq, alphabet):\n",
        "    \"\"\"Encode a sequence.\"\"\"\n",
        "    seq_len = len(seq)\n",
        "    seq_array = np.zeros(len(alphabet))\n",
        "    for i in range(seq_len):\n",
        "        seq_array[alphabet.index(seq[i])] = 1\n",
        "    \n",
        "    return seq_array"
      ],
      "metadata": {
        "id": "xXa7tljzv1GE"
      },
      "execution_count": 47,
      "outputs": []
    },
    {
      "cell_type": "code",
      "execution_count": 50,
      "metadata": {
        "id": "0gz-Mduj5pNU"
      },
      "outputs": [],
      "source": [
        "from torch.utils.data import DataLoader, Dataset\n",
        "import pandas as pd\n",
        "import seaborn as sns\n",
        "import torchvision.transforms as T\n",
        "import numpy as np\n",
        "from tqdm import tqdm_notebook\n",
        "\n",
        "import math\n",
        "from pathlib import Path\n",
        "from random import random\n",
        "from functools import partial\n",
        "from multiprocessing import cpu_count\n",
        "\n",
        "import torch\n",
        "from torch import nn, einsum\n",
        "from torch.special import expm1\n",
        "import torch.nn.functional as F\n",
        "from torch.utils.data import Dataset, DataLoader\n",
        "from einops import rearrange, reduce, repeat\n",
        "from einops.layers.torch import Rearrange\n",
        "\n",
        "from torch.optim import Adam, SGD\n",
        "from torchvision import transforms as T, utils\n",
        "\n",
        "from PIL import Image\n",
        "from tqdm.auto import tqdm\n",
        "\n",
        "import torch\n",
        "from torch.optim import Adam\n",
        "from torch.cuda.amp import GradScaler, autocast\n",
        "\n",
        "\n",
        "import matplotlib.pyplot as plt\n",
        "\n",
        "import seaborn as sns\n",
        "\n",
        "import gc"
      ]
    },
    {
      "cell_type": "code",
      "source": [
        "from google.colab import drive\n",
        "drive.mount('/content/drive')"
      ],
      "metadata": {
        "colab": {
          "base_uri": "https://localhost:8080/"
        },
        "id": "tXGUpZGApkel",
        "outputId": "4b2140b3-ec9e-4421-90dc-9e1d5d80aea8"
      },
      "execution_count": 51,
      "outputs": [
        {
          "output_type": "stream",
          "name": "stdout",
          "text": [
            "Drive already mounted at /content/drive; to attempt to forcibly remount, call drive.mount(\"/content/drive\", force_remount=True).\n"
          ]
        }
      ]
    },
    {
      "cell_type": "code",
      "source": [
        "df = pd.read_csv(\"drive/MyDrive/train_all_classifier_WM20220916_motifs.csv\")\n",
        "df.head()"
      ],
      "metadata": {
        "colab": {
          "base_uri": "https://localhost:8080/",
          "height": 438
        },
        "id": "PtcMzINhpzSX",
        "outputId": "e7355de6-4448-4f44-865f-34cb2ed61c1c"
      },
      "execution_count": 52,
      "outputs": [
        {
          "output_type": "execute_result",
          "data": {
            "text/plain": [
              "   Unnamed: 0 seqname     start       end  DHS_width    summit  total_signal  \\\n",
              "0     1241720   chr16  68843660  68843880        220  68843790    122.770678   \n",
              "1     1124917   chr15  72473720  72474120        400  72473970    242.533059   \n",
              "2      754551   chr12  71664400  71664660        260  71664490     14.193427   \n",
              "3     3064486    chr7  99408260  99408462        202  99408430      2.894580   \n",
              "4     2375321    chr4  45121563  45122006        443  45121830      1.051410   \n",
              "\n",
              "   numsamples  numpeaks        C1  ...       C11       C12  C13       C14  \\\n",
              "0          61        61  0.101076  ...  0.016703  0.000000  0.0  0.000000   \n",
              "1          76        76  0.117062  ...  0.000000  0.001324  0.0  0.017049   \n",
              "2           9         9  0.014616  ...  0.000000  0.000000  0.0  0.000000   \n",
              "3           2         2  0.002637  ...  0.000000  0.000000  0.0  0.000000   \n",
              "4           1         1  0.001646  ...  0.000000  0.000000  0.0  0.000000   \n",
              "\n",
              "        C15       C16                                       raw_sequence  \\\n",
              "0  0.000000  0.000000  GAGGCATTGAAGCTGCTGCTGAGCCCGGGAGGTGAGAGGACGCATC...   \n",
              "1  0.000000  0.000000  TTACAACAGGTTTCCATCAGTAGCCAAAGCAACAGAAATTTTAGCT...   \n",
              "2  0.002570  0.001304  CTCACGATTAAGGCACGCCTGCCTCGATTGTCCAGCCTCTGCCAGA...   \n",
              "3  0.000911  0.000000  CGGAGAAGCGCATCCTAGATCCGGCTTTCTAGGCCGGCGAGGACCC...   \n",
              "4  0.000000  0.000000  AATTGCTGATTTCTGATTTTTGAGTCACAACTAGCATAATGACAAG...   \n",
              "\n",
              "   component  proportion                                             motifs  \n",
              "0          0    0.767372  ['MA0062.2_Gabpa', 'MA0506.1_NRF1', 'MA0076.2_...  \n",
              "1          0    0.702348  ['MA0062.2_Gabpa', 'MA0509.1_Rfx1', 'MA0471.1_...  \n",
              "2          0    0.790468                                                 []  \n",
              "3          0    0.600578                 ['MA0146.2_Zfx', 'MA0686.1_SPDEF']  \n",
              "4          0    0.703915  ['MA0711.1_OTX1', 'MA0712.1_OTX2', 'MA0891.1_G...  \n",
              "\n",
              "[5 rows x 29 columns]"
            ],
            "text/html": [
              "\n",
              "  <div id=\"df-1989ae8a-95f2-4979-a683-349550c690b7\">\n",
              "    <div class=\"colab-df-container\">\n",
              "      <div>\n",
              "<style scoped>\n",
              "    .dataframe tbody tr th:only-of-type {\n",
              "        vertical-align: middle;\n",
              "    }\n",
              "\n",
              "    .dataframe tbody tr th {\n",
              "        vertical-align: top;\n",
              "    }\n",
              "\n",
              "    .dataframe thead th {\n",
              "        text-align: right;\n",
              "    }\n",
              "</style>\n",
              "<table border=\"1\" class=\"dataframe\">\n",
              "  <thead>\n",
              "    <tr style=\"text-align: right;\">\n",
              "      <th></th>\n",
              "      <th>Unnamed: 0</th>\n",
              "      <th>seqname</th>\n",
              "      <th>start</th>\n",
              "      <th>end</th>\n",
              "      <th>DHS_width</th>\n",
              "      <th>summit</th>\n",
              "      <th>total_signal</th>\n",
              "      <th>numsamples</th>\n",
              "      <th>numpeaks</th>\n",
              "      <th>C1</th>\n",
              "      <th>...</th>\n",
              "      <th>C11</th>\n",
              "      <th>C12</th>\n",
              "      <th>C13</th>\n",
              "      <th>C14</th>\n",
              "      <th>C15</th>\n",
              "      <th>C16</th>\n",
              "      <th>raw_sequence</th>\n",
              "      <th>component</th>\n",
              "      <th>proportion</th>\n",
              "      <th>motifs</th>\n",
              "    </tr>\n",
              "  </thead>\n",
              "  <tbody>\n",
              "    <tr>\n",
              "      <th>0</th>\n",
              "      <td>1241720</td>\n",
              "      <td>chr16</td>\n",
              "      <td>68843660</td>\n",
              "      <td>68843880</td>\n",
              "      <td>220</td>\n",
              "      <td>68843790</td>\n",
              "      <td>122.770678</td>\n",
              "      <td>61</td>\n",
              "      <td>61</td>\n",
              "      <td>0.101076</td>\n",
              "      <td>...</td>\n",
              "      <td>0.016703</td>\n",
              "      <td>0.000000</td>\n",
              "      <td>0.0</td>\n",
              "      <td>0.000000</td>\n",
              "      <td>0.000000</td>\n",
              "      <td>0.000000</td>\n",
              "      <td>GAGGCATTGAAGCTGCTGCTGAGCCCGGGAGGTGAGAGGACGCATC...</td>\n",
              "      <td>0</td>\n",
              "      <td>0.767372</td>\n",
              "      <td>['MA0062.2_Gabpa', 'MA0506.1_NRF1', 'MA0076.2_...</td>\n",
              "    </tr>\n",
              "    <tr>\n",
              "      <th>1</th>\n",
              "      <td>1124917</td>\n",
              "      <td>chr15</td>\n",
              "      <td>72473720</td>\n",
              "      <td>72474120</td>\n",
              "      <td>400</td>\n",
              "      <td>72473970</td>\n",
              "      <td>242.533059</td>\n",
              "      <td>76</td>\n",
              "      <td>76</td>\n",
              "      <td>0.117062</td>\n",
              "      <td>...</td>\n",
              "      <td>0.000000</td>\n",
              "      <td>0.001324</td>\n",
              "      <td>0.0</td>\n",
              "      <td>0.017049</td>\n",
              "      <td>0.000000</td>\n",
              "      <td>0.000000</td>\n",
              "      <td>TTACAACAGGTTTCCATCAGTAGCCAAAGCAACAGAAATTTTAGCT...</td>\n",
              "      <td>0</td>\n",
              "      <td>0.702348</td>\n",
              "      <td>['MA0062.2_Gabpa', 'MA0509.1_Rfx1', 'MA0471.1_...</td>\n",
              "    </tr>\n",
              "    <tr>\n",
              "      <th>2</th>\n",
              "      <td>754551</td>\n",
              "      <td>chr12</td>\n",
              "      <td>71664400</td>\n",
              "      <td>71664660</td>\n",
              "      <td>260</td>\n",
              "      <td>71664490</td>\n",
              "      <td>14.193427</td>\n",
              "      <td>9</td>\n",
              "      <td>9</td>\n",
              "      <td>0.014616</td>\n",
              "      <td>...</td>\n",
              "      <td>0.000000</td>\n",
              "      <td>0.000000</td>\n",
              "      <td>0.0</td>\n",
              "      <td>0.000000</td>\n",
              "      <td>0.002570</td>\n",
              "      <td>0.001304</td>\n",
              "      <td>CTCACGATTAAGGCACGCCTGCCTCGATTGTCCAGCCTCTGCCAGA...</td>\n",
              "      <td>0</td>\n",
              "      <td>0.790468</td>\n",
              "      <td>[]</td>\n",
              "    </tr>\n",
              "    <tr>\n",
              "      <th>3</th>\n",
              "      <td>3064486</td>\n",
              "      <td>chr7</td>\n",
              "      <td>99408260</td>\n",
              "      <td>99408462</td>\n",
              "      <td>202</td>\n",
              "      <td>99408430</td>\n",
              "      <td>2.894580</td>\n",
              "      <td>2</td>\n",
              "      <td>2</td>\n",
              "      <td>0.002637</td>\n",
              "      <td>...</td>\n",
              "      <td>0.000000</td>\n",
              "      <td>0.000000</td>\n",
              "      <td>0.0</td>\n",
              "      <td>0.000000</td>\n",
              "      <td>0.000911</td>\n",
              "      <td>0.000000</td>\n",
              "      <td>CGGAGAAGCGCATCCTAGATCCGGCTTTCTAGGCCGGCGAGGACCC...</td>\n",
              "      <td>0</td>\n",
              "      <td>0.600578</td>\n",
              "      <td>['MA0146.2_Zfx', 'MA0686.1_SPDEF']</td>\n",
              "    </tr>\n",
              "    <tr>\n",
              "      <th>4</th>\n",
              "      <td>2375321</td>\n",
              "      <td>chr4</td>\n",
              "      <td>45121563</td>\n",
              "      <td>45122006</td>\n",
              "      <td>443</td>\n",
              "      <td>45121830</td>\n",
              "      <td>1.051410</td>\n",
              "      <td>1</td>\n",
              "      <td>1</td>\n",
              "      <td>0.001646</td>\n",
              "      <td>...</td>\n",
              "      <td>0.000000</td>\n",
              "      <td>0.000000</td>\n",
              "      <td>0.0</td>\n",
              "      <td>0.000000</td>\n",
              "      <td>0.000000</td>\n",
              "      <td>0.000000</td>\n",
              "      <td>AATTGCTGATTTCTGATTTTTGAGTCACAACTAGCATAATGACAAG...</td>\n",
              "      <td>0</td>\n",
              "      <td>0.703915</td>\n",
              "      <td>['MA0711.1_OTX1', 'MA0712.1_OTX2', 'MA0891.1_G...</td>\n",
              "    </tr>\n",
              "  </tbody>\n",
              "</table>\n",
              "<p>5 rows × 29 columns</p>\n",
              "</div>\n",
              "      <button class=\"colab-df-convert\" onclick=\"convertToInteractive('df-1989ae8a-95f2-4979-a683-349550c690b7')\"\n",
              "              title=\"Convert this dataframe to an interactive table.\"\n",
              "              style=\"display:none;\">\n",
              "        \n",
              "  <svg xmlns=\"http://www.w3.org/2000/svg\" height=\"24px\"viewBox=\"0 0 24 24\"\n",
              "       width=\"24px\">\n",
              "    <path d=\"M0 0h24v24H0V0z\" fill=\"none\"/>\n",
              "    <path d=\"M18.56 5.44l.94 2.06.94-2.06 2.06-.94-2.06-.94-.94-2.06-.94 2.06-2.06.94zm-11 1L8.5 8.5l.94-2.06 2.06-.94-2.06-.94L8.5 2.5l-.94 2.06-2.06.94zm10 10l.94 2.06.94-2.06 2.06-.94-2.06-.94-.94-2.06-.94 2.06-2.06.94z\"/><path d=\"M17.41 7.96l-1.37-1.37c-.4-.4-.92-.59-1.43-.59-.52 0-1.04.2-1.43.59L10.3 9.45l-7.72 7.72c-.78.78-.78 2.05 0 2.83L4 21.41c.39.39.9.59 1.41.59.51 0 1.02-.2 1.41-.59l7.78-7.78 2.81-2.81c.8-.78.8-2.07 0-2.86zM5.41 20L4 18.59l7.72-7.72 1.47 1.35L5.41 20z\"/>\n",
              "  </svg>\n",
              "      </button>\n",
              "      \n",
              "  <style>\n",
              "    .colab-df-container {\n",
              "      display:flex;\n",
              "      flex-wrap:wrap;\n",
              "      gap: 12px;\n",
              "    }\n",
              "\n",
              "    .colab-df-convert {\n",
              "      background-color: #E8F0FE;\n",
              "      border: none;\n",
              "      border-radius: 50%;\n",
              "      cursor: pointer;\n",
              "      display: none;\n",
              "      fill: #1967D2;\n",
              "      height: 32px;\n",
              "      padding: 0 0 0 0;\n",
              "      width: 32px;\n",
              "    }\n",
              "\n",
              "    .colab-df-convert:hover {\n",
              "      background-color: #E2EBFA;\n",
              "      box-shadow: 0px 1px 2px rgba(60, 64, 67, 0.3), 0px 1px 3px 1px rgba(60, 64, 67, 0.15);\n",
              "      fill: #174EA6;\n",
              "    }\n",
              "\n",
              "    [theme=dark] .colab-df-convert {\n",
              "      background-color: #3B4455;\n",
              "      fill: #D2E3FC;\n",
              "    }\n",
              "\n",
              "    [theme=dark] .colab-df-convert:hover {\n",
              "      background-color: #434B5C;\n",
              "      box-shadow: 0px 1px 3px 1px rgba(0, 0, 0, 0.15);\n",
              "      filter: drop-shadow(0px 1px 2px rgba(0, 0, 0, 0.3));\n",
              "      fill: #FFFFFF;\n",
              "    }\n",
              "  </style>\n",
              "\n",
              "      <script>\n",
              "        const buttonEl =\n",
              "          document.querySelector('#df-1989ae8a-95f2-4979-a683-349550c690b7 button.colab-df-convert');\n",
              "        buttonEl.style.display =\n",
              "          google.colab.kernel.accessAllowed ? 'block' : 'none';\n",
              "\n",
              "        async function convertToInteractive(key) {\n",
              "          const element = document.querySelector('#df-1989ae8a-95f2-4979-a683-349550c690b7');\n",
              "          const dataTable =\n",
              "            await google.colab.kernel.invokeFunction('convertToInteractive',\n",
              "                                                     [key], {});\n",
              "          if (!dataTable) return;\n",
              "\n",
              "          const docLinkHtml = 'Like what you see? Visit the ' +\n",
              "            '<a target=\"_blank\" href=https://colab.research.google.com/notebooks/data_table.ipynb>data table notebook</a>'\n",
              "            + ' to learn more about interactive tables.';\n",
              "          element.innerHTML = '';\n",
              "          dataTable['output_type'] = 'display_data';\n",
              "          await google.colab.output.renderOutput(dataTable, element);\n",
              "          const docLink = document.createElement('div');\n",
              "          docLink.innerHTML = docLinkHtml;\n",
              "          element.appendChild(docLink);\n",
              "        }\n",
              "      </script>\n",
              "    </div>\n",
              "  </div>\n",
              "  "
            ]
          },
          "metadata": {},
          "execution_count": 52
        }
      ]
    },
    {
      "cell_type": "markdown",
      "source": [
        "Motifs were generated only looking at sequences with component == 0\n",
        "We will only trian on 10k sequences"
      ],
      "metadata": {
        "id": "ZMnqaZwzqI_P"
      }
    },
    {
      "cell_type": "code",
      "source": [
        "len(df)"
      ],
      "metadata": {
        "colab": {
          "base_uri": "https://localhost:8080/"
        },
        "id": "uU9nYTYlqQKK",
        "outputId": "c5033dab-d76a-46f7-a9bd-8f189e36b006"
      },
      "execution_count": 53,
      "outputs": [
        {
          "output_type": "execute_result",
          "data": {
            "text/plain": [
              "10000"
            ]
          },
          "metadata": {},
          "execution_count": 53
        }
      ]
    },
    {
      "cell_type": "code",
      "source": [
        "motifs = sorted(open(\"drive/MyDrive/unique_motifs.txt\").read().splitlines())\n",
        "motifs[:5]"
      ],
      "metadata": {
        "colab": {
          "base_uri": "https://localhost:8080/"
        },
        "id": "n63jLu5tqAMF",
        "outputId": "fbeb911b-71ed-4028-f3b0-9cc25b7739b3"
      },
      "execution_count": 54,
      "outputs": [
        {
          "output_type": "execute_result",
          "data": {
            "text/plain": [
              "['MA0002.2_RUNX1',\n",
              " 'MA0003.3_TFAP2A',\n",
              " 'MA0007.3_Ar',\n",
              " 'MA0009.2_T',\n",
              " 'MA0014.3_PAX5']"
            ]
          },
          "metadata": {},
          "execution_count": 54
        }
      ]
    },
    {
      "cell_type": "markdown",
      "metadata": {
        "id": "lSJLdC8c8Z1W"
      },
      "source": [
        "#Processing samples to train"
      ]
    },
    {
      "cell_type": "code",
      "source": [
        "dna_alphabet = ['A', 'C', 'T', 'G']\n",
        "x_train_seq = np.array([one_hot_encode(x, dna_alphabet, 200) for x in tqdm_notebook(df['raw_sequence']) if 'N' not in x ])"
      ],
      "metadata": {
        "colab": {
          "base_uri": "https://localhost:8080/",
          "height": 103,
          "referenced_widgets": [
            "03bd02738c544c5592f0aab798c2b2cf",
            "bb0afd4435b14db388b3d02624ba0685",
            "9953dbec8ed34739812b9faaed727938",
            "20eb871ed8ea4f2caa1d0b533f385a55",
            "8b005aea5a944512a2235f112609c183",
            "3f013c94d4e040bea6b57feb28d9a213",
            "c7ca20400bc54e449cad1fd61e906e14",
            "fffd7cf145b24c249ad148ba34efb2c4",
            "08b20f87279a4c489112e8e83ff7034b",
            "3b9ff79419ac410a8fee5a9b42960fcd",
            "79929f3a7e0d49f48d10ec0377c189e7"
          ]
        },
        "id": "ogRjNf4BqV0n",
        "outputId": "851b3d73-246e-4b88-d203-0aff558374e4"
      },
      "execution_count": 55,
      "outputs": [
        {
          "output_type": "stream",
          "name": "stderr",
          "text": [
            "/usr/local/lib/python3.7/dist-packages/ipykernel_launcher.py:2: TqdmDeprecationWarning: This function will be removed in tqdm==5.0.0\n",
            "Please use `tqdm.notebook.tqdm` instead of `tqdm.tqdm_notebook`\n",
            "  \n"
          ]
        },
        {
          "output_type": "display_data",
          "data": {
            "text/plain": [
              "  0%|          | 0/10000 [00:00<?, ?it/s]"
            ],
            "application/vnd.jupyter.widget-view+json": {
              "version_major": 2,
              "version_minor": 0,
              "model_id": "03bd02738c544c5592f0aab798c2b2cf"
            }
          },
          "metadata": {}
        }
      ]
    },
    {
      "cell_type": "code",
      "source": [
        "x_train_motif = np.array([encode(sorted(eval(x)), motifs) for x in tqdm_notebook(df['motifs'])])"
      ],
      "metadata": {
        "colab": {
          "base_uri": "https://localhost:8080/",
          "height": 103,
          "referenced_widgets": [
            "3e106a492880486f961c4063cf928a7f",
            "66a4b73224d6445f8bdce2c3922a852d",
            "7916e4878a69458dbdd7acdd56aab873",
            "521a6775c6e447af8577e9abbe6253ab",
            "72e12279304d4aeeb30e0a07266c7bd6",
            "fa1901b615174feca40f2ead853c52b9",
            "e4ed08ecfbcf4a8a95ecc421737fb26b",
            "0e13139dd9284ac3bf9511c539444eee",
            "b6692833074b4a99b787f21a9c375614",
            "f4075ca33df748c68162ec4b8130c1ac",
            "66bd4e7094584e7d99c2baf87bf46b59"
          ]
        },
        "id": "TLyzIfPRqntI",
        "outputId": "b18e1e75-c44e-4994-e55c-9da645802c9c"
      },
      "execution_count": 56,
      "outputs": [
        {
          "output_type": "stream",
          "name": "stderr",
          "text": [
            "/usr/local/lib/python3.7/dist-packages/ipykernel_launcher.py:1: TqdmDeprecationWarning: This function will be removed in tqdm==5.0.0\n",
            "Please use `tqdm.notebook.tqdm` instead of `tqdm.tqdm_notebook`\n",
            "  \"\"\"Entry point for launching an IPython kernel.\n"
          ]
        },
        {
          "output_type": "display_data",
          "data": {
            "text/plain": [
              "  0%|          | 0/10000 [00:00<?, ?it/s]"
            ],
            "application/vnd.jupyter.widget-view+json": {
              "version_major": 2,
              "version_minor": 0,
              "model_id": "3e106a492880486f961c4063cf928a7f"
            }
          },
          "metadata": {}
        }
      ]
    },
    {
      "cell_type": "code",
      "source": [
        "x_train_seq.shape, x_train_motif.shape"
      ],
      "metadata": {
        "colab": {
          "base_uri": "https://localhost:8080/"
        },
        "id": "2BseusTQqzCC",
        "outputId": "290767cc-ec1c-4c20-bcbd-e3c579e17278"
      },
      "execution_count": 57,
      "outputs": [
        {
          "output_type": "execute_result",
          "data": {
            "text/plain": [
              "((10000, 200, 4), (10000, 540))"
            ]
          },
          "metadata": {},
          "execution_count": 57
        }
      ]
    },
    {
      "cell_type": "code",
      "execution_count": 61,
      "metadata": {
        "id": "itDGcqyY9qZn"
      },
      "outputs": [],
      "source": [
        "\n",
        "\n",
        "nucleotides = ['A', 'C', 'T', 'G']\n",
        "\n",
        "\n",
        "def show_seq(dataloader_seq):\n",
        "    for i_image in dataloader_seq:\n",
        "      for image in i_image:\n",
        "        image = image.numpy().reshape(4,100)\n",
        "        print (image)\n",
        "        plt.rcParams[\"figure.figsize\"] = (20,1)\n",
        "        pd_seq = pd.DataFrame(image)\n",
        "        pd_seq.index = nucleotides\n",
        "        sns.heatmap(pd_seq, linewidth=1, cmap='bwr', center=0) \n",
        "        plt.show()\n",
        "\n",
        "class SequenceDataset(Dataset):\n",
        "    'Characterizes a dataset for PyTorch'\n",
        "    def __init__(self, seqs, motifs, num_classes, max_len, transform=None):\n",
        "      'Initialization'\n",
        "      self.seqs = seqs\n",
        "      self.motifs = motifs\n",
        "      self.num_classes = num_classes\n",
        "      self.transform = transform\n",
        "      self.max_len = max_len\n",
        "\n",
        "    def __len__(self):\n",
        "      'Denotes the total number of samples'\n",
        "      return len(self.seqs)\n",
        "\n",
        "    def __getitem__(self, index):\n",
        "      'Generates one sample of data'\n",
        "      # Select sample\n",
        "      image = self.seqs[index]\n",
        "\n",
        "      x = self.transform(image)\n",
        "\n",
        "      y = self.motifs[index]\n",
        "      \n",
        "      return x, y\n",
        "  \n",
        "\n",
        " "
      ]
    },
    {
      "cell_type": "code",
      "execution_count": 98,
      "metadata": {
        "id": "Swn0sSkeq4Uy"
      },
      "outputs": [],
      "source": [
        "tf = T.Compose([T.ToTensor()])\n",
        "batch_size = 16\n",
        "seq_dataset = SequenceDataset(seqs=x_train_seq, motifs=x_train_motif, num_classes=len(motifs), max_len=len(motifs), transform=tf)\n",
        "train_dl = DataLoader(seq_dataset, batch_size, shuffle=True, num_workers=2, pin_memory=True)"
      ]
    },
    {
      "cell_type": "code",
      "source": [
        "for (x, y) in train_dl:\n",
        "  print(x.shape)\n",
        "  print(y.shape)\n",
        "  break"
      ],
      "metadata": {
        "colab": {
          "base_uri": "https://localhost:8080/"
        },
        "id": "2-Q87_38xPkl",
        "outputId": "d757dbb9-5cb0-4020-ce7c-d6da91fbca1b"
      },
      "execution_count": 99,
      "outputs": [
        {
          "output_type": "stream",
          "name": "stdout",
          "text": [
            "torch.Size([16, 1, 200, 4])\n",
            "torch.Size([16, 540])\n"
          ]
        }
      ]
    },
    {
      "cell_type": "markdown",
      "metadata": {
        "id": "-6k_GYcS79Bl"
      },
      "source": [
        "### Train data examples"
      ]
    },
    {
      "cell_type": "code",
      "execution_count": 100,
      "metadata": {
        "colab": {
          "base_uri": "https://localhost:8080/",
          "height": 1000
        },
        "id": "v6xLi0imrQKK",
        "outputId": "aace970e-cb28-426b-aa24-cd44e63e008f"
      },
      "outputs": [
        {
          "output_type": "display_data",
          "data": {
            "text/plain": [
              "<Figure size 2160x144 with 2 Axes>"
            ],
            "image/png": "[encoded data removed]"
          },
          "metadata": {
            "needs_background": "light"
          }
        },
        {
          "output_type": "display_data",
          "data": {
            "text/plain": [
              "<Figure size 2160x144 with 2 Axes>"
            ],
            "image/png": "[encoded data removed]"
          },
          "metadata": {
            "needs_background": "light"
          }
        },
        {
          "output_type": "display_data",
          "data": {
            "text/plain": [
              "<Figure size 2160x144 with 2 Axes>"
            ],
            "image/png": "[encoded data removed]"
          },
          "metadata": {
            "needs_background": "light"
          }
        },
        {
          "output_type": "display_data",
          "data": {
            "text/plain": [
              "<Figure size 2160x144 with 2 Axes>"
            ],
            "image/png": "[encoded data removed]"
          },
          "metadata": {
            "needs_background": "light"
          }
        },
        {
          "output_type": "display_data",
          "data": {
            "text/plain": [
              "<Figure size 2160x144 with 2 Axes>"
            ],
            "image/png": "[encoded data removed]"
          },
          "metadata": {
            "needs_background": "light"
          }
        },
        {
          "output_type": "display_data",
          "data": {
            "text/plain": [
              "<Figure size 2160x144 with 2 Axes>"
            ],
            "image/png": "[encoded data removed]"
          },
          "metadata": {
            "needs_background": "light"
          }
        },
        {
          "output_type": "display_data",
          "data": {
            "text/plain": [
              "<Figure size 2160x144 with 2 Axes>"
            ],
            "image/png": "[encoded data removed]"
          },
          "metadata": {
            "needs_background": "light"
          }
        },
        {
          "output_type": "display_data",
          "data": {
            "text/plain": [
              "<Figure size 2160x144 with 2 Axes>"
            ],
            "image/png": "[encoded data removed]"
          },
          "metadata": {
            "needs_background": "light"
          }
        },
        {
          "output_type": "display_data",
          "data": {
            "text/plain": [
              "<Figure size 2160x144 with 2 Axes>"
            ],
            "image/png": "[encoded data removed]"
          },
          "metadata": {
            "needs_background": "light"
          }
        },
        {
          "output_type": "display_data",
          "data": {
            "text/plain": [
              "<Figure size 2160x144 with 2 Axes>"
            ],
            "image/png": "[encoded data removed]"
          },
          "metadata": {
            "needs_background": "light"
          }
        }
      ],
      "source": [
        "\n",
        "import matplotlib.pyplot as plt\n",
        "import seaborn as sns\n",
        "import pandas as pd\n",
        "\n",
        "for x in x_train_seq[:10]:\n",
        "  df = pd.DataFrame(x.T)\n",
        "  plt.rcParams[\"figure.figsize\"] = (30,2)\n",
        "  sns.heatmap(df, cmap='bwr', linewidths=1)\n",
        "  plt.show()"
      ]
    },
    {
      "cell_type": "code",
      "source": [
        "x.shape"
      ],
      "metadata": {
        "id": "LN9G7IiVGCoj",
        "outputId": "8c47b3ae-8dbd-4447-97bd-7cd4ebadd974",
        "colab": {
          "base_uri": "https://localhost:8080/"
        }
      },
      "execution_count": 101,
      "outputs": [
        {
          "output_type": "execute_result",
          "data": {
            "text/plain": [
              "(200, 4)"
            ]
          },
          "metadata": {},
          "execution_count": 101
        }
      ]
    },
    {
      "cell_type": "markdown",
      "metadata": {
        "id": "ewkXohuQ6sv2"
      },
      "source": [
        "# Modified bit difussion code\n",
        "\n",
        "Model was generating squared noise and expecting squared images.  \n",
        "I adjusted it to expect the shape 4,200  "
      ]
    },
    {
      "cell_type": "markdown",
      "source": [
        "TODO"
      ],
      "metadata": {
        "id": "Gcz8_l_Q6ZX4"
      }
    },
    {
      "cell_type": "code",
      "source": [
        "class EmbedFC(nn.Module):\n",
        "    def __init__(self, input_dim, emb_dim):\n",
        "        super(EmbedFC, self).__init__()\n",
        "        '''\n",
        "        generic one layer FC NN for embedding things  \n",
        "        '''\n",
        "        self.input_dim = input_dim\n",
        "        layers = [\n",
        "            nn.Linear(input_dim, emb_dim),\n",
        "            nn.GELU(),\n",
        "            nn.Linear(emb_dim, emb_dim),\n",
        "        ]\n",
        "        self.model = nn.Sequential(*layers)\n",
        "\n",
        "    def forward(self, x):\n",
        "        x = x.view(-1, self.input_dim)\n",
        "        return self.model(x)"
      ],
      "metadata": {
        "id": "ilISkplD1vsQ"
      },
      "execution_count": 102,
      "outputs": []
    },
    {
      "cell_type": "code",
      "execution_count": 103,
      "metadata": {
        "id": "6xnqnmaTEIv-"
      },
      "outputs": [],
      "source": [
        "BITS = 1  # the bit representation is perfect after this transformation\n",
        "\n",
        "\n",
        "def exists(x):\n",
        "    return x is not None\n",
        "\n",
        "def default(val, d):\n",
        "    if exists(val):\n",
        "        return val\n",
        "    return d() if callable(d) else d\n",
        "\n",
        "def cycle(dl):\n",
        "    while True:\n",
        "        for data in dl:\n",
        "            yield data\n",
        "\n",
        "def has_int_squareroot(num):\n",
        "    return (math.sqrt(num) ** 2) == num\n",
        "\n",
        "def num_to_groups(num, divisor):\n",
        "    groups = num // divisor\n",
        "    remainder = num % divisor\n",
        "    arr = [divisor] * groups\n",
        "    if remainder > 0:\n",
        "        arr.append(remainder)\n",
        "    return arr\n",
        "\n",
        "def convert_image_to(img_type, image):\n",
        "    if image.mode != img_type:\n",
        "        return image.convert(img_type)\n",
        "    return image\n",
        "\n",
        "def l2norm(t):\n",
        "    return F.normalize(t, dim = -1)\n",
        "\n",
        "# small helper modules\n",
        "\n",
        "\n",
        "def default(val, d):\n",
        "    if exists(val):\n",
        "        return val\n",
        "    return d() if callable(d) else d\n",
        "\n",
        "\n",
        "\n",
        "class Residual(nn.Module):\n",
        "    def __init__(self, fn):\n",
        "        super().__init__()\n",
        "        self.fn = fn\n",
        "\n",
        "    def forward(self, x, *args, **kwargs):\n",
        "        return self.fn(x, *args, **kwargs) + x\n",
        "\n",
        "def Upsample(dim, dim_out = None):\n",
        "    return nn.Sequential(\n",
        "        nn.Upsample(scale_factor = 2, mode = 'nearest'),\n",
        "        nn.Conv2d(dim, default(dim_out, dim), 3, padding = 1)\n",
        "    )\n",
        "\n",
        "def Downsample(dim, dim_out = None):\n",
        "    return nn.Conv2d(dim, default(dim_out, dim), 4, 2, 1)\n",
        "\n",
        "class LayerNorm(nn.Module):\n",
        "    def __init__(self, dim):\n",
        "        super().__init__()\n",
        "        self.g = nn.Parameter(torch.ones(1, dim, 1, 1))\n",
        "\n",
        "    def forward(self, x):\n",
        "        eps = 1e-5 if x.dtype == torch.float32 else 1e-3\n",
        "        var = torch.var(x, dim = 1, unbiased = False, keepdim = True)\n",
        "        mean = torch.mean(x, dim = 1, keepdim = True)\n",
        "        return (x - mean) * (var + eps).rsqrt() * self.g\n",
        "\n",
        "class PreNorm(nn.Module):\n",
        "    def __init__(self, dim, fn):\n",
        "        super().__init__()\n",
        "        self.fn = fn\n",
        "        self.norm = LayerNorm(dim)\n",
        "\n",
        "    def forward(self, x):\n",
        "        x = self.norm(x)\n",
        "        return self.fn(x)\n",
        "\n",
        "# positional embeds\n",
        "\n",
        "class LearnedSinusoidalPosEmb(nn.Module):\n",
        "    \"\"\" following @crowsonkb 's lead with learned sinusoidal pos emb \"\"\"\n",
        "    \"\"\" https://github.com/crowsonkb/v-diffusion-jax/blob/master/diffusion/models/danbooru_128.py#L8 \"\"\"\n",
        "\n",
        "    def __init__(self, dim):\n",
        "        super().__init__()\n",
        "        assert (dim % 2) == 0\n",
        "        half_dim = dim // 2\n",
        "        self.weights = nn.Parameter(torch.randn(half_dim))\n",
        "\n",
        "    def forward(self, x):\n",
        "        x = rearrange(x, 'b -> b 1')\n",
        "        freqs = x * rearrange(self.weights, 'd -> 1 d') * 2 * math.pi\n",
        "        fouriered = torch.cat((freqs.sin(), freqs.cos()), dim = -1)\n",
        "        fouriered = torch.cat((x, fouriered), dim = -1)\n",
        "        return fouriered\n",
        "\n",
        "# building block modules\n",
        "\n",
        "class Block(nn.Module):\n",
        "    def __init__(self, dim, dim_out, groups = 8):\n",
        "        super().__init__()\n",
        "        self.proj = nn.Conv2d(dim, dim_out, 3, padding = 1)\n",
        "        self.norm = nn.GroupNorm(groups, dim_out)\n",
        "        self.act = nn.SiLU()\n",
        "\n",
        "    def forward(self, x, scale_shift = None):\n",
        "        x = self.proj(x)\n",
        "        x = self.norm(x)\n",
        "\n",
        "        if exists(scale_shift):\n",
        "            scale, shift = scale_shift\n",
        "            x = x * (scale + 1) + shift\n",
        "\n",
        "        x = self.act(x)\n",
        "        return x\n",
        "\n",
        "class ResnetBlock(nn.Module):\n",
        "    def __init__(self, dim, dim_out, *, time_emb_dim = None, groups = 8):\n",
        "        super().__init__()\n",
        "        self.mlp = EmbedFC(time_emb_dim, dim_out * 2)\n",
        "\n",
        "        self.block1 = Block(dim, dim_out, groups = groups)\n",
        "        self.block2 = Block(dim_out, dim_out, groups = groups)\n",
        "        self.res_conv = nn.Conv2d(dim, dim_out, 1) if dim != dim_out else nn.Identity()\n",
        "\n",
        "    def forward(self, x, time_emb = None):\n",
        "\n",
        "        scale_shift = None\n",
        "        if exists(self.mlp) and exists(time_emb):\n",
        "            time_emb = self.mlp(time_emb)\n",
        "            time_emb = rearrange(time_emb, 'b c -> b c 1 1')\n",
        "            scale_shift = time_emb.chunk(2, dim = 1)\n",
        "\n",
        "        h = self.block1(x, scale_shift = scale_shift)\n",
        "\n",
        "        h = self.block2(h)\n",
        "\n",
        "        return h + self.res_conv(x)\n",
        "\n",
        "class ResnetBlockClassConditioned(ResnetBlock):\n",
        "    def __init__(self, dim, dim_out, *, num_classes, class_embed_dim, time_emb_dim = None, groups = 8):\n",
        "        super().__init__(dim=dim+class_embed_dim, dim_out=dim_out, time_emb_dim=time_emb_dim, groups=groups)\n",
        "        self.class_mlp = nn.Sequential(\n",
        "            nn.SiLU(),\n",
        "            nn.Linear(num_classes, class_embed_dim)\n",
        "        ) if exists(class_embed_dim) else None\n",
        "\n",
        "  \n",
        "    def forward(self, x, time_emb=None, c=None):\n",
        "        emb_c = self.class_mlp(c)\n",
        "        emb_c = emb_c.view(*emb_c.shape, 1, 1)\n",
        "        emb_c = emb_c.expand(-1, -1, x.shape[-2], x.shape[-1])\n",
        "\n",
        "        x = torch.cat([x, emb_c], axis=1)\n",
        "\n",
        "        return super().forward(x, time_emb)\n",
        "\n",
        "class LinearAttention(nn.Module):\n",
        "    def __init__(self, dim, heads = 4, dim_head = 32):\n",
        "        super().__init__()\n",
        "        self.scale = dim_head ** -0.5\n",
        "        self.heads = heads\n",
        "        hidden_dim = dim_head * heads\n",
        "        self.to_qkv = nn.Conv2d(dim, hidden_dim * 3, 1, bias = False)\n",
        "\n",
        "        self.to_out = nn.Sequential(\n",
        "            nn.Conv2d(hidden_dim, dim, 1),\n",
        "            LayerNorm(dim)\n",
        "        )\n",
        "\n",
        "    def forward(self, x):\n",
        "        b, c, h, w = x.shape\n",
        "        qkv = self.to_qkv(x).chunk(3, dim = 1)\n",
        "        q, k, v = map(lambda t: rearrange(t, 'b (h c) x y -> b h c (x y)', h = self.heads), qkv)\n",
        "\n",
        "        q = q.softmax(dim = -2)\n",
        "        k = k.softmax(dim = -1)\n",
        "\n",
        "        q = q * self.scale\n",
        "        v = v / (h * w)\n",
        "\n",
        "        context = torch.einsum('b h d n, b h e n -> b h d e', k, v)\n",
        "\n",
        "        out = torch.einsum('b h d e, b h d n -> b h e n', context, q)\n",
        "        out = rearrange(out, 'b h c (x y) -> b (h c) x y', h = self.heads, x = h, y = w)\n",
        "        return self.to_out(out)\n",
        "\n",
        "class Attention(nn.Module):\n",
        "    def __init__(self, dim, heads = 4, dim_head = 32, scale = 10):\n",
        "        super().__init__()\n",
        "        self.scale = scale\n",
        "        self.heads = heads\n",
        "        hidden_dim = dim_head * heads\n",
        "        self.to_qkv = nn.Conv2d(dim, hidden_dim * 3, 1, bias = False)\n",
        "        self.to_out = nn.Conv2d(hidden_dim, dim, 1)\n",
        "\n",
        "    def forward(self, x):\n",
        "        b, c, h, w = x.shape\n",
        "        qkv = self.to_qkv(x).chunk(3, dim = 1)\n",
        "        q, k, v = map(lambda t: rearrange(t, 'b (h c) x y -> b h c (x y)', h = self.heads), qkv)\n",
        "\n",
        "        q, k = map(l2norm, (q, k))\n",
        "\n",
        "        sim = einsum('b h d i, b h d j -> b h i j', q, k) * self.scale\n",
        "        attn = sim.softmax(dim = -1)\n",
        "        out = einsum('b h i j, b h d j -> b h i d', attn, v)\n",
        "        out = rearrange(out, 'b h (x y) d -> b (h d) x y', x = h, y = w)\n",
        "        return self.to_out(out)\n",
        "\n",
        "# model\n",
        "\n",
        "def decimal_to_bits(x, bits = BITS):\n",
        "    \"\"\" expects image tensor ranging from 0 to 1, outputs bit tensor ranging from -1 to 1 \"\"\"\n",
        "    device = x.device\n",
        "\n",
        "    x = (x * 1).int().clamp(0, 1)  #x = (x * 255).int().clamp(0, 255)\n",
        "\n",
        "    mask = 2 ** torch.arange(bits - 1, -1, -1, device = device)\n",
        "    mask = rearrange(mask, 'd -> d 1 1')\n",
        "    x = rearrange(x, 'b c h w -> b c 1 h w')\n",
        "\n",
        "    bits = ((x & mask) != 0).float()\n",
        "    bits = rearrange(bits, 'b c d h w -> b (c d) h w')\n",
        "    bits = bits * 2 - 1\n",
        "    return bits\n",
        "\n",
        "def bits_to_decimal(x, bits = BITS):\n",
        "    \"\"\" expects bits from -1 to 1, outputs image tensor from 0 to 1 \"\"\"\n",
        "    device = x.device\n",
        "\n",
        "    x = (x > 0).int()\n",
        "    mask = 2 ** torch.arange(bits - 1, -1, -1, device = device, dtype = torch.int32)\n",
        "\n",
        "    mask = rearrange(mask, 'd -> d 1 1')\n",
        "    #x = rearrange(x, 'b (c d) h w -> b c d h w', d = 8)\n",
        "    x = rearrange(x, 'b (c d) h w -> b c d h w', d = 1) #lucas\n",
        "\n",
        "    dec = reduce(x * mask, 'b c d h w -> b c h w', 'sum')\n",
        "    return (dec / 1).clamp(0., 1.)   # changed(dec / 255).clamp(0., 1.)\n",
        "\n",
        "# bit diffusion class\n",
        "\n",
        "def log(t, eps = 1e-20):\n",
        "    return torch.log(t.clamp(min = eps))\n",
        "\n",
        "def right_pad_dims_to(x, t):\n",
        "    padding_dims = x.ndim - t.ndim\n",
        "    if padding_dims <= 0:\n",
        "        return t\n",
        "    return t.view(*t.shape, *((1,) * padding_dims))\n",
        "\n",
        "def beta_linear_log_snr(t):\n",
        "    return -torch.log(expm1(1e-4 + 10 * (t ** 2)))\n",
        "\n",
        "def alpha_cosine_log_snr(t, s: float = 0.008):\n",
        "    return -log((torch.cos((t + s) / (1 + s) * math.pi * 0.5) ** -2) - 1, eps = 1e-5) # not sure if this accounts for beta being clipped to 0.999 in discrete version\n",
        "\n",
        "def log_snr_to_alpha_sigma(log_snr):\n",
        "    return torch.sqrt(torch.sigmoid(log_snr)), torch.sqrt(torch.sigmoid(-log_snr))\n",
        "\n",
        "\n",
        "\n",
        "\n",
        "\n"
      ]
    },
    {
      "cell_type": "markdown",
      "metadata": {
        "id": "JLhUnya955vM"
      },
      "source": [
        "#UNET (current input is [4,200])"
      ]
    },
    {
      "cell_type": "code",
      "execution_count": 110,
      "metadata": {
        "id": "nAnJbKpOqvsZ"
      },
      "outputs": [],
      "source": [
        "# each layer has a time embedding AND class conditioned embedding\n",
        "\n",
        "class Unet(nn.Module):\n",
        "    def __init__(\n",
        "        self,\n",
        "        dim,\n",
        "        init_dim = None,\n",
        "        dim_mults=(1, 2, 4, 8),\n",
        "        channels = 3,\n",
        "        bits = BITS,\n",
        "        resnet_block_groups = 8,\n",
        "        learned_sinusoidal_dim = 16,\n",
        "        num_classes=10,\n",
        "        class_embed_dim=3,\n",
        "    ):\n",
        "        super().__init__()\n",
        "\n",
        "        # determine dimensions\n",
        "\n",
        "        channels *= bits\n",
        "        self.channels = channels\n",
        "\n",
        "        input_channels = channels * 2\n",
        "\n",
        "        init_dim = default(init_dim, dim)\n",
        "        #self.init_conv = nn.Conv2d(input_channels, init_dim, 7, padding = 3) # original TODO for zach: is there a difference?\n",
        "        self.init_conv = nn.Conv2d(input_channels, init_dim, (7,7), padding = 3)\n",
        "\n",
        "        dims = [init_dim, *map(lambda m: dim * m, dim_mults)]\n",
        "\n",
        "\n",
        "        in_out = list(zip(dims[:-1], dims[1:]))\n",
        "        block_klass = partial(ResnetBlockClassConditioned, groups=resnet_block_groups,\n",
        "                              num_classes=num_classes, class_embed_dim=class_embed_dim)\n",
        "\n",
        "        # time embeddings\n",
        "\n",
        "        time_dim = dim * 4\n",
        "\n",
        "        sinu_pos_emb = LearnedSinusoidalPosEmb(learned_sinusoidal_dim)\n",
        "        fourier_dim = learned_sinusoidal_dim + 1\n",
        "\n",
        "        self.time_mlp = nn.Sequential(\n",
        "            sinu_pos_emb,\n",
        "            nn.Linear(fourier_dim, time_dim),\n",
        "            nn.GELU(),\n",
        "            nn.Linear(time_dim, time_dim)\n",
        "        )\n",
        "        # layers\n",
        "\n",
        "        self.downs = nn.ModuleList([])\n",
        "        self.ups = nn.ModuleList([])\n",
        "        num_resolutions = len(in_out)\n",
        "        for ind, (dim_in, dim_out) in enumerate(in_out):\n",
        "            is_last = ind >= (num_resolutions - 1)\n",
        "            self.downs.append(nn.ModuleList([\n",
        "                block_klass(dim_in, dim_in, time_emb_dim = time_dim),\n",
        "                block_klass(dim_in, dim_in, time_emb_dim = time_dim),\n",
        "                Residual(PreNorm(dim_in, LinearAttention(dim_in))),\n",
        "                Downsample(dim_in, dim_out) if not is_last else nn.Conv2d(dim_in, dim_out, 3, padding = 1)\n",
        "            ]))\n",
        "\n",
        "        mid_dim = dims[-1]\n",
        "        self.mid_block1 = block_klass(mid_dim, mid_dim, time_emb_dim = time_dim)\n",
        "        self.mid_attn = Residual(PreNorm(mid_dim, Attention(mid_dim)))\n",
        "        self.mid_block2 = block_klass(mid_dim, mid_dim, time_emb_dim = time_dim)\n",
        "\n",
        "        for ind, (dim_in, dim_out) in enumerate(reversed(in_out)):\n",
        "            is_last = ind == (len(in_out) - 1)\n",
        "\n",
        "            self.ups.append(nn.ModuleList([\n",
        "                block_klass(dim_out + dim_in, dim_out, time_emb_dim = time_dim),\n",
        "                block_klass(dim_out + dim_in, dim_out, time_emb_dim = time_dim),\n",
        "                Residual(PreNorm(dim_out, LinearAttention(dim_out))),\n",
        "                Upsample(dim_out, dim_in) if not is_last else  nn.Conv2d(dim_out, dim_in, 3, padding = 1)\n",
        "            ]))\n",
        "\n",
        "        self.final_res_block = block_klass(dim * 2, dim, time_emb_dim = time_dim)\n",
        "\n",
        "        self.final_conv = nn.Conv2d(dim, 1, 1)\n",
        "\n",
        "    def forward(self, x, time, c, x_self_cond = None):\n",
        "        x_self_cond = default(x_self_cond, lambda: torch.zeros_like(x))\n",
        "        x = torch.cat((x_self_cond, x), dim=1)\n",
        "        x = self.init_conv(x)\n",
        "        r = x.clone()\n",
        "\n",
        "        t = self.time_mlp(time)\n",
        "\n",
        "        h = []\n",
        "        for i, (block1, block2, attn, downsample) in enumerate(self.downs):\n",
        "            x = block1(x, t, c)\n",
        "            h.append(x)\n",
        "\n",
        "            x = block2(x, t, c)\n",
        "\n",
        "            x = attn(x)\n",
        "            h.append(x)\n",
        "            x = downsample(x)\n",
        "\n",
        "        x = self.mid_block1(x, t, c)\n",
        "        x = self.mid_attn(x)\n",
        "        x = self.mid_block2(x, t, c)\n",
        "\n",
        "        for block1, block2, attn, upsample in self.ups:\n",
        "            x = torch.cat((x, h.pop()), dim = 1)\n",
        "            x = block1(x, t, c)\n",
        "\n",
        "            x = torch.cat((x, h.pop()), dim = 1)\n",
        "            x = block2(x, t, c)\n",
        "            x = attn(x)\n",
        "\n",
        "            x = upsample(x)\n",
        "\n",
        "        x = torch.cat((x, r), dim = 1)\n",
        "\n",
        "        x = self.final_res_block(x, t, c)\n",
        "        \n",
        "        x = self.final_conv(x)\n",
        "        return x"
      ]
    },
    {
      "cell_type": "code",
      "source": [
        "class BitDiffusion(nn.Module):\n",
        "    def __init__(\n",
        "        self,\n",
        "        model,\n",
        "        *,\n",
        "        image_size,\n",
        "        timesteps = 1000,\n",
        "        use_ddim = False,\n",
        "        noise_schedule = 'cosine',\n",
        "        time_difference = 0.,\n",
        "        bit_scale = 1.\n",
        "    ):\n",
        "        super().__init__()\n",
        "        self.model = model\n",
        "        self.channels = self.model.channels\n",
        "\n",
        "        self.image_size = image_size\n",
        "\n",
        "        if noise_schedule == \"linear\":\n",
        "            self.log_snr = beta_linear_log_snr\n",
        "        elif noise_schedule == \"cosine\":\n",
        "            self.log_snr = alpha_cosine_log_snr\n",
        "        else:\n",
        "            raise ValueError(f'invalid noise schedule {noise_schedule}')\n",
        "\n",
        "        self.bit_scale = bit_scale\n",
        "\n",
        "        self.timesteps = timesteps\n",
        "        self.use_ddim = use_ddim\n",
        "\n",
        "        # proposed in the paper, summed to time_next\n",
        "        # as a way to fix a deficiency in self-conditioning and lower FID when the number of sampling timesteps is < 400\n",
        "\n",
        "        self.time_difference = time_difference\n",
        "\n",
        "    @property\n",
        "    def device(self):\n",
        "        return next(self.model.parameters()).device\n",
        "\n",
        "    def get_sampling_timesteps(self, batch, *, device):\n",
        "        times = torch.linspace(1., 0., self.timesteps + 1, device = device)\n",
        "        times = repeat(times, 't -> b t', b = batch)\n",
        "        times = torch.stack((times[:, :-1], times[:, 1:]), dim = 0)\n",
        "        times = times.unbind(dim = -1)\n",
        "        return times\n",
        "\n",
        "    @torch.no_grad()\n",
        "    def ddpm_sample(self, shape, time_difference = None):\n",
        "        batch, device = shape[0], self.device\n",
        "\n",
        "        time_difference = default(time_difference, self.time_difference)\n",
        "\n",
        "        time_pairs = self.get_sampling_timesteps(batch, device = device)\n",
        "\n",
        "        img = torch.randn(shape, device=device)\n",
        "\n",
        "        x_start = None\n",
        "\n",
        "        for time, time_next in tqdm(time_pairs, desc = 'sampling loop time step', total = self.timesteps):\n",
        "\n",
        "            # add the time delay\n",
        "\n",
        "            time_next = (time_next - self.time_difference).clamp(min = 0.)\n",
        "\n",
        "            noise_cond = self.log_snr(time)\n",
        "\n",
        "            # get predicted x0\n",
        "\n",
        "            x_start = self.model(img, noise_cond, x_start)\n",
        "\n",
        "            # clip x0\n",
        "\n",
        "            x_start.clamp_(-self.bit_scale, self.bit_scale)\n",
        "\n",
        "            # get log(snr)\n",
        "\n",
        "            log_snr = self.log_snr(time)\n",
        "            log_snr_next = self.log_snr(time_next)\n",
        "            log_snr, log_snr_next = map(partial(right_pad_dims_to, img), (log_snr, log_snr_next))\n",
        "\n",
        "            # get alpha sigma of time and next time\n",
        "\n",
        "            alpha, sigma = log_snr_to_alpha_sigma(log_snr)\n",
        "            alpha_next, sigma_next = log_snr_to_alpha_sigma(log_snr_next)\n",
        "\n",
        "            # derive posterior mean and variance\n",
        "\n",
        "            c = -expm1(log_snr - log_snr_next)\n",
        "\n",
        "            mean = alpha_next * (img * (1 - c) / alpha + c * x_start)\n",
        "            variance = (sigma_next ** 2) * c\n",
        "            log_variance = log(variance)\n",
        "\n",
        "            # get noise\n",
        "\n",
        "            noise = torch.where(\n",
        "                rearrange(time_next > 0, 'b -> b 1 1 1'),\n",
        "                torch.randn_like(img),\n",
        "                torch.zeros_like(img)\n",
        "            )\n",
        "\n",
        "            img = mean + (0.5 * log_variance).exp() * noise\n",
        "\n",
        "        return bits_to_decimal(img)\n",
        "\n",
        "    @torch.no_grad()\n",
        "    def ddim_sample(self, shape, time_difference = None):\n",
        "        batch, device = shape[0], self.device\n",
        "\n",
        "        time_difference = default(time_difference, self.time_difference)\n",
        "\n",
        "        time_pairs = self.get_sampling_timesteps(batch, device = device)\n",
        "        img = torch.randn(shape, device = device)\n",
        "\n",
        "        x_start = None\n",
        "\n",
        "        for times, times_next in tqdm(time_pairs, desc = 'sampling loop time step'):\n",
        "\n",
        "            # get times and noise levels\n",
        "\n",
        "            log_snr = self.log_snr(times)\n",
        "            log_snr_next = self.log_snr(times_next)\n",
        "\n",
        "            padded_log_snr, padded_log_snr_next = map(partial(right_pad_dims_to, img), (log_snr, log_snr_next))\n",
        "\n",
        "            alpha, sigma = log_snr_to_alpha_sigma(padded_log_snr)\n",
        "            alpha_next, sigma_next = log_snr_to_alpha_sigma(padded_log_snr_next)\n",
        "\n",
        "            # add the time delay\n",
        "\n",
        "            times_next = (times_next - time_difference).clamp(min = 0.)\n",
        "\n",
        "            # predict x0\n",
        "\n",
        "            x_start = self.model(img, log_snr, x_start)\n",
        "\n",
        "            # clip x0\n",
        "\n",
        "            x_start.clamp_(-self.bit_scale, self.bit_scale)\n",
        "\n",
        "            # get predicted noise\n",
        "\n",
        "            pred_noise = (img - alpha * x_start) / sigma.clamp(min = 1e-8)\n",
        "\n",
        "            # calculate x next\n",
        "\n",
        "            img = x_start * alpha_next + pred_noise * sigma_next\n",
        "\n",
        "        return bits_to_decimal(img)\n",
        "  \n",
        "    # TODO: Need to add class conditioned weight\n",
        "    @torch.no_grad()\n",
        "    def sample(self, batch_size = 16):\n",
        "        image_size, channels = self.image_size, self.channels\n",
        "        sample_fn = self.ddpm_sample if not self.use_ddim else self.ddim_sample\n",
        "        return sample_fn((batch_size, channels, 4, image_size)) # Lucas\n",
        " \n",
        "    def forward(self, img, class_enc, *args, **kwargs):\n",
        "        batch, c, h, w, device, img_size, = *img.shape, img.device, self.image_size\n",
        "       \n",
        "        times = torch.zeros((batch,), device = device).float().uniform_(0, 0.999)\n",
        "\n",
        "        # convert image to bit representation\n",
        "        \n",
        "        img = decimal_to_bits(img) * self.bit_scale\n",
        "      \n",
        "        noise = torch.randn_like(img)\n",
        "\n",
        "        noise_level = self.log_snr(times)\n",
        "        padded_noise_level = right_pad_dims_to(img, noise_level)\n",
        "        alpha, sigma =  log_snr_to_alpha_sigma(padded_noise_level)\n",
        "\n",
        "        noised_img = alpha * img + sigma * noise\n",
        "        \n",
        "        # if doing self-conditioning, 50% of the time, predict x_start from current set of times\n",
        "        # and condition with unet with that\n",
        "        # this technique will slow down training by 25%, but seems to lower FID significantly\n",
        "\n",
        "        self_cond = None\n",
        "        # TODO: Does it make sense to self condition with a class?\n",
        "        # if random() < 0.5:\n",
        "        #     with torch.no_grad():\n",
        "        #         self_cond = self.model(noised_img, noise_level).detach_()\n",
        "\n",
        "\n",
        "        pred = self.model(noised_img, noise_level, class_enc, self_cond)\n",
        "\n",
        "        return F.mse_loss(pred, img)"
      ],
      "metadata": {
        "id": "lF6-tGWE4Ui1"
      },
      "execution_count": 111,
      "outputs": []
    },
    {
      "cell_type": "markdown",
      "metadata": {
        "id": "wMrZE6Sq7p-h"
      },
      "source": [
        "# Model creation and optimizer"
      ]
    },
    {
      "cell_type": "code",
      "source": [
        "torch.cuda.empty_cache()\n",
        "gc.collect()"
      ],
      "metadata": {
        "id": "41AygQnZIBOJ",
        "outputId": "3428ad47-a3ae-4d4c-890b-3aefa5d90fea",
        "colab": {
          "base_uri": "https://localhost:8080/"
        }
      },
      "execution_count": 112,
      "outputs": [
        {
          "output_type": "execute_result",
          "data": {
            "text/plain": [
              "214"
            ]
          },
          "metadata": {},
          "execution_count": 112
        }
      ]
    },
    {
      "cell_type": "code",
      "execution_count": 113,
      "metadata": {
        "id": "2slLSArr7ACe"
      },
      "outputs": [],
      "source": [
        "\n",
        "model = Unet(\n",
        "    dim = 200,\n",
        "    channels = 1,\n",
        "    dim_mults = (1,2,4),\n",
        "  resnet_block_groups = 1,\n",
        "  num_classes=len(motifs),\n",
        "  class_embed_dim=200\n",
        ").cuda()\n",
        "\n",
        "bit_diffusion = BitDiffusion(\n",
        "    model,\n",
        "    image_size = 200,\n",
        "    timesteps = 100\n",
        ").cuda()\n",
        "\n",
        "\n",
        "\n",
        "adam_betas = (0.9, 0.99)\n",
        "optimizer = Adam(model.parameters(), lr=1e-4, betas = adam_betas)  \n",
        "\n"
      ]
    },
    {
      "cell_type": "code",
      "source": [
        "x, y = next(iter(train_dl))"
      ],
      "metadata": {
        "id": "nJA0PJ7lBjLH"
      },
      "execution_count": 114,
      "outputs": []
    },
    {
      "cell_type": "code",
      "source": [
        "with torch.no_grad():\n",
        "  print(bit_diffusion(x.cuda(), y.float().cuda()))"
      ],
      "metadata": {
        "id": "FiYplys7BEhT",
        "outputId": "8c2d1412-0ce2-4cbf-c7c4-112d7efb1680",
        "colab": {
          "base_uri": "https://localhost:8080/"
        }
      },
      "execution_count": 115,
      "outputs": [
        {
          "output_type": "stream",
          "name": "stdout",
          "text": [
            "tensor(1.7621, device='cuda:0')\n"
          ]
        }
      ]
    },
    {
      "cell_type": "markdown",
      "metadata": {
        "id": "GFlCjE4N7vIo"
      },
      "source": [
        "#Training\n",
        "every 10 epoch the model will show some samples"
      ]
    },
    {
      "cell_type": "code",
      "execution_count": 116,
      "metadata": {
        "colab": {
          "base_uri": "https://localhost:8080/",
          "height": 439,
          "referenced_widgets": [
            "4a9501f9e87842758e754d540218add9",
            "8149febfa1964fedbf0a7642f8764091",
            "063d55097cc740ba958a77f6fa6e93fb",
            "0daeaaefa16f4abdb5cdf9419f2adce3",
            "fc175bff84fb4b8b901cb18730af0a56",
            "f1034414f2364e93b053e09192a5160e",
            "181f6882db9d4e0796015903bb4c0c63",
            "c1d08a7230a3416885f1c1c45433f24d",
            "6d431d869acb43149ff6fa1e27d84905",
            "38fa9b3670064a8ab516b9e2e9bf9dee",
            "8884a54af6e446399d858a8b36a81230"
          ]
        },
        "id": "jPxo5NOY3Em6",
        "outputId": "b570255a-e7dc-46f4-ccbf-c5204ab8ba96"
      },
      "outputs": [
        {
          "output_type": "display_data",
          "data": {
            "text/plain": [
              "epoch 0:   0%|          | 0/625 [00:00<?, ?it/s]"
            ],
            "application/vnd.jupyter.widget-view+json": {
              "version_major": 2,
              "version_minor": 0,
              "model_id": "4a9501f9e87842758e754d540218add9"
            }
          },
          "metadata": {}
        },
        {
          "output_type": "stream",
          "name": "stdout",
          "text": [
            "Step:0 tensor(0.0036, device='cuda:0', grad_fn=<DivBackward0>)\n"
          ]
        },
        {
          "output_type": "error",
          "ename": "KeyboardInterrupt",
          "evalue": "ignored",
          "traceback": [
            "\u001b[0;31m---------------------------------------------------------------------------\u001b[0m",
            "\u001b[0;31mKeyboardInterrupt\u001b[0m                         Traceback (most recent call last)",
            "\u001b[0;32m<ipython-input-116-3cc23b0653a6>\u001b[0m in \u001b[0;36m<module>\u001b[0;34m\u001b[0m\n\u001b[1;32m     22\u001b[0m     \u001b[0mloss\u001b[0m \u001b[0;34m=\u001b[0m \u001b[0mloss\u001b[0m\u001b[0;34m/\u001b[0m\u001b[0macumulate_grad\u001b[0m\u001b[0;34m\u001b[0m\u001b[0;34m\u001b[0m\u001b[0m\n\u001b[1;32m     23\u001b[0m     \u001b[0mtotal_loss\u001b[0m \u001b[0;34m+=\u001b[0m \u001b[0mloss\u001b[0m\u001b[0;34m.\u001b[0m\u001b[0mitem\u001b[0m\u001b[0;34m(\u001b[0m\u001b[0;34m)\u001b[0m\u001b[0;34m\u001b[0m\u001b[0;34m\u001b[0m\u001b[0m\n\u001b[0;32m---> 24\u001b[0;31m     \u001b[0mloss\u001b[0m\u001b[0;34m.\u001b[0m\u001b[0mbackward\u001b[0m\u001b[0;34m(\u001b[0m\u001b[0;34m)\u001b[0m\u001b[0;34m\u001b[0m\u001b[0;34m\u001b[0m\u001b[0m\n\u001b[0m\u001b[1;32m     25\u001b[0m     \u001b[0;31m# after a lot of training\u001b[0m\u001b[0;34m\u001b[0m\u001b[0;34m\u001b[0m\u001b[0;34m\u001b[0m\u001b[0m\n\u001b[1;32m     26\u001b[0m     \u001b[0;32mif\u001b[0m \u001b[0macumulate_grad_count\u001b[0m \u001b[0;34m==\u001b[0m  \u001b[0macumulate_grad\u001b[0m\u001b[0;34m:\u001b[0m\u001b[0;34m\u001b[0m\u001b[0;34m\u001b[0m\u001b[0m\n",
            "\u001b[0;32m/usr/local/lib/python3.7/dist-packages/torch/_tensor.py\u001b[0m in \u001b[0;36mbackward\u001b[0;34m(self, gradient, retain_graph, create_graph, inputs)\u001b[0m\n\u001b[1;32m    394\u001b[0m                 \u001b[0mcreate_graph\u001b[0m\u001b[0;34m=\u001b[0m\u001b[0mcreate_graph\u001b[0m\u001b[0;34m,\u001b[0m\u001b[0;34m\u001b[0m\u001b[0;34m\u001b[0m\u001b[0m\n\u001b[1;32m    395\u001b[0m                 inputs=inputs)\n\u001b[0;32m--> 396\u001b[0;31m         \u001b[0mtorch\u001b[0m\u001b[0;34m.\u001b[0m\u001b[0mautograd\u001b[0m\u001b[0;34m.\u001b[0m\u001b[0mbackward\u001b[0m\u001b[0;34m(\u001b[0m\u001b[0mself\u001b[0m\u001b[0;34m,\u001b[0m \u001b[0mgradient\u001b[0m\u001b[0;34m,\u001b[0m \u001b[0mretain_graph\u001b[0m\u001b[0;34m,\u001b[0m \u001b[0mcreate_graph\u001b[0m\u001b[0;34m,\u001b[0m \u001b[0minputs\u001b[0m\u001b[0;34m=\u001b[0m\u001b[0minputs\u001b[0m\u001b[0;34m)\u001b[0m\u001b[0;34m\u001b[0m\u001b[0;34m\u001b[0m\u001b[0m\n\u001b[0m\u001b[1;32m    397\u001b[0m \u001b[0;34m\u001b[0m\u001b[0m\n\u001b[1;32m    398\u001b[0m     \u001b[0;32mdef\u001b[0m \u001b[0mregister_hook\u001b[0m\u001b[0;34m(\u001b[0m\u001b[0mself\u001b[0m\u001b[0;34m,\u001b[0m \u001b[0mhook\u001b[0m\u001b[0;34m)\u001b[0m\u001b[0;34m:\u001b[0m\u001b[0;34m\u001b[0m\u001b[0;34m\u001b[0m\u001b[0m\n",
            "\u001b[0;32m/usr/local/lib/python3.7/dist-packages/torch/autograd/__init__.py\u001b[0m in \u001b[0;36mbackward\u001b[0;34m(tensors, grad_tensors, retain_graph, create_graph, grad_variables, inputs)\u001b[0m\n\u001b[1;32m    173\u001b[0m     Variable._execution_engine.run_backward(  # Calls into the C++ engine to run the backward pass\n\u001b[1;32m    174\u001b[0m         \u001b[0mtensors\u001b[0m\u001b[0;34m,\u001b[0m \u001b[0mgrad_tensors_\u001b[0m\u001b[0;34m,\u001b[0m \u001b[0mretain_graph\u001b[0m\u001b[0;34m,\u001b[0m \u001b[0mcreate_graph\u001b[0m\u001b[0;34m,\u001b[0m \u001b[0minputs\u001b[0m\u001b[0;34m,\u001b[0m\u001b[0;34m\u001b[0m\u001b[0;34m\u001b[0m\u001b[0m\n\u001b[0;32m--> 175\u001b[0;31m         allow_unreachable=True, accumulate_grad=True)  # Calls into the C++ engine to run the backward pass\n\u001b[0m\u001b[1;32m    176\u001b[0m \u001b[0;34m\u001b[0m\u001b[0m\n\u001b[1;32m    177\u001b[0m def grad(\n",
            "\u001b[0;31mKeyboardInterrupt\u001b[0m: "
          ]
        }
      ],
      "source": [
        "\n",
        "# Training is stable when I accumulate gradients \n",
        "# The memory requirement is huge the batch can't be too big\n",
        "\n",
        "\n",
        "acumulate_grad = 500 # THIS GRAD WAS 100 BEFORE AND NOW IS REALLY IMPROVING THE LOSS\n",
        "acumulate_grad_count = 0\n",
        "torch.cuda.empty_cache()\n",
        "gc.collect()\n",
        "\n",
        "\n",
        "SHOW_PROGRESS_INTERVAL = 10\n",
        "\n",
        "for t in range(1000):\n",
        "  total_loss = 0\n",
        "  for step, batch in tqdm(enumerate(train_dl), desc=f\"epoch {t}\", total=len(train_dl)):\n",
        "    optimizer.zero_grad()\n",
        "    images, classes = batch\n",
        "    images = images.cuda()\n",
        "    classes = classes.float().cuda()\n",
        "\n",
        "    loss = bit_diffusion(images, classes)\n",
        "    loss = loss/acumulate_grad\n",
        "    total_loss += loss.item()\n",
        "    loss.backward()\n",
        "    # after a lot of training\n",
        "    if acumulate_grad_count ==  acumulate_grad:  \n",
        "      print(f'Step:{t}',loss)\n",
        "      optimizer.step()\n",
        "      optimizer.zero_grad()\n",
        "      acumulate_grad_count = 0\n",
        "\n",
        "    acumulate_grad_count +=1\n",
        "  if (t %  SHOW_PROGRESS_INTERVAL ) == 0:\n",
        "\n",
        "    sampled_images = bit_diffusion.sample(batch_size = 4)\n",
        "    sampled_images = sampled_images.cpu()\n",
        "    for x in sampled_images:\n",
        "      df = pd.DataFrame(x.reshape(4,200).numpy())\n",
        "      plt.rcParams[\"figure.figsize\"] = (30,2)\n",
        "      sns.heatmap(df, cmap='bwr', linewidths=1)\n",
        "      plt.show()\n",
        "      #torch.cuda.empty_cache()\n",
        "  \n",
        "\n"
      ]
    },
    {
      "cell_type": "code",
      "execution_count": 117,
      "metadata": {
        "id": "FAnoz9Kq4j4g",
        "outputId": "c6de1193-1e32-41a4-c12d-ac6da43bb364",
        "colab": {
          "base_uri": "https://localhost:8080/"
        }
      },
      "outputs": [
        {
          "output_type": "stream",
          "name": "stdout",
          "text": [
            "Thu Sep 29 03:03:44 2022       \n",
            "+-----------------------------------------------------------------------------+\n",
            "| NVIDIA-SMI 460.32.03    Driver Version: 460.32.03    CUDA Version: 11.2     |\n",
            "|-------------------------------+----------------------+----------------------+\n",
            "| GPU  Name        Persistence-M| Bus-Id        Disp.A | Volatile Uncorr. ECC |\n",
            "| Fan  Temp  Perf  Pwr:Usage/Cap|         Memory-Usage | GPU-Util  Compute M. |\n",
            "|                               |                      |               MIG M. |\n",
            "|===============================+======================+======================|\n",
            "|   0  Tesla T4            Off  | 00000000:00:04.0 Off |                    0 |\n",
            "| N/A   74C    P0    33W /  70W |   5634MiB / 15109MiB |      0%      Default |\n",
            "|                               |                      |                  N/A |\n",
            "+-------------------------------+----------------------+----------------------+\n",
            "                                                                               \n",
            "+-----------------------------------------------------------------------------+\n",
            "| Processes:                                                                  |\n",
            "|  GPU   GI   CI        PID   Type   Process name                  GPU Memory |\n",
            "|        ID   ID                                                   Usage      |\n",
            "|=============================================================================|\n",
            "+-----------------------------------------------------------------------------+\n"
          ]
        }
      ],
      "source": [
        "!nvidia-smi"
      ]
    },
    {
      "cell_type": "markdown",
      "metadata": {
        "id": "kVBPzDXA8tEW"
      },
      "source": [
        "#Sampling from the learned model"
      ]
    },
    {
      "cell_type": "code",
      "execution_count": null,
      "metadata": {
        "id": "ctmFRRHXxrtA"
      },
      "outputs": [],
      "source": [
        "sampled_images = bit_diffusion.sample(batch_size = 4)\n",
        "sampled_images = sampled_images.cpu()\n",
        "for x in sampled_images:\n",
        "  df = pd.DataFrame(x.reshape(4,200).numpy())\n",
        "  plt.rcParams[\"figure.figsize\"] = (30,2)\n",
        "  sns.heatmap(df, cmap='bwr', linewidths=1)\n",
        "  plt.show()"
      ]
    },
    {
      "cell_type": "code",
      "execution_count": null,
      "metadata": {
        "id": "38H3TwYC8zxE"
      },
      "outputs": [],
      "source": []
    },
    {
      "cell_type": "markdown",
      "metadata": {
        "id": "gGX5K56F83lT"
      },
      "source": [
        "# Generating some images to secondary evaluations"
      ]
    },
    {
      "cell_type": "code",
      "execution_count": null,
      "metadata": {
        "id": "GH4S6oWbqx8E"
      },
      "outputs": [],
      "source": [
        "\n",
        "final_sequences=[]\n",
        "for n_a in tqdm_notebook(range(25)): # generating 100 sequences\n",
        "  sampled_images = bit_diffusion.sample(batch_size = 4)\n",
        "  sampled_images = sampled_images.cpu()\n",
        "  for n_b, x in enumerate(sampled_images):\n",
        "    seq_final = f'>seq_test_{n_a}_{n_b}\\n' +''.join([nucleotides[s] for s in np.argmax(x.reshape(4,200), axis=0)]) \n",
        "    final_sequences.append(seq_final)\n",
        "\n",
        "\n",
        "\n",
        "save_motifs_syn = open('synthetic_motifs.fasta', 'w')\n",
        "\n",
        "save_motifs_syn.write('\\n'.join(final_sequences))\n",
        "save_motifs_syn.close()\n",
        "!gimme scan synthetic_motifs.fasta -p  JASPAR2018_vertebrates -g hg19 > syn_results_motifs.bed\n",
        "df_results_syn = pd.read_csv('syn_results_motifs.bed', sep='\\t', skiprows=5, header=None)\n",
        "df_results_syn['motifs'] = df_results_syn[8].apply(lambda x: x.split( 'motif_name \"'    )[1].split('\"')[0]   )\n",
        "df_motifs_count_syn = df_results_syn.groupby('motifs').count()\n",
        "plt.rcParams[\"figure.figsize\"] = (30,2)\n",
        "df_motifs_count_syn.sort_values(0, ascending=False).head(50)[0].plot.bar()\n"
      ]
    },
    {
      "cell_type": "code",
      "execution_count": null,
      "metadata": {
        "colab": {
          "base_uri": "https://localhost:8080/"
        },
        "id": "-8u7lplox1QL",
        "outputId": "0d01d893-40d5-4177-f795-0944836d6118"
      },
      "outputs": [
        {
          "name": "stdout",
          "output_type": "stream",
          "text": [
            "scanning: 100% 172/172 [00:03<00:00, 50.72 sequences/s]\n"
          ]
        }
      ],
      "source": [
        "\n"
      ]
    },
    {
      "cell_type": "code",
      "execution_count": null,
      "metadata": {
        "colab": {
          "base_uri": "https://localhost:8080/",
          "height": 305
        },
        "id": "y1rbImfHEYsS",
        "outputId": "3f996987-d7a6-45ff-834d-f278c2791af8"
      },
      "outputs": [
        {
          "ename": "EmptyDataError",
          "evalue": "ignored",
          "output_type": "error",
          "traceback": [
            "\u001b[0;31m---------------------------------------------------------------------------\u001b[0m",
            "\u001b[0;31mEmptyDataError\u001b[0m                            Traceback (most recent call last)",
            "\u001b[0;32m<ipython-input-52-99ca92f7fb0e>\u001b[0m in \u001b[0;36m<module>\u001b[0;34m\u001b[0m\n\u001b[0;32m----> 1\u001b[0;31m \u001b[0mdf_results_syn\u001b[0m \u001b[0;34m=\u001b[0m \u001b[0mpd\u001b[0m\u001b[0;34m.\u001b[0m\u001b[0mread_csv\u001b[0m\u001b[0;34m(\u001b[0m\u001b[0;34m'syn_results_motifs.bed'\u001b[0m\u001b[0;34m,\u001b[0m \u001b[0msep\u001b[0m\u001b[0;34m=\u001b[0m\u001b[0;34m'\\t'\u001b[0m\u001b[0;34m,\u001b[0m \u001b[0mskiprows\u001b[0m\u001b[0;34m=\u001b[0m\u001b[0;36m5\u001b[0m\u001b[0;34m,\u001b[0m \u001b[0mheader\u001b[0m\u001b[0;34m=\u001b[0m\u001b[0;32mNone\u001b[0m\u001b[0;34m)\u001b[0m\u001b[0;34m\u001b[0m\u001b[0;34m\u001b[0m\u001b[0m\n\u001b[0m\u001b[1;32m      2\u001b[0m \u001b[0mdf_results_syn\u001b[0m\u001b[0;34m[\u001b[0m\u001b[0;34m'motifs'\u001b[0m\u001b[0;34m]\u001b[0m \u001b[0;34m=\u001b[0m \u001b[0mdf_results_syn\u001b[0m\u001b[0;34m[\u001b[0m\u001b[0;36m8\u001b[0m\u001b[0;34m]\u001b[0m\u001b[0;34m.\u001b[0m\u001b[0mapply\u001b[0m\u001b[0;34m(\u001b[0m\u001b[0;32mlambda\u001b[0m \u001b[0mx\u001b[0m\u001b[0;34m:\u001b[0m \u001b[0mx\u001b[0m\u001b[0;34m.\u001b[0m\u001b[0msplit\u001b[0m\u001b[0;34m(\u001b[0m \u001b[0;34m'motif_name \"'\u001b[0m    \u001b[0;34m)\u001b[0m\u001b[0;34m[\u001b[0m\u001b[0;36m1\u001b[0m\u001b[0;34m]\u001b[0m\u001b[0;34m.\u001b[0m\u001b[0msplit\u001b[0m\u001b[0;34m(\u001b[0m\u001b[0;34m'\"'\u001b[0m\u001b[0;34m)\u001b[0m\u001b[0;34m[\u001b[0m\u001b[0;36m0\u001b[0m\u001b[0;34m]\u001b[0m   \u001b[0;34m)\u001b[0m\u001b[0;34m\u001b[0m\u001b[0;34m\u001b[0m\u001b[0m\n\u001b[1;32m      3\u001b[0m \u001b[0mdf_motifs_count_syn\u001b[0m \u001b[0;34m=\u001b[0m \u001b[0mdf_results_syn\u001b[0m\u001b[0;34m.\u001b[0m\u001b[0mgroupby\u001b[0m\u001b[0;34m(\u001b[0m\u001b[0;34m'motifs'\u001b[0m\u001b[0;34m)\u001b[0m\u001b[0;34m.\u001b[0m\u001b[0mcount\u001b[0m\u001b[0;34m(\u001b[0m\u001b[0;34m)\u001b[0m\u001b[0;34m\u001b[0m\u001b[0;34m\u001b[0m\u001b[0m\n\u001b[1;32m      4\u001b[0m \u001b[0mplt\u001b[0m\u001b[0;34m.\u001b[0m\u001b[0mrcParams\u001b[0m\u001b[0;34m[\u001b[0m\u001b[0;34m\"figure.figsize\"\u001b[0m\u001b[0;34m]\u001b[0m \u001b[0;34m=\u001b[0m \u001b[0;34m(\u001b[0m\u001b[0;36m30\u001b[0m\u001b[0;34m,\u001b[0m\u001b[0;36m2\u001b[0m\u001b[0;34m)\u001b[0m\u001b[0;34m\u001b[0m\u001b[0;34m\u001b[0m\u001b[0m\n\u001b[1;32m      5\u001b[0m \u001b[0mdf_motifs_count_syn\u001b[0m\u001b[0;34m.\u001b[0m\u001b[0msort_values\u001b[0m\u001b[0;34m(\u001b[0m\u001b[0;36m0\u001b[0m\u001b[0;34m,\u001b[0m \u001b[0mascending\u001b[0m\u001b[0;34m=\u001b[0m\u001b[0;32mFalse\u001b[0m\u001b[0;34m)\u001b[0m\u001b[0;34m.\u001b[0m\u001b[0mhead\u001b[0m\u001b[0;34m(\u001b[0m\u001b[0;36m50\u001b[0m\u001b[0;34m)\u001b[0m\u001b[0;34m[\u001b[0m\u001b[0;36m0\u001b[0m\u001b[0;34m]\u001b[0m\u001b[0;34m.\u001b[0m\u001b[0mplot\u001b[0m\u001b[0;34m.\u001b[0m\u001b[0mbar\u001b[0m\u001b[0;34m(\u001b[0m\u001b[0;34m)\u001b[0m\u001b[0;34m\u001b[0m\u001b[0;34m\u001b[0m\u001b[0m\n",
            "\u001b[0;32m/usr/local/lib/python3.7/site-packages/pandas/util/_decorators.py\u001b[0m in \u001b[0;36mwrapper\u001b[0;34m(*args, **kwargs)\u001b[0m\n\u001b[1;32m    309\u001b[0m                     \u001b[0mstacklevel\u001b[0m\u001b[0;34m=\u001b[0m\u001b[0mstacklevel\u001b[0m\u001b[0;34m,\u001b[0m\u001b[0;34m\u001b[0m\u001b[0;34m\u001b[0m\u001b[0m\n\u001b[1;32m    310\u001b[0m                 )\n\u001b[0;32m--> 311\u001b[0;31m             \u001b[0;32mreturn\u001b[0m \u001b[0mfunc\u001b[0m\u001b[0;34m(\u001b[0m\u001b[0;34m*\u001b[0m\u001b[0margs\u001b[0m\u001b[0;34m,\u001b[0m \u001b[0;34m**\u001b[0m\u001b[0mkwargs\u001b[0m\u001b[0;34m)\u001b[0m\u001b[0;34m\u001b[0m\u001b[0;34m\u001b[0m\u001b[0m\n\u001b[0m\u001b[1;32m    312\u001b[0m \u001b[0;34m\u001b[0m\u001b[0m\n\u001b[1;32m    313\u001b[0m         \u001b[0;32mreturn\u001b[0m \u001b[0mwrapper\u001b[0m\u001b[0;34m\u001b[0m\u001b[0;34m\u001b[0m\u001b[0m\n",
            "\u001b[0;32m/usr/local/lib/python3.7/site-packages/pandas/io/parsers/readers.py\u001b[0m in \u001b[0;36mread_csv\u001b[0;34m(filepath_or_buffer, sep, delimiter, header, names, index_col, usecols, squeeze, prefix, mangle_dupe_cols, dtype, engine, converters, true_values, false_values, skipinitialspace, skiprows, skipfooter, nrows, na_values, keep_default_na, na_filter, verbose, skip_blank_lines, parse_dates, infer_datetime_format, keep_date_col, date_parser, dayfirst, cache_dates, iterator, chunksize, compression, thousands, decimal, lineterminator, quotechar, quoting, doublequote, escapechar, comment, encoding, encoding_errors, dialect, error_bad_lines, warn_bad_lines, on_bad_lines, delim_whitespace, low_memory, memory_map, float_precision, storage_options)\u001b[0m\n\u001b[1;32m    584\u001b[0m     \u001b[0mkwds\u001b[0m\u001b[0;34m.\u001b[0m\u001b[0mupdate\u001b[0m\u001b[0;34m(\u001b[0m\u001b[0mkwds_defaults\u001b[0m\u001b[0;34m)\u001b[0m\u001b[0;34m\u001b[0m\u001b[0;34m\u001b[0m\u001b[0m\n\u001b[1;32m    585\u001b[0m \u001b[0;34m\u001b[0m\u001b[0m\n\u001b[0;32m--> 586\u001b[0;31m     \u001b[0;32mreturn\u001b[0m \u001b[0m_read\u001b[0m\u001b[0;34m(\u001b[0m\u001b[0mfilepath_or_buffer\u001b[0m\u001b[0;34m,\u001b[0m \u001b[0mkwds\u001b[0m\u001b[0;34m)\u001b[0m\u001b[0;34m\u001b[0m\u001b[0;34m\u001b[0m\u001b[0m\n\u001b[0m\u001b[1;32m    587\u001b[0m \u001b[0;34m\u001b[0m\u001b[0m\n\u001b[1;32m    588\u001b[0m \u001b[0;34m\u001b[0m\u001b[0m\n",
            "\u001b[0;32m/usr/local/lib/python3.7/site-packages/pandas/io/parsers/readers.py\u001b[0m in \u001b[0;36m_read\u001b[0;34m(filepath_or_buffer, kwds)\u001b[0m\n\u001b[1;32m    480\u001b[0m \u001b[0;34m\u001b[0m\u001b[0m\n\u001b[1;32m    481\u001b[0m     \u001b[0;31m# Create the parser.\u001b[0m\u001b[0;34m\u001b[0m\u001b[0;34m\u001b[0m\u001b[0;34m\u001b[0m\u001b[0m\n\u001b[0;32m--> 482\u001b[0;31m     \u001b[0mparser\u001b[0m \u001b[0;34m=\u001b[0m \u001b[0mTextFileReader\u001b[0m\u001b[0;34m(\u001b[0m\u001b[0mfilepath_or_buffer\u001b[0m\u001b[0;34m,\u001b[0m \u001b[0;34m**\u001b[0m\u001b[0mkwds\u001b[0m\u001b[0;34m)\u001b[0m\u001b[0;34m\u001b[0m\u001b[0;34m\u001b[0m\u001b[0m\n\u001b[0m\u001b[1;32m    483\u001b[0m \u001b[0;34m\u001b[0m\u001b[0m\n\u001b[1;32m    484\u001b[0m     \u001b[0;32mif\u001b[0m \u001b[0mchunksize\u001b[0m \u001b[0;32mor\u001b[0m \u001b[0miterator\u001b[0m\u001b[0;34m:\u001b[0m\u001b[0;34m\u001b[0m\u001b[0;34m\u001b[0m\u001b[0m\n",
            "\u001b[0;32m/usr/local/lib/python3.7/site-packages/pandas/io/parsers/readers.py\u001b[0m in \u001b[0;36m__init__\u001b[0;34m(self, f, engine, **kwds)\u001b[0m\n\u001b[1;32m    809\u001b[0m             \u001b[0mself\u001b[0m\u001b[0;34m.\u001b[0m\u001b[0moptions\u001b[0m\u001b[0;34m[\u001b[0m\u001b[0;34m\"has_index_names\"\u001b[0m\u001b[0;34m]\u001b[0m \u001b[0;34m=\u001b[0m \u001b[0mkwds\u001b[0m\u001b[0;34m[\u001b[0m\u001b[0;34m\"has_index_names\"\u001b[0m\u001b[0;34m]\u001b[0m\u001b[0;34m\u001b[0m\u001b[0;34m\u001b[0m\u001b[0m\n\u001b[1;32m    810\u001b[0m \u001b[0;34m\u001b[0m\u001b[0m\n\u001b[0;32m--> 811\u001b[0;31m         \u001b[0mself\u001b[0m\u001b[0;34m.\u001b[0m\u001b[0m_engine\u001b[0m \u001b[0;34m=\u001b[0m \u001b[0mself\u001b[0m\u001b[0;34m.\u001b[0m\u001b[0m_make_engine\u001b[0m\u001b[0;34m(\u001b[0m\u001b[0mself\u001b[0m\u001b[0;34m.\u001b[0m\u001b[0mengine\u001b[0m\u001b[0;34m)\u001b[0m\u001b[0;34m\u001b[0m\u001b[0;34m\u001b[0m\u001b[0m\n\u001b[0m\u001b[1;32m    812\u001b[0m \u001b[0;34m\u001b[0m\u001b[0m\n\u001b[1;32m    813\u001b[0m     \u001b[0;32mdef\u001b[0m \u001b[0mclose\u001b[0m\u001b[0;34m(\u001b[0m\u001b[0mself\u001b[0m\u001b[0;34m)\u001b[0m\u001b[0;34m:\u001b[0m\u001b[0;34m\u001b[0m\u001b[0;34m\u001b[0m\u001b[0m\n",
            "\u001b[0;32m/usr/local/lib/python3.7/site-packages/pandas/io/parsers/readers.py\u001b[0m in \u001b[0;36m_make_engine\u001b[0;34m(self, engine)\u001b[0m\n\u001b[1;32m   1038\u001b[0m             )\n\u001b[1;32m   1039\u001b[0m         \u001b[0;31m# error: Too many arguments for \"ParserBase\"\u001b[0m\u001b[0;34m\u001b[0m\u001b[0;34m\u001b[0m\u001b[0;34m\u001b[0m\u001b[0m\n\u001b[0;32m-> 1040\u001b[0;31m         \u001b[0;32mreturn\u001b[0m \u001b[0mmapping\u001b[0m\u001b[0;34m[\u001b[0m\u001b[0mengine\u001b[0m\u001b[0;34m]\u001b[0m\u001b[0;34m(\u001b[0m\u001b[0mself\u001b[0m\u001b[0;34m.\u001b[0m\u001b[0mf\u001b[0m\u001b[0;34m,\u001b[0m \u001b[0;34m**\u001b[0m\u001b[0mself\u001b[0m\u001b[0;34m.\u001b[0m\u001b[0moptions\u001b[0m\u001b[0;34m)\u001b[0m  \u001b[0;31m# type: ignore[call-arg]\u001b[0m\u001b[0;34m\u001b[0m\u001b[0;34m\u001b[0m\u001b[0m\n\u001b[0m\u001b[1;32m   1041\u001b[0m \u001b[0;34m\u001b[0m\u001b[0m\n\u001b[1;32m   1042\u001b[0m     \u001b[0;32mdef\u001b[0m \u001b[0m_failover_to_python\u001b[0m\u001b[0;34m(\u001b[0m\u001b[0mself\u001b[0m\u001b[0;34m)\u001b[0m\u001b[0;34m:\u001b[0m\u001b[0;34m\u001b[0m\u001b[0;34m\u001b[0m\u001b[0m\n",
            "\u001b[0;32m/usr/local/lib/python3.7/site-packages/pandas/io/parsers/c_parser_wrapper.py\u001b[0m in \u001b[0;36m__init__\u001b[0;34m(self, src, **kwds)\u001b[0m\n\u001b[1;32m     67\u001b[0m         \u001b[0mkwds\u001b[0m\u001b[0;34m[\u001b[0m\u001b[0;34m\"dtype\"\u001b[0m\u001b[0;34m]\u001b[0m \u001b[0;34m=\u001b[0m \u001b[0mensure_dtype_objs\u001b[0m\u001b[0;34m(\u001b[0m\u001b[0mkwds\u001b[0m\u001b[0;34m.\u001b[0m\u001b[0mget\u001b[0m\u001b[0;34m(\u001b[0m\u001b[0;34m\"dtype\"\u001b[0m\u001b[0;34m,\u001b[0m \u001b[0;32mNone\u001b[0m\u001b[0;34m)\u001b[0m\u001b[0;34m)\u001b[0m\u001b[0;34m\u001b[0m\u001b[0;34m\u001b[0m\u001b[0m\n\u001b[1;32m     68\u001b[0m         \u001b[0;32mtry\u001b[0m\u001b[0;34m:\u001b[0m\u001b[0;34m\u001b[0m\u001b[0;34m\u001b[0m\u001b[0m\n\u001b[0;32m---> 69\u001b[0;31m             \u001b[0mself\u001b[0m\u001b[0;34m.\u001b[0m\u001b[0m_reader\u001b[0m \u001b[0;34m=\u001b[0m \u001b[0mparsers\u001b[0m\u001b[0;34m.\u001b[0m\u001b[0mTextReader\u001b[0m\u001b[0;34m(\u001b[0m\u001b[0mself\u001b[0m\u001b[0;34m.\u001b[0m\u001b[0mhandles\u001b[0m\u001b[0;34m.\u001b[0m\u001b[0mhandle\u001b[0m\u001b[0;34m,\u001b[0m \u001b[0;34m**\u001b[0m\u001b[0mkwds\u001b[0m\u001b[0;34m)\u001b[0m\u001b[0;34m\u001b[0m\u001b[0;34m\u001b[0m\u001b[0m\n\u001b[0m\u001b[1;32m     70\u001b[0m         \u001b[0;32mexcept\u001b[0m \u001b[0mException\u001b[0m\u001b[0;34m:\u001b[0m\u001b[0;34m\u001b[0m\u001b[0;34m\u001b[0m\u001b[0m\n\u001b[1;32m     71\u001b[0m             \u001b[0mself\u001b[0m\u001b[0;34m.\u001b[0m\u001b[0mhandles\u001b[0m\u001b[0;34m.\u001b[0m\u001b[0mclose\u001b[0m\u001b[0;34m(\u001b[0m\u001b[0;34m)\u001b[0m\u001b[0;34m\u001b[0m\u001b[0;34m\u001b[0m\u001b[0m\n",
            "\u001b[0;32m/usr/local/lib/python3.7/site-packages/pandas/_libs/parsers.pyx\u001b[0m in \u001b[0;36mpandas._libs.parsers.TextReader.__cinit__\u001b[0;34m()\u001b[0m\n",
            "\u001b[0;31mEmptyDataError\u001b[0m: No columns to parse from file"
          ]
        }
      ],
      "source": []
    },
    {
      "cell_type": "code",
      "execution_count": null,
      "metadata": {
        "id": "ttYLivMtyAJu"
      },
      "outputs": [],
      "source": [
        "#!cp synthetic_motifs_haystack.fasta /content/drive/MyDrive"
      ]
    }
  ],
  "metadata": {
    "accelerator": "GPU",
    "colab": {
      "collapsed_sections": [],
      "machine_shape": "hm",
      "provenance": [],
      "include_colab_link": true
    },
    "gpuClass": "standard",
    "kernelspec": {
      "display_name": "Python 3",
      "name": "python3"
    },
    "language_info": {
      "name": "python"
    },
    "widgets": {
      "application/vnd.jupyter.widget-state+json": {
        "03bd02738c544c5592f0aab798c2b2cf": {
          "model_module": "@jupyter-widgets/controls",
          "model_name": "HBoxModel",
          "model_module_version": "1.5.0",
          "state": {
            "_dom_classes": [],
            "_model_module": "@jupyter-widgets/controls",
            "_model_module_version": "1.5.0",
            "_model_name": "HBoxModel",
            "_view_count": null,
            "_view_module": "@jupyter-widgets/controls",
            "_view_module_version": "1.5.0",
            "_view_name": "HBoxView",
            "box_style": "",
            "children": [
              "IPY_MODEL_bb0afd4435b14db388b3d02624ba0685",
              "IPY_MODEL_9953dbec8ed34739812b9faaed727938",
              "IPY_MODEL_20eb871ed8ea4f2caa1d0b533f385a55"
            ],
            "layout": "IPY_MODEL_8b005aea5a944512a2235f112609c183"
          }
        },
        "bb0afd4435b14db388b3d02624ba0685": {
          "model_module": "@jupyter-widgets/controls",
          "model_name": "HTMLModel",
          "model_module_version": "1.5.0",
          "state": {
            "_dom_classes": [],
            "_model_module": "@jupyter-widgets/controls",
            "_model_module_version": "1.5.0",
            "_model_name": "HTMLModel",
            "_view_count": null,
            "_view_module": "@jupyter-widgets/controls",
            "_view_module_version": "1.5.0",
            "_view_name": "HTMLView",
            "description": "",
            "description_tooltip": null,
            "layout": "IPY_MODEL_3f013c94d4e040bea6b57feb28d9a213",
            "placeholder": "​",
            "style": "IPY_MODEL_c7ca20400bc54e449cad1fd61e906e14",
            "value": "100%"
          }
        },
        "9953dbec8ed34739812b9faaed727938": {
          "model_module": "@jupyter-widgets/controls",
          "model_name": "FloatProgressModel",
          "model_module_version": "1.5.0",
          "state": {
            "_dom_classes": [],
            "_model_module": "@jupyter-widgets/controls",
            "_model_module_version": "1.5.0",
            "_model_name": "FloatProgressModel",
            "_view_count": null,
            "_view_module": "@jupyter-widgets/controls",
            "_view_module_version": "1.5.0",
            "_view_name": "ProgressView",
            "bar_style": "success",
            "description": "",
            "description_tooltip": null,
            "layout": "IPY_MODEL_fffd7cf145b24c249ad148ba34efb2c4",
            "max": 10000,
            "min": 0,
            "orientation": "horizontal",
            "style": "IPY_MODEL_08b20f87279a4c489112e8e83ff7034b",
            "value": 10000
          }
        },
        "20eb871ed8ea4f2caa1d0b533f385a55": {
          "model_module": "@jupyter-widgets/controls",
          "model_name": "HTMLModel",
          "model_module_version": "1.5.0",
          "state": {
            "_dom_classes": [],
            "_model_module": "@jupyter-widgets/controls",
            "_model_module_version": "1.5.0",
            "_model_name": "HTMLModel",
            "_view_count": null,
            "_view_module": "@jupyter-widgets/controls",
            "_view_module_version": "1.5.0",
            "_view_name": "HTMLView",
            "description": "",
            "description_tooltip": null,
            "layout": "IPY_MODEL_3b9ff79419ac410a8fee5a9b42960fcd",
            "placeholder": "​",
            "style": "IPY_MODEL_79929f3a7e0d49f48d10ec0377c189e7",
            "value": " 10000/10000 [00:00&lt;00:00, 14839.41it/s]"
          }
        },
        "8b005aea5a944512a2235f112609c183": {
          "model_module": "@jupyter-widgets/base",
          "model_name": "LayoutModel",
          "model_module_version": "1.2.0",
          "state": {
            "_model_module": "@jupyter-widgets/base",
            "_model_module_version": "1.2.0",
            "_model_name": "LayoutModel",
            "_view_count": null,
            "_view_module": "@jupyter-widgets/base",
            "_view_module_version": "1.2.0",
            "_view_name": "LayoutView",
            "align_content": null,
            "align_items": null,
            "align_self": null,
            "border": null,
            "bottom": null,
            "display": null,
            "flex": null,
            "flex_flow": null,
            "grid_area": null,
            "grid_auto_columns": null,
            "grid_auto_flow": null,
            "grid_auto_rows": null,
            "grid_column": null,
            "grid_gap": null,
            "grid_row": null,
            "grid_template_areas": null,
            "grid_template_columns": null,
            "grid_template_rows": null,
            "height": null,
            "justify_content": null,
            "justify_items": null,
            "left": null,
            "margin": null,
            "max_height": null,
            "max_width": null,
            "min_height": null,
            "min_width": null,
            "object_fit": null,
            "object_position": null,
            "order": null,
            "overflow": null,
            "overflow_x": null,
            "overflow_y": null,
            "padding": null,
            "right": null,
            "top": null,
            "visibility": null,
            "width": null
          }
        },
        "3f013c94d4e040bea6b57feb28d9a213": {
          "model_module": "@jupyter-widgets/base",
          "model_name": "LayoutModel",
          "model_module_version": "1.2.0",
          "state": {
            "_model_module": "@jupyter-widgets/base",
            "_model_module_version": "1.2.0",
            "_model_name": "LayoutModel",
            "_view_count": null,
            "_view_module": "@jupyter-widgets/base",
            "_view_module_version": "1.2.0",
            "_view_name": "LayoutView",
            "align_content": null,
            "align_items": null,
            "align_self": null,
            "border": null,
            "bottom": null,
            "display": null,
            "flex": null,
            "flex_flow": null,
            "grid_area": null,
            "grid_auto_columns": null,
            "grid_auto_flow": null,
            "grid_auto_rows": null,
            "grid_column": null,
            "grid_gap": null,
            "grid_row": null,
            "grid_template_areas": null,
            "grid_template_columns": null,
            "grid_template_rows": null,
            "height": null,
            "justify_content": null,
            "justify_items": null,
            "left": null,
            "margin": null,
            "max_height": null,
            "max_width": null,
            "min_height": null,
            "min_width": null,
            "object_fit": null,
            "object_position": null,
            "order": null,
            "overflow": null,
            "overflow_x": null,
            "overflow_y": null,
            "padding": null,
            "right": null,
            "top": null,
            "visibility": null,
            "width": null
          }
        },
        "c7ca20400bc54e449cad1fd61e906e14": {
          "model_module": "@jupyter-widgets/controls",
          "model_name": "DescriptionStyleModel",
          "model_module_version": "1.5.0",
          "state": {
            "_model_module": "@jupyter-widgets/controls",
            "_model_module_version": "1.5.0",
            "_model_name": "DescriptionStyleModel",
            "_view_count": null,
            "_view_module": "@jupyter-widgets/base",
            "_view_module_version": "1.2.0",
            "_view_name": "StyleView",
            "description_width": ""
          }
        },
        "fffd7cf145b24c249ad148ba34efb2c4": {
          "model_module": "@jupyter-widgets/base",
          "model_name": "LayoutModel",
          "model_module_version": "1.2.0",
          "state": {
            "_model_module": "@jupyter-widgets/base",
            "_model_module_version": "1.2.0",
            "_model_name": "LayoutModel",
            "_view_count": null,
            "_view_module": "@jupyter-widgets/base",
            "_view_module_version": "1.2.0",
            "_view_name": "LayoutView",
            "align_content": null,
            "align_items": null,
            "align_self": null,
            "border": null,
            "bottom": null,
            "display": null,
            "flex": null,
            "flex_flow": null,
            "grid_area": null,
            "grid_auto_columns": null,
            "grid_auto_flow": null,
            "grid_auto_rows": null,
            "grid_column": null,
            "grid_gap": null,
            "grid_row": null,
            "grid_template_areas": null,
            "grid_template_columns": null,
            "grid_template_rows": null,
            "height": null,
            "justify_content": null,
            "justify_items": null,
            "left": null,
            "margin": null,
            "max_height": null,
            "max_width": null,
            "min_height": null,
            "min_width": null,
            "object_fit": null,
            "object_position": null,
            "order": null,
            "overflow": null,
            "overflow_x": null,
            "overflow_y": null,
            "padding": null,
            "right": null,
            "top": null,
            "visibility": null,
            "width": null
          }
        },
        "08b20f87279a4c489112e8e83ff7034b": {
          "model_module": "@jupyter-widgets/controls",
          "model_name": "ProgressStyleModel",
          "model_module_version": "1.5.0",
          "state": {
            "_model_module": "@jupyter-widgets/controls",
            "_model_module_version": "1.5.0",
            "_model_name": "ProgressStyleModel",
            "_view_count": null,
            "_view_module": "@jupyter-widgets/base",
            "_view_module_version": "1.2.0",
            "_view_name": "StyleView",
            "bar_color": null,
            "description_width": ""
          }
        },
        "3b9ff79419ac410a8fee5a9b42960fcd": {
          "model_module": "@jupyter-widgets/base",
          "model_name": "LayoutModel",
          "model_module_version": "1.2.0",
          "state": {
            "_model_module": "@jupyter-widgets/base",
            "_model_module_version": "1.2.0",
            "_model_name": "LayoutModel",
            "_view_count": null,
            "_view_module": "@jupyter-widgets/base",
            "_view_module_version": "1.2.0",
            "_view_name": "LayoutView",
            "align_content": null,
            "align_items": null,
            "align_self": null,
            "border": null,
            "bottom": null,
            "display": null,
            "flex": null,
            "flex_flow": null,
            "grid_area": null,
            "grid_auto_columns": null,
            "grid_auto_flow": null,
            "grid_auto_rows": null,
            "grid_column": null,
            "grid_gap": null,
            "grid_row": null,
            "grid_template_areas": null,
            "grid_template_columns": null,
            "grid_template_rows": null,
            "height": null,
            "justify_content": null,
            "justify_items": null,
            "left": null,
            "margin": null,
            "max_height": null,
            "max_width": null,
            "min_height": null,
            "min_width": null,
            "object_fit": null,
            "object_position": null,
            "order": null,
            "overflow": null,
            "overflow_x": null,
            "overflow_y": null,
            "padding": null,
            "right": null,
            "top": null,
            "visibility": null,
            "width": null
          }
        },
        "79929f3a7e0d49f48d10ec0377c189e7": {
          "model_module": "@jupyter-widgets/controls",
          "model_name": "DescriptionStyleModel",
          "model_module_version": "1.5.0",
          "state": {
            "_model_module": "@jupyter-widgets/controls",
            "_model_module_version": "1.5.0",
            "_model_name": "DescriptionStyleModel",
            "_view_count": null,
            "_view_module": "@jupyter-widgets/base",
            "_view_module_version": "1.2.0",
            "_view_name": "StyleView",
            "description_width": ""
          }
        },
        "3e106a492880486f961c4063cf928a7f": {
          "model_module": "@jupyter-widgets/controls",
          "model_name": "HBoxModel",
          "model_module_version": "1.5.0",
          "state": {
            "_dom_classes": [],
            "_model_module": "@jupyter-widgets/controls",
            "_model_module_version": "1.5.0",
            "_model_name": "HBoxModel",
            "_view_count": null,
            "_view_module": "@jupyter-widgets/controls",
            "_view_module_version": "1.5.0",
            "_view_name": "HBoxView",
            "box_style": "",
            "children": [
              "IPY_MODEL_66a4b73224d6445f8bdce2c3922a852d",
              "IPY_MODEL_7916e4878a69458dbdd7acdd56aab873",
              "IPY_MODEL_521a6775c6e447af8577e9abbe6253ab"
            ],
            "layout": "IPY_MODEL_72e12279304d4aeeb30e0a07266c7bd6"
          }
        },
        "66a4b73224d6445f8bdce2c3922a852d": {
          "model_module": "@jupyter-widgets/controls",
          "model_name": "HTMLModel",
          "model_module_version": "1.5.0",
          "state": {
            "_dom_classes": [],
            "_model_module": "@jupyter-widgets/controls",
            "_model_module_version": "1.5.0",
            "_model_name": "HTMLModel",
            "_view_count": null,
            "_view_module": "@jupyter-widgets/controls",
            "_view_module_version": "1.5.0",
            "_view_name": "HTMLView",
            "description": "",
            "description_tooltip": null,
            "layout": "IPY_MODEL_fa1901b615174feca40f2ead853c52b9",
            "placeholder": "​",
            "style": "IPY_MODEL_e4ed08ecfbcf4a8a95ecc421737fb26b",
            "value": "100%"
          }
        },
        "7916e4878a69458dbdd7acdd56aab873": {
          "model_module": "@jupyter-widgets/controls",
          "model_name": "FloatProgressModel",
          "model_module_version": "1.5.0",
          "state": {
            "_dom_classes": [],
            "_model_module": "@jupyter-widgets/controls",
            "_model_module_version": "1.5.0",
            "_model_name": "FloatProgressModel",
            "_view_count": null,
            "_view_module": "@jupyter-widgets/controls",
            "_view_module_version": "1.5.0",
            "_view_name": "ProgressView",
            "bar_style": "success",
            "description": "",
            "description_tooltip": null,
            "layout": "IPY_MODEL_0e13139dd9284ac3bf9511c539444eee",
            "max": 10000,
            "min": 0,
            "orientation": "horizontal",
            "style": "IPY_MODEL_b6692833074b4a99b787f21a9c375614",
            "value": 10000
          }
        },
        "521a6775c6e447af8577e9abbe6253ab": {
          "model_module": "@jupyter-widgets/controls",
          "model_name": "HTMLModel",
          "model_module_version": "1.5.0",
          "state": {
            "_dom_classes": [],
            "_model_module": "@jupyter-widgets/controls",
            "_model_module_version": "1.5.0",
            "_model_name": "HTMLModel",
            "_view_count": null,
            "_view_module": "@jupyter-widgets/controls",
            "_view_module_version": "1.5.0",
            "_view_name": "HTMLView",
            "description": "",
            "description_tooltip": null,
            "layout": "IPY_MODEL_f4075ca33df748c68162ec4b8130c1ac",
            "placeholder": "​",
            "style": "IPY_MODEL_66bd4e7094584e7d99c2baf87bf46b59",
            "value": " 10000/10000 [00:00&lt;00:00, 16816.34it/s]"
          }
        },
        "72e12279304d4aeeb30e0a07266c7bd6": {
          "model_module": "@jupyter-widgets/base",
          "model_name": "LayoutModel",
          "model_module_version": "1.2.0",
          "state": {
            "_model_module": "@jupyter-widgets/base",
            "_model_module_version": "1.2.0",
            "_model_name": "LayoutModel",
            "_view_count": null,
            "_view_module": "@jupyter-widgets/base",
            "_view_module_version": "1.2.0",
            "_view_name": "LayoutView",
            "align_content": null,
            "align_items": null,
            "align_self": null,
            "border": null,
            "bottom": null,
            "display": null,
            "flex": null,
            "flex_flow": null,
            "grid_area": null,
            "grid_auto_columns": null,
            "grid_auto_flow": null,
            "grid_auto_rows": null,
            "grid_column": null,
            "grid_gap": null,
            "grid_row": null,
            "grid_template_areas": null,
            "grid_template_columns": null,
            "grid_template_rows": null,
            "height": null,
            "justify_content": null,
            "justify_items": null,
            "left": null,
            "margin": null,
            "max_height": null,
            "max_width": null,
            "min_height": null,
            "min_width": null,
            "object_fit": null,
            "object_position": null,
            "order": null,
            "overflow": null,
            "overflow_x": null,
            "overflow_y": null,
            "padding": null,
            "right": null,
            "top": null,
            "visibility": null,
            "width": null
          }
        },
        "fa1901b615174feca40f2ead853c52b9": {
          "model_module": "@jupyter-widgets/base",
          "model_name": "LayoutModel",
          "model_module_version": "1.2.0",
          "state": {
            "_model_module": "@jupyter-widgets/base",
            "_model_module_version": "1.2.0",
            "_model_name": "LayoutModel",
            "_view_count": null,
            "_view_module": "@jupyter-widgets/base",
            "_view_module_version": "1.2.0",
            "_view_name": "LayoutView",
            "align_content": null,
            "align_items": null,
            "align_self": null,
            "border": null,
            "bottom": null,
            "display": null,
            "flex": null,
            "flex_flow": null,
            "grid_area": null,
            "grid_auto_columns": null,
            "grid_auto_flow": null,
            "grid_auto_rows": null,
            "grid_column": null,
            "grid_gap": null,
            "grid_row": null,
            "grid_template_areas": null,
            "grid_template_columns": null,
            "grid_template_rows": null,
            "height": null,
            "justify_content": null,
            "justify_items": null,
            "left": null,
            "margin": null,
            "max_height": null,
            "max_width": null,
            "min_height": null,
            "min_width": null,
            "object_fit": null,
            "object_position": null,
            "order": null,
            "overflow": null,
            "overflow_x": null,
            "overflow_y": null,
            "padding": null,
            "right": null,
            "top": null,
            "visibility": null,
            "width": null
          }
        },
        "e4ed08ecfbcf4a8a95ecc421737fb26b": {
          "model_module": "@jupyter-widgets/controls",
          "model_name": "DescriptionStyleModel",
          "model_module_version": "1.5.0",
          "state": {
            "_model_module": "@jupyter-widgets/controls",
            "_model_module_version": "1.5.0",
            "_model_name": "DescriptionStyleModel",
            "_view_count": null,
            "_view_module": "@jupyter-widgets/base",
            "_view_module_version": "1.2.0",
            "_view_name": "StyleView",
            "description_width": ""
          }
        },
        "0e13139dd9284ac3bf9511c539444eee": {
          "model_module": "@jupyter-widgets/base",
          "model_name": "LayoutModel",
          "model_module_version": "1.2.0",
          "state": {
            "_model_module": "@jupyter-widgets/base",
            "_model_module_version": "1.2.0",
            "_model_name": "LayoutModel",
            "_view_count": null,
            "_view_module": "@jupyter-widgets/base",
            "_view_module_version": "1.2.0",
            "_view_name": "LayoutView",
            "align_content": null,
            "align_items": null,
            "align_self": null,
            "border": null,
            "bottom": null,
            "display": null,
            "flex": null,
            "flex_flow": null,
            "grid_area": null,
            "grid_auto_columns": null,
            "grid_auto_flow": null,
            "grid_auto_rows": null,
            "grid_column": null,
            "grid_gap": null,
            "grid_row": null,
            "grid_template_areas": null,
            "grid_template_columns": null,
            "grid_template_rows": null,
            "height": null,
            "justify_content": null,
            "justify_items": null,
            "left": null,
            "margin": null,
            "max_height": null,
            "max_width": null,
            "min_height": null,
            "min_width": null,
            "object_fit": null,
            "object_position": null,
            "order": null,
            "overflow": null,
            "overflow_x": null,
            "overflow_y": null,
            "padding": null,
            "right": null,
            "top": null,
            "visibility": null,
            "width": null
          }
        },
        "b6692833074b4a99b787f21a9c375614": {
          "model_module": "@jupyter-widgets/controls",
          "model_name": "ProgressStyleModel",
          "model_module_version": "1.5.0",
          "state": {
            "_model_module": "@jupyter-widgets/controls",
            "_model_module_version": "1.5.0",
            "_model_name": "ProgressStyleModel",
            "_view_count": null,
            "_view_module": "@jupyter-widgets/base",
            "_view_module_version": "1.2.0",
            "_view_name": "StyleView",
            "bar_color": null,
            "description_width": ""
          }
        },
        "f4075ca33df748c68162ec4b8130c1ac": {
          "model_module": "@jupyter-widgets/base",
          "model_name": "LayoutModel",
          "model_module_version": "1.2.0",
          "state": {
            "_model_module": "@jupyter-widgets/base",
            "_model_module_version": "1.2.0",
            "_model_name": "LayoutModel",
            "_view_count": null,
            "_view_module": "@jupyter-widgets/base",
            "_view_module_version": "1.2.0",
            "_view_name": "LayoutView",
            "align_content": null,
            "align_items": null,
            "align_self": null,
            "border": null,
            "bottom": null,
            "display": null,
            "flex": null,
            "flex_flow": null,
            "grid_area": null,
            "grid_auto_columns": null,
            "grid_auto_flow": null,
            "grid_auto_rows": null,
            "grid_column": null,
            "grid_gap": null,
            "grid_row": null,
            "grid_template_areas": null,
            "grid_template_columns": null,
            "grid_template_rows": null,
            "height": null,
            "justify_content": null,
            "justify_items": null,
            "left": null,
            "margin": null,
            "max_height": null,
            "max_width": null,
            "min_height": null,
            "min_width": null,
            "object_fit": null,
            "object_position": null,
            "order": null,
            "overflow": null,
            "overflow_x": null,
            "overflow_y": null,
            "padding": null,
            "right": null,
            "top": null,
            "visibility": null,
            "width": null
          }
        },
        "66bd4e7094584e7d99c2baf87bf46b59": {
          "model_module": "@jupyter-widgets/controls",
          "model_name": "DescriptionStyleModel",
          "model_module_version": "1.5.0",
          "state": {
            "_model_module": "@jupyter-widgets/controls",
            "_model_module_version": "1.5.0",
            "_model_name": "DescriptionStyleModel",
            "_view_count": null,
            "_view_module": "@jupyter-widgets/base",
            "_view_module_version": "1.2.0",
            "_view_name": "StyleView",
            "description_width": ""
          }
        },
        "4a9501f9e87842758e754d540218add9": {
          "model_module": "@jupyter-widgets/controls",
          "model_name": "HBoxModel",
          "model_module_version": "1.5.0",
          "state": {
            "_dom_classes": [],
            "_model_module": "@jupyter-widgets/controls",
            "_model_module_version": "1.5.0",
            "_model_name": "HBoxModel",
            "_view_count": null,
            "_view_module": "@jupyter-widgets/controls",
            "_view_module_version": "1.5.0",
            "_view_name": "HBoxView",
            "box_style": "",
            "children": [
              "IPY_MODEL_8149febfa1964fedbf0a7642f8764091",
              "IPY_MODEL_063d55097cc740ba958a77f6fa6e93fb",
              "IPY_MODEL_0daeaaefa16f4abdb5cdf9419f2adce3"
            ],
            "layout": "IPY_MODEL_fc175bff84fb4b8b901cb18730af0a56"
          }
        },
        "8149febfa1964fedbf0a7642f8764091": {
          "model_module": "@jupyter-widgets/controls",
          "model_name": "HTMLModel",
          "model_module_version": "1.5.0",
          "state": {
            "_dom_classes": [],
            "_model_module": "@jupyter-widgets/controls",
            "_model_module_version": "1.5.0",
            "_model_name": "HTMLModel",
            "_view_count": null,
            "_view_module": "@jupyter-widgets/controls",
            "_view_module_version": "1.5.0",
            "_view_name": "HTMLView",
            "description": "",
            "description_tooltip": null,
            "layout": "IPY_MODEL_f1034414f2364e93b053e09192a5160e",
            "placeholder": "​",
            "style": "IPY_MODEL_181f6882db9d4e0796015903bb4c0c63",
            "value": "epoch 0:  99%"
          }
        },
        "063d55097cc740ba958a77f6fa6e93fb": {
          "model_module": "@jupyter-widgets/controls",
          "model_name": "FloatProgressModel",
          "model_module_version": "1.5.0",
          "state": {
            "_dom_classes": [],
            "_model_module": "@jupyter-widgets/controls",
            "_model_module_version": "1.5.0",
            "_model_name": "FloatProgressModel",
            "_view_count": null,
            "_view_module": "@jupyter-widgets/controls",
            "_view_module_version": "1.5.0",
            "_view_name": "ProgressView",
            "bar_style": "danger",
            "description": "",
            "description_tooltip": null,
            "layout": "IPY_MODEL_c1d08a7230a3416885f1c1c45433f24d",
            "max": 625,
            "min": 0,
            "orientation": "horizontal",
            "style": "IPY_MODEL_6d431d869acb43149ff6fa1e27d84905",
            "value": 620
          }
        },
        "0daeaaefa16f4abdb5cdf9419f2adce3": {
          "model_module": "@jupyter-widgets/controls",
          "model_name": "HTMLModel",
          "model_module_version": "1.5.0",
          "state": {
            "_dom_classes": [],
            "_model_module": "@jupyter-widgets/controls",
            "_model_module_version": "1.5.0",
            "_model_name": "HTMLModel",
            "_view_count": null,
            "_view_module": "@jupyter-widgets/controls",
            "_view_module_version": "1.5.0",
            "_view_name": "HTMLView",
            "description": "",
            "description_tooltip": null,
            "layout": "IPY_MODEL_38fa9b3670064a8ab516b9e2e9bf9dee",
            "placeholder": "​",
            "style": "IPY_MODEL_8884a54af6e446399d858a8b36a81230",
            "value": " 620/625 [04:21&lt;00:02,  2.38it/s]"
          }
        },
        "fc175bff84fb4b8b901cb18730af0a56": {
          "model_module": "@jupyter-widgets/base",
          "model_name": "LayoutModel",
          "model_module_version": "1.2.0",
          "state": {
            "_model_module": "@jupyter-widgets/base",
            "_model_module_version": "1.2.0",
            "_model_name": "LayoutModel",
            "_view_count": null,
            "_view_module": "@jupyter-widgets/base",
            "_view_module_version": "1.2.0",
            "_view_name": "LayoutView",
            "align_content": null,
            "align_items": null,
            "align_self": null,
            "border": null,
            "bottom": null,
            "display": null,
            "flex": null,
            "flex_flow": null,
            "grid_area": null,
            "grid_auto_columns": null,
            "grid_auto_flow": null,
            "grid_auto_rows": null,
            "grid_column": null,
            "grid_gap": null,
            "grid_row": null,
            "grid_template_areas": null,
            "grid_template_columns": null,
            "grid_template_rows": null,
            "height": null,
            "justify_content": null,
            "justify_items": null,
            "left": null,
            "margin": null,
            "max_height": null,
            "max_width": null,
            "min_height": null,
            "min_width": null,
            "object_fit": null,
            "object_position": null,
            "order": null,
            "overflow": null,
            "overflow_x": null,
            "overflow_y": null,
            "padding": null,
            "right": null,
            "top": null,
            "visibility": null,
            "width": null
          }
        },
        "f1034414f2364e93b053e09192a5160e": {
          "model_module": "@jupyter-widgets/base",
          "model_name": "LayoutModel",
          "model_module_version": "1.2.0",
          "state": {
            "_model_module": "@jupyter-widgets/base",
            "_model_module_version": "1.2.0",
            "_model_name": "LayoutModel",
            "_view_count": null,
            "_view_module": "@jupyter-widgets/base",
            "_view_module_version": "1.2.0",
            "_view_name": "LayoutView",
            "align_content": null,
            "align_items": null,
            "align_self": null,
            "border": null,
            "bottom": null,
            "display": null,
            "flex": null,
            "flex_flow": null,
            "grid_area": null,
            "grid_auto_columns": null,
            "grid_auto_flow": null,
            "grid_auto_rows": null,
            "grid_column": null,
            "grid_gap": null,
            "grid_row": null,
            "grid_template_areas": null,
            "grid_template_columns": null,
            "grid_template_rows": null,
            "height": null,
            "justify_content": null,
            "justify_items": null,
            "left": null,
            "margin": null,
            "max_height": null,
            "max_width": null,
            "min_height": null,
            "min_width": null,
            "object_fit": null,
            "object_position": null,
            "order": null,
            "overflow": null,
            "overflow_x": null,
            "overflow_y": null,
            "padding": null,
            "right": null,
            "top": null,
            "visibility": null,
            "width": null
          }
        },
        "181f6882db9d4e0796015903bb4c0c63": {
          "model_module": "@jupyter-widgets/controls",
          "model_name": "DescriptionStyleModel",
          "model_module_version": "1.5.0",
          "state": {
            "_model_module": "@jupyter-widgets/controls",
            "_model_module_version": "1.5.0",
            "_model_name": "DescriptionStyleModel",
            "_view_count": null,
            "_view_module": "@jupyter-widgets/base",
            "_view_module_version": "1.2.0",
            "_view_name": "StyleView",
            "description_width": ""
          }
        },
        "c1d08a7230a3416885f1c1c45433f24d": {
          "model_module": "@jupyter-widgets/base",
          "model_name": "LayoutModel",
          "model_module_version": "1.2.0",
          "state": {
            "_model_module": "@jupyter-widgets/base",
            "_model_module_version": "1.2.0",
            "_model_name": "LayoutModel",
            "_view_count": null,
            "_view_module": "@jupyter-widgets/base",
            "_view_module_version": "1.2.0",
            "_view_name": "LayoutView",
            "align_content": null,
            "align_items": null,
            "align_self": null,
            "border": null,
            "bottom": null,
            "display": null,
            "flex": null,
            "flex_flow": null,
            "grid_area": null,
            "grid_auto_columns": null,
            "grid_auto_flow": null,
            "grid_auto_rows": null,
            "grid_column": null,
            "grid_gap": null,
            "grid_row": null,
            "grid_template_areas": null,
            "grid_template_columns": null,
            "grid_template_rows": null,
            "height": null,
            "justify_content": null,
            "justify_items": null,
            "left": null,
            "margin": null,
            "max_height": null,
            "max_width": null,
            "min_height": null,
            "min_width": null,
            "object_fit": null,
            "object_position": null,
            "order": null,
            "overflow": null,
            "overflow_x": null,
            "overflow_y": null,
            "padding": null,
            "right": null,
            "top": null,
            "visibility": null,
            "width": null
          }
        },
        "6d431d869acb43149ff6fa1e27d84905": {
          "model_module": "@jupyter-widgets/controls",
          "model_name": "ProgressStyleModel",
          "model_module_version": "1.5.0",
          "state": {
            "_model_module": "@jupyter-widgets/controls",
            "_model_module_version": "1.5.0",
            "_model_name": "ProgressStyleModel",
            "_view_count": null,
            "_view_module": "@jupyter-widgets/base",
            "_view_module_version": "1.2.0",
            "_view_name": "StyleView",
            "bar_color": null,
            "description_width": ""
          }
        },
        "38fa9b3670064a8ab516b9e2e9bf9dee": {
          "model_module": "@jupyter-widgets/base",
          "model_name": "LayoutModel",
          "model_module_version": "1.2.0",
          "state": {
            "_model_module": "@jupyter-widgets/base",
            "_model_module_version": "1.2.0",
            "_model_name": "LayoutModel",
            "_view_count": null,
            "_view_module": "@jupyter-widgets/base",
            "_view_module_version": "1.2.0",
            "_view_name": "LayoutView",
            "align_content": null,
            "align_items": null,
            "align_self": null,
            "border": null,
            "bottom": null,
            "display": null,
            "flex": null,
            "flex_flow": null,
            "grid_area": null,
            "grid_auto_columns": null,
            "grid_auto_flow": null,
            "grid_auto_rows": null,
            "grid_column": null,
            "grid_gap": null,
            "grid_row": null,
            "grid_template_areas": null,
            "grid_template_columns": null,
            "grid_template_rows": null,
            "height": null,
            "justify_content": null,
            "justify_items": null,
            "left": null,
            "margin": null,
            "max_height": null,
            "max_width": null,
            "min_height": null,
            "min_width": null,
            "object_fit": null,
            "object_position": null,
            "order": null,
            "overflow": null,
            "overflow_x": null,
            "overflow_y": null,
            "padding": null,
            "right": null,
            "top": null,
            "visibility": null,
            "width": null
          }
        },
        "8884a54af6e446399d858a8b36a81230": {
          "model_module": "@jupyter-widgets/controls",
          "model_name": "DescriptionStyleModel",
          "model_module_version": "1.5.0",
          "state": {
            "_model_module": "@jupyter-widgets/controls",
            "_model_module_version": "1.5.0",
            "_model_name": "DescriptionStyleModel",
            "_view_count": null,
            "_view_module": "@jupyter-widgets/base",
            "_view_module_version": "1.2.0",
            "_view_name": "StyleView",
            "description_width": ""
          }
        }
      }
    }
  },
  "nbformat": 4,
  "nbformat_minor": 0
}